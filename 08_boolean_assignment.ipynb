{
 "cells": [
  {
   "cell_type": "markdown",
   "id": "e004d35a-1763-4875-a899-086b955a25de",
   "metadata": {},
   "source": [
    "### Question 1: Check if 25 is greater than 20 and less than 30"
   ]
  },
  {
   "cell_type": "code",
   "execution_count": 2,
   "id": "38755f8c-a8ae-4bd7-84db-940f4e0631e1",
   "metadata": {},
   "outputs": [
    {
     "name": "stdout",
     "output_type": "stream",
     "text": [
      "True\n"
     ]
    }
   ],
   "source": [
    "x = 25\n",
    "result = (x > 20) and (x < 30)\n",
    "print(result)"
   ]
  },
  {
   "cell_type": "markdown",
   "id": "f51f9689-980b-4fcb-a8c2-2260f9b5be1f",
   "metadata": {},
   "source": [
    "### Question 2: Check if string \"python\" is equal to \"Python\" (case sensitive)"
   ]
  },
  {
   "cell_type": "code",
   "execution_count": 3,
   "id": "1fb84d5f-be54-46c0-bda0-fc630156ac71",
   "metadata": {},
   "outputs": [
    {
     "name": "stdout",
     "output_type": "stream",
     "text": [
      "False\n"
     ]
    }
   ],
   "source": [
    "s=\"python\"\n",
    "if \"python\" == \"Python\":\n",
    "    print(\"True\")\n",
    "else:\n",
    "    print(\"False\")"
   ]
  },
  {
   "cell_type": "markdown",
   "id": "bb0ead7c-8734-45d0-8f05-18fdffdbb40b",
   "metadata": {},
   "source": [
    "### Question 3: Check if 15 is divisible by both 3 and 5"
   ]
  },
  {
   "cell_type": "code",
   "execution_count": 6,
   "id": "4436689b-b9b1-4491-8757-c53cd660c113",
   "metadata": {},
   "outputs": [
    {
     "name": "stdout",
     "output_type": "stream",
     "text": [
      "True\n"
     ]
    }
   ],
   "source": [
    "x=15\n",
    "result = (x % 3 == 0) and (x % 5 == 0)\n",
    "print(result)"
   ]
  },
  {
   "cell_type": "markdown",
   "id": "4296e28b-889f-4b85-97e0-02a38af92ce7",
   "metadata": {},
   "source": [
    "### Question 4: Check if 7 is not equal to 8"
   ]
  },
  {
   "cell_type": "code",
   "execution_count": 7,
   "id": "766ec2b4-99aa-492f-808b-60cf8fbc11fc",
   "metadata": {},
   "outputs": [
    {
     "data": {
      "text/plain": [
       "True"
      ]
     },
     "execution_count": 7,
     "metadata": {},
     "output_type": "execute_result"
    }
   ],
   "source": [
    "7 != 8"
   ]
  },
  {
   "cell_type": "markdown",
   "id": "e9980d38-4bec-4d52-8440-bda09a960d08",
   "metadata": {},
   "source": [
    "### Question 5: Check if 100 is greater than 50 or less than 25"
   ]
  },
  {
   "cell_type": "code",
   "execution_count": 8,
   "id": "ecb29dd7-530b-4ead-a03f-2a1196066604",
   "metadata": {},
   "outputs": [
    {
     "name": "stdout",
     "output_type": "stream",
     "text": [
      "True\n"
     ]
    }
   ],
   "source": [
    "x=100\n",
    "result = (x > 50) or (x < 25)\n",
    "print(result)"
   ]
  },
  {
   "cell_type": "markdown",
   "id": "23d0dbdd-c198-4d6e-b350-a8a7066d7ce2",
   "metadata": {},
   "source": [
    "### Question 6: Check if 0 is falsy in Python"
   ]
  },
  {
   "cell_type": "code",
   "execution_count": 9,
   "id": "0e6453ae-2152-4932-8196-ac8ef76a4810",
   "metadata": {},
   "outputs": [
    {
     "name": "stdout",
     "output_type": "stream",
     "text": [
      "Falsy\n",
      "False\n"
     ]
    }
   ],
   "source": [
    "x = 0\n",
    "if x:\n",
    "    print(\"Truthy\")\n",
    "else:\n",
    "    print(\"Falsy\")\n",
    "print(bool(x))\n"
   ]
  },
  {
   "cell_type": "markdown",
   "id": "82f754ee-aef7-498f-8f1e-f50c3dddb0a6",
   "metadata": {},
   "source": [
    "### Question 7: Check if empty string \"\" is falsy in Python"
   ]
  },
  {
   "cell_type": "code",
   "execution_count": 10,
   "id": "56a1116f-bd00-49b4-a4f5-835ce9e9af60",
   "metadata": {},
   "outputs": [
    {
     "name": "stdout",
     "output_type": "stream",
     "text": [
      "Falsy\n",
      "False\n"
     ]
    }
   ],
   "source": [
    "s = \"\"\n",
    "\n",
    "if s:\n",
    "    print(\"Truthy\")\n",
    "else:\n",
    "    print(\"Falsy\")\n",
    "\n",
    "print(bool(s))\n"
   ]
  },
  {
   "cell_type": "markdown",
   "id": "8455615e-6347-4b7c-a4b1-85a2fc74b25e",
   "metadata": {},
   "source": [
    "### Question 8: Check if 42 is truthy in Python"
   ]
  },
  {
   "cell_type": "code",
   "execution_count": 11,
   "id": "ffdcda2a-ae26-4980-87bb-8d87ce0ab606",
   "metadata": {},
   "outputs": [
    {
     "name": "stdout",
     "output_type": "stream",
     "text": [
      "Truthy\n",
      "True\n"
     ]
    }
   ],
   "source": [
    "x = 42\n",
    "\n",
    "if x:\n",
    "    print(\"Truthy\")\n",
    "else:\n",
    "    print(\"Falsy\")\n",
    "\n",
    "print(bool(x))\n"
   ]
  },
  {
   "cell_type": "markdown",
   "id": "9c64d77b-4867-4dbc-83e1-091ef222ad95",
   "metadata": {},
   "source": [
    "### Question 9: Check if 10 is between 5 and 15 (inclusive)"
   ]
  },
  {
   "cell_type": "code",
   "execution_count": 12,
   "id": "d147baab-a165-4ffd-ba42-bdd0278b90fa",
   "metadata": {},
   "outputs": [
    {
     "name": "stdout",
     "output_type": "stream",
     "text": [
      "True\n"
     ]
    }
   ],
   "source": [
    "x = 10\n",
    "result = 5 <= x <= 15\n",
    "print(result)\n"
   ]
  },
  {
   "cell_type": "markdown",
   "id": "de4605b0-dc78-4d7f-8e60-b6739d0c000e",
   "metadata": {},
   "source": [
    "### Question 10: Check if 3.14 is greater than 3 and less than 4"
   ]
  },
  {
   "cell_type": "code",
   "execution_count": 14,
   "id": "3b14d6c9-c071-4b93-9183-2a8f2242472b",
   "metadata": {},
   "outputs": [
    {
     "name": "stdout",
     "output_type": "stream",
     "text": [
      "True\n"
     ]
    }
   ],
   "source": [
    "x = 3.14\n",
    "result = 3 < x < 4\n",
    "print(result)"
   ]
  },
  {
   "cell_type": "code",
   "execution_count": null,
   "id": "8c67011d-bca3-4aaf-b064-aefa3e6dd519",
   "metadata": {},
   "outputs": [],
   "source": []
  }
 ],
 "metadata": {
  "kernelspec": {
   "display_name": "Python 3 (ipykernel)",
   "language": "python",
   "name": "python3"
  },
  "language_info": {
   "codemirror_mode": {
    "name": "ipython",
    "version": 3
   },
   "file_extension": ".py",
   "mimetype": "text/x-python",
   "name": "python",
   "nbconvert_exporter": "python",
   "pygments_lexer": "ipython3",
   "version": "3.9.7"
  }
 },
 "nbformat": 4,
 "nbformat_minor": 5
}
