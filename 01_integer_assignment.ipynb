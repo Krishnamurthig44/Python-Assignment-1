{
 "cells": [
  {
   "cell_type": "markdown",
   "id": "aaf44ead-914f-4099-9fb8-d7e69b39b451",
   "metadata": {},
   "source": [
    "### Question 1: Calculate the product of first 10 natural numbers"
   ]
  },
  {
   "cell_type": "code",
   "execution_count": 2,
   "id": "470042ab-20d9-43cd-9f21-e2d598c049a8",
   "metadata": {},
   "outputs": [
    {
     "name": "stdout",
     "output_type": "stream",
     "text": [
      "1 2 3 4 5 6 7 8 9 10 "
     ]
    }
   ],
   "source": [
    "for i in range(1,10+1):\n",
    "    print(i, end=\" \")"
   ]
  },
  {
   "cell_type": "markdown",
   "id": "c7292252-0903-41c1-9f2a-e98845610ebb",
   "metadata": {},
   "source": [
    "### Question 2: Find the remainder when 156 is divided by 7"
   ]
  },
  {
   "cell_type": "code",
   "execution_count": 6,
   "id": "6483dc7a-9378-4146-8f28-10a2efad77a6",
   "metadata": {},
   "outputs": [
    {
     "data": {
      "text/plain": [
       "2"
      ]
     },
     "execution_count": 6,
     "metadata": {},
     "output_type": "execute_result"
    }
   ],
   "source": [
    "156%7"
   ]
  },
  {
   "cell_type": "markdown",
   "id": "e83549c2-b8b2-41af-ba5f-33ce86444058",
   "metadata": {},
   "source": [
    "### Question 3: Calculate the square of 25"
   ]
  },
  {
   "cell_type": "code",
   "execution_count": 7,
   "id": "9f0a24bd-6d6f-439a-b0e5-4b52ad6564e6",
   "metadata": {},
   "outputs": [
    {
     "data": {
      "text/plain": [
       "625"
      ]
     },
     "execution_count": 7,
     "metadata": {},
     "output_type": "execute_result"
    }
   ],
   "source": [
    "25**2"
   ]
  },
  {
   "cell_type": "markdown",
   "id": "916fae0c-652c-4b39-8a77-f3be61941a97",
   "metadata": {},
   "source": [
    "### Question 4: Find the cube root of 12"
   ]
  },
  {
   "cell_type": "code",
   "execution_count": 11,
   "id": "3b085c3c-386b-4567-a559-f3d9bcf453dc",
   "metadata": {},
   "outputs": [
    {
     "data": {
      "text/plain": [
       "2.2894284851066637"
      ]
     },
     "execution_count": 11,
     "metadata": {},
     "output_type": "execute_result"
    }
   ],
   "source": [
    "12**(1/3)"
   ]
  },
  {
   "cell_type": "markdown",
   "id": "105a87df-b5e6-473d-9661-ef821e1cfe3b",
   "metadata": {},
   "source": [
    "### Question 5: Calculate the sum of digits in number 12345\n"
   ]
  },
  {
   "cell_type": "code",
   "execution_count": 39,
   "id": "c0bc0a95-663c-4e53-b10c-3a97320f9d60",
   "metadata": {},
   "outputs": [
    {
     "name": "stdout",
     "output_type": "stream",
     "text": [
      "15\n"
     ]
    }
   ],
   "source": [
    "n=5\n",
    "sum=0\n",
    "for i in range(1,n+1):\n",
    "    sum=sum+i\n",
    "print(sum)"
   ]
  },
  {
   "cell_type": "markdown",
   "id": "144dbc7c-2734-44d2-8cf7-9266fe66a435",
   "metadata": {},
   "source": [
    "### Question 6: Check if 97 is a prime number\n"
   ]
  },
  {
   "cell_type": "code",
   "execution_count": 119,
   "id": "bef9a8a5-9253-4af9-8987-fa2a3ef880ae",
   "metadata": {},
   "outputs": [
    {
     "name": "stdout",
     "output_type": "stream",
     "text": [
      "97 is a prime number\n"
     ]
    }
   ],
   "source": [
    "n=97                                #prime numbers=2,3,5,7,9,13,15(Number is divisible by 1 and itself is a prime number)\n",
    "if n<=1:\n",
    "    print(n,\"is not a prime number\")\n",
    "else:\n",
    "    for i in range(2,n):           # for i in range(2,int(n**0.5)+1): \n",
    "        if n%i == 0:               #checking if the number is divisible by other number or not...if its divisible it is not prime else it is prime.\n",
    "            print(n,\"is not a prime number\")\n",
    "            break\n",
    "    else:\n",
    "        print(n,\"is a prime number\")"
   ]
  },
  {
   "cell_type": "markdown",
   "id": "1203abdb-905a-437c-af5a-0e0522bb1b58",
   "metadata": {},
   "source": [
    "### Question 7: Find the factorial of 8"
   ]
  },
  {
   "cell_type": "code",
   "execution_count": 124,
   "id": "e395ca37-85b5-49e0-8d31-c934ee4154b1",
   "metadata": {},
   "outputs": [
    {
     "name": "stdout",
     "output_type": "stream",
     "text": [
      "40320\n"
     ]
    }
   ],
   "source": [
    "n=8\n",
    "flag=1\n",
    "for i in range(1,n+1):\n",
    "    flag=flag*i\n",
    "print(flag)"
   ]
  },
  {
   "cell_type": "markdown",
   "id": "7fd9e2a0-3f3a-4bef-9276-ea16c384b692",
   "metadata": {},
   "source": [
    "### Question 8: Calculate the average of numbers: 15, 23, 31, 42, 56"
   ]
  },
  {
   "cell_type": "code",
   "execution_count": 130,
   "id": "625c6917-07e4-41c8-a28f-afd66996d1d6",
   "metadata": {},
   "outputs": [
    {
     "name": "stdout",
     "output_type": "stream",
     "text": [
      "Average: 33.4\n"
     ]
    }
   ],
   "source": [
    "n=15,23,31,42,56\n",
    "sum=0\n",
    "for i in n:\n",
    "    sum=sum+i\n",
    "print(\"Average:\",sum/len(n))\n",
    "    "
   ]
  },
  {
   "cell_type": "markdown",
   "id": "eaa2af83-139c-421d-8786-4422079378f7",
   "metadata": {},
   "source": [
    "### Question 9: Find the greatest common divisor (GCD) of 48 and 36"
   ]
  },
  {
   "cell_type": "code",
   "execution_count": 150,
   "id": "18bd14f2-0096-4d42-8897-3b16a5e062fe",
   "metadata": {},
   "outputs": [
    {
     "name": "stdout",
     "output_type": "stream",
     "text": [
      "12\n"
     ]
    }
   ],
   "source": [
    "a=48\n",
    "b=36\n",
    "flag = 1\n",
    "for i in range(1,min(a,b)+1):\n",
    "    if a%i==0 and b%i==0:\n",
    "        flag = i\n",
    "print(flag)"
   ]
  },
  {
   "cell_type": "markdown",
   "id": "f410a7b2-ca1d-477d-b100-4e792c310df9",
   "metadata": {},
   "source": [
    "### Question 10: Calculate the sum of first 20 odd numbers"
   ]
  },
  {
   "cell_type": "code",
   "execution_count": 156,
   "id": "d86c3ddc-d6b3-4c01-8b35-f691c530c772",
   "metadata": {},
   "outputs": [
    {
     "name": "stdout",
     "output_type": "stream",
     "text": [
      "400\n"
     ]
    }
   ],
   "source": [
    "sum=0\n",
    "for i in range(1,40,2):\n",
    "    sum=sum+i\n",
    "print(sum)"
   ]
  },
  {
   "cell_type": "markdown",
   "id": "87b925fa-042a-4e74-b96b-3e6c62d47860",
   "metadata": {},
   "source": [
    "#### or"
   ]
  },
  {
   "cell_type": "code",
   "execution_count": 7,
   "id": "268fdd77-71af-4744-9203-ff3db99e593d",
   "metadata": {},
   "outputs": [
    {
     "name": "stdout",
     "output_type": "stream",
     "text": [
      "400\n"
     ]
    }
   ],
   "source": [
    "n=40\n",
    "sum=0\n",
    "for i in range(1,n):\n",
    "    if not i%2 == 0:\n",
    "        sum=sum+i\n",
    "print(sum)"
   ]
  },
  {
   "cell_type": "code",
   "execution_count": null,
   "id": "28ce62c5-9501-4215-8d6f-f9500843c5d2",
   "metadata": {},
   "outputs": [],
   "source": []
  }
 ],
 "metadata": {
  "kernelspec": {
   "display_name": "Python 3 (ipykernel)",
   "language": "python",
   "name": "python3"
  },
  "language_info": {
   "codemirror_mode": {
    "name": "ipython",
    "version": 3
   },
   "file_extension": ".py",
   "mimetype": "text/x-python",
   "name": "python",
   "nbconvert_exporter": "python",
   "pygments_lexer": "ipython3",
   "version": "3.9.7"
  }
 },
 "nbformat": 4,
 "nbformat_minor": 5
}
