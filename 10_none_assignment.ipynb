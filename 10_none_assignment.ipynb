{
 "cells": [
  {
   "cell_type": "markdown",
   "id": "d3c19800-33e9-4c60-9b6d-ed6cd6649e66",
   "metadata": {},
   "source": [
    "### Question 1: Create a variable and assign None to it"
   ]
  },
  {
   "cell_type": "code",
   "execution_count": 1,
   "id": "f9e4cbce-d62d-4379-8694-7c1d72f71f08",
   "metadata": {},
   "outputs": [
    {
     "name": "stdout",
     "output_type": "stream",
     "text": [
      "None\n"
     ]
    }
   ],
   "source": [
    "my_var = None\n",
    "print(my_var)\n"
   ]
  },
  {
   "cell_type": "markdown",
   "id": "12d7e514-7f8a-4a80-9913-91fa38f1b55e",
   "metadata": {},
   "source": [
    "### Question 2: Check if None equals None"
   ]
  },
  {
   "cell_type": "code",
   "execution_count": 2,
   "id": "7aaa7795-5808-4464-aa97-b67663589d85",
   "metadata": {},
   "outputs": [
    {
     "name": "stdout",
     "output_type": "stream",
     "text": [
      "True\n"
     ]
    }
   ],
   "source": [
    "print(None == None) "
   ]
  },
  {
   "cell_type": "markdown",
   "id": "d06fdbd0-9b3e-4cc3-9689-2339796eda4a",
   "metadata": {},
   "source": [
    "### Question 3: Check if None is None"
   ]
  },
  {
   "cell_type": "code",
   "execution_count": 4,
   "id": "96e03088-9e54-45db-94c9-b74ffc1e6a4b",
   "metadata": {},
   "outputs": [
    {
     "name": "stdout",
     "output_type": "stream",
     "text": [
      "True\n"
     ]
    }
   ],
   "source": [
    "x = None\n",
    "print(x is None)\n"
   ]
  },
  {
   "cell_type": "markdown",
   "id": "b00143f7-1f1d-49dd-95d1-ef8fc2d902fd",
   "metadata": {},
   "source": [
    "### Question 4: Check if 0 is None"
   ]
  },
  {
   "cell_type": "code",
   "execution_count": 5,
   "id": "024499b6-4358-4d5c-b544-fbb8745bbca1",
   "metadata": {},
   "outputs": [
    {
     "name": "stdout",
     "output_type": "stream",
     "text": [
      "False\n"
     ]
    }
   ],
   "source": [
    "x = 0\n",
    "print(x is None)\n"
   ]
  },
  {
   "cell_type": "markdown",
   "id": "197c8877-ddb3-41b7-8c29-7944a6a1b84e",
   "metadata": {},
   "source": [
    "### Question 5: Check if empty string is None"
   ]
  },
  {
   "cell_type": "code",
   "execution_count": 6,
   "id": "c1514db2-45f8-41d3-bf20-4eb3969da3dc",
   "metadata": {},
   "outputs": [
    {
     "name": "stdout",
     "output_type": "stream",
     "text": [
      "False\n"
     ]
    }
   ],
   "source": [
    "s = \"\"\n",
    "print(s is None)\n"
   ]
  },
  {
   "cell_type": "markdown",
   "id": "a87450ba-43ea-430a-860f-a04c9fd62015",
   "metadata": {},
   "source": [
    "### Question 6: Check if False is None"
   ]
  },
  {
   "cell_type": "code",
   "execution_count": 7,
   "id": "3f7c1711-7b3a-47fd-a26b-47ad4e17f620",
   "metadata": {},
   "outputs": [
    {
     "name": "stdout",
     "output_type": "stream",
     "text": [
      "False\n"
     ]
    }
   ],
   "source": [
    "x = False\n",
    "print(x is None)\n"
   ]
  },
  {
   "cell_type": "markdown",
   "id": "4ccee6b9-e154-4ca4-93f4-66b388f6ac63",
   "metadata": {},
   "source": [
    "### Question 7: Check if empty list is None"
   ]
  },
  {
   "cell_type": "code",
   "execution_count": 8,
   "id": "b1e13c62-f7fd-4321-8986-c19fd0a1563e",
   "metadata": {},
   "outputs": [
    {
     "name": "stdout",
     "output_type": "stream",
     "text": [
      "False\n"
     ]
    }
   ],
   "source": [
    "lst = []\n",
    "print(lst is None)\n"
   ]
  },
  {
   "cell_type": "markdown",
   "id": "4cb7f867-6599-42c0-bf3a-4fb8c26044c0",
   "metadata": {},
   "source": [
    "### Question 8: Check if empty dictionary is None"
   ]
  },
  {
   "cell_type": "code",
   "execution_count": 9,
   "id": "7bc4bb0c-6835-4c34-aa3c-723db80d7dd9",
   "metadata": {},
   "outputs": [
    {
     "name": "stdout",
     "output_type": "stream",
     "text": [
      "False\n"
     ]
    }
   ],
   "source": [
    "d = {}\n",
    "print(d is None)\n"
   ]
  },
  {
   "cell_type": "markdown",
   "id": "babc82cb-1f04-4619-9cac-0202a616be98",
   "metadata": {},
   "source": [
    "### Question 9: Check if empty tuple is None"
   ]
  },
  {
   "cell_type": "code",
   "execution_count": 10,
   "id": "2356c7ec-d57d-4b67-b47c-a5e5ca4e74e7",
   "metadata": {},
   "outputs": [
    {
     "name": "stdout",
     "output_type": "stream",
     "text": [
      "False\n"
     ]
    }
   ],
   "source": [
    "t = ()\n",
    "print(t is None)\n"
   ]
  },
  {
   "cell_type": "markdown",
   "id": "f569a9e8-a4c5-4e5e-8aa7-fc5de9240785",
   "metadata": {},
   "source": [
    "### Question 10: Check if empty set is None"
   ]
  },
  {
   "cell_type": "code",
   "execution_count": 12,
   "id": "0e18aa91-3573-451b-913c-2a3ab073e506",
   "metadata": {},
   "outputs": [
    {
     "name": "stdout",
     "output_type": "stream",
     "text": [
      "False\n"
     ]
    }
   ],
   "source": [
    "s = set()\n",
    "print(s is None)\n"
   ]
  },
  {
   "cell_type": "code",
   "execution_count": null,
   "id": "f5141794-4ff0-429a-96e0-8a37c998d7dd",
   "metadata": {},
   "outputs": [],
   "source": []
  }
 ],
 "metadata": {
  "kernelspec": {
   "display_name": "Python 3 (ipykernel)",
   "language": "python",
   "name": "python3"
  },
  "language_info": {
   "codemirror_mode": {
    "name": "ipython",
    "version": 3
   },
   "file_extension": ".py",
   "mimetype": "text/x-python",
   "name": "python",
   "nbconvert_exporter": "python",
   "pygments_lexer": "ipython3",
   "version": "3.9.7"
  }
 },
 "nbformat": 4,
 "nbformat_minor": 5
}
