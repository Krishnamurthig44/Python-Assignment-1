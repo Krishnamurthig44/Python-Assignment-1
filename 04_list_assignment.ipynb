{
 "cells": [
  {
   "cell_type": "markdown",
   "id": "d79cd120-318b-466d-a629-542855dd3be4",
   "metadata": {},
   "source": [
    "### Question 1: Create a list of first 10 square numbers"
   ]
  },
  {
   "cell_type": "code",
   "execution_count": 26,
   "id": "30af648e-771a-469d-bd98-b98bb41b9d8a",
   "metadata": {},
   "outputs": [
    {
     "name": "stdout",
     "output_type": "stream",
     "text": [
      "1 4 9 16 25 36 49 64 81 100 "
     ]
    }
   ],
   "source": [
    "l=10\n",
    "for i in range(1,10+1):\n",
    "    print(i**2,end=\" \")"
   ]
  },
  {
   "cell_type": "markdown",
   "id": "1dd3985e-1be8-4477-85db-73c34e6aabc4",
   "metadata": {},
   "source": [
    "### Question 2: Find the sum of all even numbers in [1, 2, 3, 4, 5, 6, 7, 8, 9, 10]"
   ]
  },
  {
   "cell_type": "code",
   "execution_count": 28,
   "id": "3576331a-9859-4987-aaff-79f35a58e61b",
   "metadata": {},
   "outputs": [
    {
     "name": "stdout",
     "output_type": "stream",
     "text": [
      "30\n"
     ]
    }
   ],
   "source": [
    "l=[1, 2, 3, 4, 5, 6, 7, 8, 9, 10]\n",
    "sum=0\n",
    "for i in l:\n",
    "    if i%2 == 0:\n",
    "        sum = sum + i\n",
    "print(sum)"
   ]
  },
  {
   "cell_type": "markdown",
   "id": "c3b8e5c8-4ca5-43f3-badc-a3ae7d8ee17e",
   "metadata": {},
   "source": [
    "### Question 3: Remove duplicates from [1, 2, 2, 3, 4, 4, 5, 6, 6, 7]"
   ]
  },
  {
   "cell_type": "code",
   "execution_count": 29,
   "id": "fde017ec-12c0-4324-a6e2-4081dd242dd9",
   "metadata": {},
   "outputs": [
    {
     "name": "stdout",
     "output_type": "stream",
     "text": [
      "[1, 2, 3, 4, 5, 6, 7]\n"
     ]
    }
   ],
   "source": [
    "l=[1, 2, 2, 3, 4, 4, 5, 6, 6, 7]\n",
    "new=[]\n",
    "for i in l:\n",
    "    if i not in new:\n",
    "        new.append(i)\n",
    "print(new)\n",
    "        "
   ]
  },
  {
   "cell_type": "markdown",
   "id": "8169ec74-6d84-4324-8560-3ece07526310",
   "metadata": {},
   "source": [
    "### Question 4: Sort the list [64, 34, 25, 12, 22, 11, 90] in descending order"
   ]
  },
  {
   "cell_type": "code",
   "execution_count": 39,
   "id": "561fa9fc-7438-4131-8e08-bd4e254ae9d5",
   "metadata": {},
   "outputs": [
    {
     "data": {
      "text/plain": [
       "[90, 64, 34, 25, 22, 12, 11]"
      ]
     },
     "execution_count": 39,
     "metadata": {},
     "output_type": "execute_result"
    }
   ],
   "source": [
    "l=[64, 34, 25, 12, 22, 11, 90]\n",
    "l.sort(reverse=True)\n",
    "l"
   ]
  },
  {
   "cell_type": "markdown",
   "id": "c6b86c9c-4314-4da8-bed0-44a9345de43b",
   "metadata": {},
   "source": [
    "### Question 5: Find the average of numbers in [15, 23, 31, 42, 56, 78, 91]"
   ]
  },
  {
   "cell_type": "code",
   "execution_count": 44,
   "id": "17035ecd-74ba-47e3-8400-14e281e0bad4",
   "metadata": {},
   "outputs": [
    {
     "name": "stdout",
     "output_type": "stream",
     "text": [
      "48.0\n"
     ]
    }
   ],
   "source": [
    "l= [15, 23, 31, 42, 56, 78, 91]\n",
    "sum=0\n",
    "for i in l:\n",
    "    sum = sum + i\n",
    "print(sum/len(l))"
   ]
  },
  {
   "cell_type": "markdown",
   "id": "cc42c055-c98a-483e-b1bf-69d1c32089a1",
   "metadata": {},
   "source": [
    "### Question 6: Create a list of first 15 Fibonacci numbers"
   ]
  },
  {
   "cell_type": "code",
   "execution_count": 48,
   "id": "5299044a-5265-4373-acea-37b59268c3ad",
   "metadata": {},
   "outputs": [
    {
     "name": "stdout",
     "output_type": "stream",
     "text": [
      "[0, 1, 1, 2, 3, 5, 8, 13, 21, 34, 55, 89, 144, 233, 377]\n"
     ]
    }
   ],
   "source": [
    "n=15\n",
    "n1=0\n",
    "n2=1\n",
    "l=[n1,n2]\n",
    "for i in range(2,n):\n",
    "    sum1=n1+n2\n",
    "    l.append(sum1)\n",
    "    n1=n2\n",
    "    n2=sum1\n",
    "print(l)"
   ]
  },
  {
   "cell_type": "markdown",
   "id": "ad39bef6-22c7-4770-a54d-e6689992e58c",
   "metadata": {},
   "source": [
    "### Question 7: Find the second largest number in [45, 67, 23, 89, 12, 34, 78]"
   ]
  },
  {
   "cell_type": "code",
   "execution_count": 52,
   "id": "5ed0efb3-16ba-4744-b2bf-060bd16b239c",
   "metadata": {},
   "outputs": [
    {
     "name": "stdout",
     "output_type": "stream",
     "text": [
      "78\n"
     ]
    }
   ],
   "source": [
    "l=[45, 67, 23, 89, 12, 34, 78]\n",
    "l.sort()\n",
    "print(l[-2])"
   ]
  },
  {
   "cell_type": "markdown",
   "id": "6e4d68e6-5f76-46d8-bb70-9ef3b093fe2c",
   "metadata": {},
   "source": [
    "### Question 8: Reverse the list [1, 2, 3, 4, 5, 6, 7, 8, 9, 10]"
   ]
  },
  {
   "cell_type": "code",
   "execution_count": 59,
   "id": "11276cf1-6a98-43c9-9677-f761c91c0646",
   "metadata": {},
   "outputs": [
    {
     "data": {
      "text/plain": [
       "[10, 9, 8, 7, 6, 5, 4, 3, 2, 1]"
      ]
     },
     "execution_count": 59,
     "metadata": {},
     "output_type": "execute_result"
    }
   ],
   "source": [
    "l=[1, 2, 3, 4, 5, 6, 7, 8, 9, 10]\n",
    "l.reverse()\n",
    "l"
   ]
  },
  {
   "cell_type": "markdown",
   "id": "7c9262fd-a521-4a4f-af27-7c14670f472b",
   "metadata": {},
   "source": [
    "### Question 9: Count how many times 5 appears in [1, 5, 2, 5, 3, 5, 4, 5, 6]"
   ]
  },
  {
   "cell_type": "code",
   "execution_count": 72,
   "id": "86cf2291-e323-4169-9cc3-2eb8b728e430",
   "metadata": {},
   "outputs": [
    {
     "name": "stdout",
     "output_type": "stream",
     "text": [
      "4\n"
     ]
    }
   ],
   "source": [
    "l=[1, 5, 2, 5, 3, 5, 4, 5, 6]\n",
    "count=0\n",
    "for i in l:\n",
    "    if i==5:\n",
    "        count=count+1\n",
    "print(count)"
   ]
  },
  {
   "cell_type": "markdown",
   "id": "0dae7ddf-1632-451c-9e50-d794bc7c183b",
   "metadata": {},
   "source": [
    "### Question 10: Create a list of prime numbers between 1 and 50"
   ]
  },
  {
   "cell_type": "code",
   "execution_count": 102,
   "id": "9e8f2241-9124-4554-b303-31807052ee7b",
   "metadata": {},
   "outputs": [
    {
     "name": "stdout",
     "output_type": "stream",
     "text": [
      "2,3,5,7,11,13,17,19,23,29,31,37,41,43,47,"
     ]
    }
   ],
   "source": [
    "for num in range(2,50):\n",
    "    is_prime=True\n",
    "    for i in range(2,num):\n",
    "        if num % i == 0:\n",
    "            is_prime=False\n",
    "            break\n",
    "    if is_prime == True:\n",
    "        print(num,end=\",\")"
   ]
  },
  {
   "cell_type": "code",
   "execution_count": 103,
   "id": "3aeefa55-48f5-4d44-8f42-a0b3fd8bdf25",
   "metadata": {},
   "outputs": [
    {
     "name": "stdout",
     "output_type": "stream",
     "text": [
      "[2, 3, 5, 7, 11, 13, 17, 19, 23, 29, 31, 37, 41, 43, 47]\n"
     ]
    }
   ],
   "source": [
    "primes = []\n",
    "for i in range(2, 50):\n",
    "    for j in range(2, i):\n",
    "        if i % j == 0:\n",
    "            break\n",
    "    else:  # This else belongs to the for-loop: runs if no break occurs\n",
    "        primes.append(i)\n",
    "\n",
    "print(primes)\n"
   ]
  },
  {
   "cell_type": "markdown",
   "id": "05b2f6f9-b544-413e-ad58-2d0da079f717",
   "metadata": {},
   "source": [
    "### Question 11: Flatten nested list [[1, 2, 3], [4, 5, 6], [7, 8, 9]]"
   ]
  },
  {
   "cell_type": "code",
   "execution_count": 117,
   "id": "4e2b0d3a-fe55-4281-8dac-07b5e6d5f04d",
   "metadata": {},
   "outputs": [
    {
     "name": "stdout",
     "output_type": "stream",
     "text": [
      "[1, 2, 3, 4, 5, 6, 7, 8, 9]\n"
     ]
    }
   ],
   "source": [
    "l1=[[1, 2, 3], [4, 5, 6], [7, 8, 9]]\n",
    "l2=[]\n",
    "for i in l1:\n",
    "    for j in i:\n",
    "        l2.append(j)\n",
    "print(l2)"
   ]
  },
  {
   "cell_type": "markdown",
   "id": "b0a7fb97-ec38-4af5-8123-d2410851884d",
   "metadata": {},
   "source": [
    "### Question 12: Find common elements between [1, 2, 3, 4, 5] and [4, 5, 6, 7, 8]"
   ]
  },
  {
   "cell_type": "code",
   "execution_count": 5,
   "id": "31227b0c-8c77-45be-a3f2-3146c42bfef3",
   "metadata": {},
   "outputs": [
    {
     "name": "stdout",
     "output_type": "stream",
     "text": [
      "{4, 5}\n"
     ]
    }
   ],
   "source": [
    "l1=[1, 2, 3, 4, 5]\n",
    "l2=[4, 5, 6, 7, 8]\n",
    "\n",
    "com=set(l1) & set(l2)\n",
    "print(com)\n",
    "    \n"
   ]
  },
  {
   "cell_type": "code",
   "execution_count": 8,
   "id": "3d1fc756-e756-4987-b04e-32b965703cbe",
   "metadata": {},
   "outputs": [
    {
     "name": "stdout",
     "output_type": "stream",
     "text": [
      "[4, 5]\n"
     ]
    }
   ],
   "source": [
    "l1=[1, 2, 3, 4, 5]\n",
    "l2=[4, 5, 6, 7, 8]\n",
    "com=[]\n",
    "for i in l1:\n",
    "    for j in l2:\n",
    "        if i == j:\n",
    "            com.append(i)\n",
    "print(com)"
   ]
  },
  {
   "cell_type": "markdown",
   "id": "bd329bb1-3190-49ee-aea0-19a995e614c4",
   "metadata": {},
   "source": [
    "### Question 13: Create a list of lists: [[1, 2], [3, 4], [5, 6]]"
   ]
  },
  {
   "cell_type": "code",
   "execution_count": 32,
   "id": "bf1024c4-3b31-4773-9f93-c294118f4372",
   "metadata": {},
   "outputs": [
    {
     "name": "stdout",
     "output_type": "stream",
     "text": [
      "[1, 2, 3, 4, 5, 6]\n"
     ]
    }
   ],
   "source": [
    "l=[[1, 2], [3, 4], [5, 6]]\n",
    "a=[]\n",
    "for i in l:\n",
    "    for j in i:\n",
    "        a.append(j)\n",
    "print(a)"
   ]
  },
  {
   "cell_type": "markdown",
   "id": "5f019470-493a-4e7f-ac4b-309eb6a49e7a",
   "metadata": {},
   "source": [
    "### Question 14: Find the sum of each sublist in [[1, 2, 3], [4, 5, 6], [7, 8, 9]]"
   ]
  },
  {
   "cell_type": "code",
   "execution_count": 38,
   "id": "4ac832b9-bed0-4f56-9fc5-978ecddbc3a1",
   "metadata": {},
   "outputs": [
    {
     "name": "stdout",
     "output_type": "stream",
     "text": [
      "6\n",
      "15\n",
      "24\n"
     ]
    }
   ],
   "source": [
    "l=[[1, 2, 3], [4, 5, 6], [7, 8, 9]]\n",
    "for sublist in l:\n",
    "    print(sum(sublist))\n"
   ]
  },
  {
   "cell_type": "markdown",
   "id": "fa0158a5-bd94-492c-b308-1c9a3bf52ee5",
   "metadata": {},
   "source": [
    "### Question 15: Transpose the matrix [[1, 2, 3], [4, 5, 6], [7, 8, 9]]"
   ]
  },
  {
   "cell_type": "code",
   "execution_count": 3,
   "id": "3c56ea9f-b733-4bbc-9169-bed5dd67d17f",
   "metadata": {},
   "outputs": [
    {
     "name": "stdout",
     "output_type": "stream",
     "text": [
      "[[1, 4, 7], [2, 5, 8], [3, 6, 9]]\n"
     ]
    }
   ],
   "source": [
    "#GPT\n",
    "matrix = [\n",
    "    [1, 2, 3],\n",
    "    [4, 5, 6],\n",
    "    [7, 8, 9]\n",
    "]\n",
    "transpose = [[row[i] for row in matrix] for i in range(len(matrix[0]))]\n",
    "print(transpose)\n"
   ]
  },
  {
   "cell_type": "markdown",
   "id": "e0d7b815-2ee8-40bb-8196-d927d5ec89e4",
   "metadata": {},
   "source": [
    "### Question 16: Find the maximum value in each sublist of [[1, 5, 3], [9, 2, 7], [4, 8, 6]]"
   ]
  },
  {
   "cell_type": "code",
   "execution_count": 41,
   "id": "56bf9ff2-f1c4-4351-97c8-c0e90299b942",
   "metadata": {},
   "outputs": [
    {
     "name": "stdout",
     "output_type": "stream",
     "text": [
      "5\n",
      "9\n",
      "8\n"
     ]
    }
   ],
   "source": [
    "l =  [[1, 5, 3], [9, 2, 7], [4, 8, 6]]\n",
    "for sublist in l:\n",
    "    print(max(sublist))"
   ]
  },
  {
   "cell_type": "markdown",
   "id": "564539d1-afd2-4b41-9202-665a1397aed9",
   "metadata": {},
   "source": [
    "### Question 17: Create a 3D list: [[[1, 2], [3, 4]], [[5, 6], [7, 8]]]"
   ]
  },
  {
   "cell_type": "code",
   "execution_count": 54,
   "id": "67601d5b-9c0a-4eaf-a94e-14aca2b8fbb4",
   "metadata": {},
   "outputs": [
    {
     "name": "stdout",
     "output_type": "stream",
     "text": [
      "1 2 3 4  \n",
      "5 6 7 8  \n"
     ]
    }
   ],
   "source": [
    "l=[[[1, 2], [3, 4]], [[5, 6], [7, 8]]]\n",
    "for i in l:\n",
    "    for j in i:\n",
    "        for k in j:\n",
    "            print(k,end=\" \")\n",
    "    print(\" \")"
   ]
  },
  {
   "cell_type": "markdown",
   "id": "33ef0f64-de39-4d39-923a-e8bac48fb28f",
   "metadata": {},
   "source": [
    "### Question 18: Find the sum of all elements in 3D list [[[1, 2], [3, 4]], [[5, 6], [7, 8]]]"
   ]
  },
  {
   "cell_type": "code",
   "execution_count": 86,
   "id": "48f255d1-b8f3-4977-96f5-92f1dfcc24d1",
   "metadata": {},
   "outputs": [
    {
     "name": "stdout",
     "output_type": "stream",
     "text": [
      "36\n"
     ]
    }
   ],
   "source": [
    "l=[[[1, 2], [3, 4]], [[5, 6], [7, 8]]]\n",
    "sum=0\n",
    "for i in l:\n",
    "    for j in i:\n",
    "        for k in j:\n",
    "            sum =sum + k\n",
    "print(sum)\n"
   ]
  },
  {
   "cell_type": "markdown",
   "id": "a9036638-1c60-4c8c-9cf7-38bb46338806",
   "metadata": {},
   "source": [
    "### Question 19: Extract all even numbers from nested list [[1, 2, 3], [4, 5, 6], [7, 8, 9]]"
   ]
  },
  {
   "cell_type": "code",
   "execution_count": 96,
   "id": "a9654541-911e-4274-8e24-0d2d2fc2f999",
   "metadata": {},
   "outputs": [
    {
     "name": "stdout",
     "output_type": "stream",
     "text": [
      "[2, 4, 6, 8]\n"
     ]
    }
   ],
   "source": [
    "l = [[1, 2, 3], [4, 5, 6], [7, 8, 9]]\n",
    "a=[]\n",
    "for i in l:\n",
    "    for j in i:\n",
    "        if j % 2  == 0:\n",
    "            a.append(j)\n",
    "print(a)"
   ]
  },
  {
   "cell_type": "markdown",
   "id": "e633bb2c-d33a-429a-80b5-e9b14eb84966",
   "metadata": {},
   "source": [
    "### Question 20: Create a list of mixed data types: [1, \"hello\", 3.14, True, [1, 2, 3]]"
   ]
  },
  {
   "cell_type": "code",
   "execution_count": 98,
   "id": "7fcb80b5-323f-469c-b635-67156931d623",
   "metadata": {},
   "outputs": [
    {
     "name": "stdout",
     "output_type": "stream",
     "text": [
      "1 is integer\n",
      "hello is String\n",
      "3.14 is Float\n",
      "True is Boolean\n",
      "[1, 2, 3] is List\n"
     ]
    }
   ],
   "source": [
    "l=[1, \"hello\", 3.14, True, [1, 2, 3]]\n",
    "for i in l:\n",
    "    if isinstance(i, int) and not isinstance(i, bool):\n",
    "        print(i,\"is integer\")\n",
    "    elif isinstance(i, float):\n",
    "        print(i, \"is Float\")\n",
    "    elif isinstance(i, str):\n",
    "        print(i, \"is String\")\n",
    "    elif isinstance(i, bool):\n",
    "        print(i, \"is Boolean\")\n",
    "    elif isinstance(i, list):\n",
    "        print(i, \"is List\")"
   ]
  },
  {
   "cell_type": "markdown",
   "id": "4fb9a25a-6a74-47ee-b0dc-1bb7cd42ab5d",
   "metadata": {},
   "source": [
    "### Question 21: Find the length of each string in [\"apple\", \"banana\", \"cherry\", \"date\"]"
   ]
  },
  {
   "cell_type": "code",
   "execution_count": 102,
   "id": "1131eeec-8938-4b72-9b60-70170c9a03c2",
   "metadata": {},
   "outputs": [
    {
     "name": "stdout",
     "output_type": "stream",
     "text": [
      "apple = 5\n",
      "banana = 6\n",
      "cherry = 6\n",
      "date = 4\n"
     ]
    }
   ],
   "source": [
    "l=[\"apple\", \"banana\", \"cherry\", \"date\"]\n",
    "for i in l:\n",
    "    print(i,\"=\",len(i))"
   ]
  },
  {
   "cell_type": "markdown",
   "id": "ebd8cc57-5cd2-44b2-a3aa-45e01ff17504",
   "metadata": {},
   "source": [
    "### Question 22: Create a list of tuples: [(1, 'a'), (2, 'b'), (3, 'c')]"
   ]
  },
  {
   "cell_type": "code",
   "execution_count": 107,
   "id": "142df3b1-aefe-46b8-9c7f-58019f14befa",
   "metadata": {},
   "outputs": [
    {
     "name": "stdout",
     "output_type": "stream",
     "text": [
      "1 is number\n",
      "a is Charecter\n",
      "2 is number\n",
      "b is Charecter\n",
      "3 is number\n",
      "c is Charecter\n"
     ]
    }
   ],
   "source": [
    "l=[(1, 'a'), (2, 'b'), (3, 'c')]\n",
    "for i in l:\n",
    "    for j in i:\n",
    "        if isinstance(j,int):\n",
    "            print(j, \"is number\")\n",
    "        elif isinstance(j, str):\n",
    "            print(j, \"is Charecter\")"
   ]
  },
  {
   "cell_type": "markdown",
   "id": "397e2c1d-2409-4e6b-9792-37b772f30022",
   "metadata": {},
   "source": [
    "### Question 23: Extract first element from each tuple in [(1, 'a'), (2, 'b'), (3, 'c')]"
   ]
  },
  {
   "cell_type": "code",
   "execution_count": 112,
   "id": "66b8e1e6-0595-4322-8516-97a92cf8ecef",
   "metadata": {},
   "outputs": [
    {
     "name": "stdout",
     "output_type": "stream",
     "text": [
      "[1, 2, 3]\n"
     ]
    }
   ],
   "source": [
    "l= [(1, 'a'), (2, 'b'), (3, 'c')]\n",
    "a=[]\n",
    "for i in l:\n",
    "    for j in i:\n",
    "        if isinstance(j,int):\n",
    "            a.append(j)\n",
    "print(a)"
   ]
  },
  {
   "cell_type": "markdown",
   "id": "62593619-ecf7-4779-8110-90fc7c61a8ae",
   "metadata": {},
   "source": [
    "### Question 24: Create a list of dictionaries: [{'name': 'Alice', 'age': 25}, {'name': 'Bob', 'age': 30}]"
   ]
  },
  {
   "cell_type": "code",
   "execution_count": 117,
   "id": "6547642f-26fe-4e1f-92b5-f051228076f7",
   "metadata": {},
   "outputs": [
    {
     "name": "stdout",
     "output_type": "stream",
     "text": [
      "[{'name': 'Alice', 'age': 25}, {'name': 'Bob', 'age': 30}]\n"
     ]
    }
   ],
   "source": [
    "Emp = [\n",
    "    {'name': 'Alice', 'age': 25},\n",
    "    {'name': 'Bob', 'age': 30}\n",
    "]\n",
    "print(Emp)"
   ]
  },
  {
   "cell_type": "markdown",
   "id": "275d4c33-ab64-4b06-8885-f3e281f85be0",
   "metadata": {},
   "source": [
    "### Question 25: Extract all 'name' values from list of dictionaries"
   ]
  },
  {
   "cell_type": "code",
   "execution_count": 126,
   "id": "d5766a11-12fe-4360-a574-a907d8895c28",
   "metadata": {},
   "outputs": [
    {
     "name": "stdout",
     "output_type": "stream",
     "text": [
      "['Alice', 'Bob']\n"
     ]
    }
   ],
   "source": [
    "Emp = [\n",
    "    {'name': 'Alice', 'age': 25},\n",
    "    {'name': 'Bob', 'age': 30}\n",
    "]\n",
    "name = []\n",
    "for i in Emp:\n",
    "    name.append(i['name'])\n",
    "print(name)"
   ]
  },
  {
   "cell_type": "markdown",
   "id": "3dc57516-e6ce-4b8d-94e3-7dbf80e61960",
   "metadata": {},
   "source": [
    "### Question 26: Find the person with maximum age in list of dictionaries"
   ]
  },
  {
   "cell_type": "code",
   "execution_count": 133,
   "id": "cbd8300f-d140-4d72-bf67-73d1b295f4bb",
   "metadata": {},
   "outputs": [
    {
     "name": "stdout",
     "output_type": "stream",
     "text": [
      "{'name': 'Bob', 'age': 30}\n"
     ]
    }
   ],
   "source": [
    "Emp = [\n",
    "    {'name': 'Alice', 'age': 25},\n",
    "    {'name': 'Bob', 'age': 30}\n",
    "]\n",
    "j=Emp[0]\n",
    "for i in Emp:\n",
    "    if i['age']>j['age']:\n",
    "        j = i\n",
    "print(i)"
   ]
  },
  {
   "cell_type": "markdown",
   "id": "748157ed-eaa2-48f8-ad2e-10cae7d3740c",
   "metadata": {},
   "source": [
    "### Question 27: Create a 4D list: [[[[1, 2], [3, 4]], [[5, 6], [7, 8]]], [[[9, 10], [11, 12]], [[13, 14], [15, 16]]]]"
   ]
  },
  {
   "cell_type": "code",
   "execution_count": 10,
   "id": "da2f109c-3725-4fc0-8d02-9535a1194ad3",
   "metadata": {},
   "outputs": [
    {
     "name": "stdout",
     "output_type": "stream",
     "text": [
      "[[[[1, 2], [3, 4]], [[5, 6], [7, 8]]], [[[9, 10], [11, 12]], [[13, 14], [15, 16]]]]\n"
     ]
    }
   ],
   "source": [
    "l=[[[[1, 2], [3, 4]], [[5, 6], [7, 8]]], [[[9, 10], [11, 12]], [[13, 14], [15, 16]]]]\n",
    "\n",
    "\n",
    "\n",
    "l=[\n",
    "    [\n",
    "        [[1,2],[3,4]],\n",
    "        [[5,6],[7,8]]\n",
    "    ],\n",
    "    [\n",
    "        [[9,10],[11,12]],\n",
    "        [[13,14],[15,16]]\n",
    "    ]\n",
    "]\n",
    "print(l)"
   ]
  },
  {
   "cell_type": "markdown",
   "id": "6beceff6-fb89-4953-9034-e947595ff13e",
   "metadata": {},
   "source": [
    "### Question 28: Find the maximum value in 4D list"
   ]
  },
  {
   "cell_type": "code",
   "execution_count": 27,
   "id": "5b07ea64-f3be-444c-806b-b437d474eaec",
   "metadata": {},
   "outputs": [
    {
     "name": "stdout",
     "output_type": "stream",
     "text": [
      "16\n"
     ]
    }
   ],
   "source": [
    "l=[[[[1, 2], [3, 4]], [[5, 6], [7, 8]]], [[[9, 10], [11, 12]], [[13, 14], [15, 16]]]]\n",
    "a=[]\n",
    "for i in l:\n",
    "    for j in i:\n",
    "        for k in j:\n",
    "            for m in k:\n",
    "                a.append(m)\n",
    "print(max(a))\n",
    "                \n",
    "\n",
    "            "
   ]
  },
  {
   "cell_type": "markdown",
   "id": "d9f9e75f-0250-4b1b-a16a-7879de4cd4f6",
   "metadata": {},
   "source": [
    "### Question 29: Create a list of sets: [{1, 2, 3}, {4, 5, 6}, {7, 8, 9}]"
   ]
  },
  {
   "cell_type": "code",
   "execution_count": 28,
   "id": "e3914df6-0435-42db-9468-853a904e112d",
   "metadata": {},
   "outputs": [
    {
     "name": "stdout",
     "output_type": "stream",
     "text": [
      "[{1, 2, 3}, {4, 5, 6}, {8, 9, 7}]\n"
     ]
    }
   ],
   "source": [
    "l=[{1, 2, 3}, {4, 5, 6}, {7, 8, 9}]\n",
    "print(l)"
   ]
  },
  {
   "cell_type": "markdown",
   "id": "898e9cab-8c33-466d-a519-e776652a4d4f",
   "metadata": {},
   "source": [
    "### Question 30: Find the union of all sets in list of sets"
   ]
  },
  {
   "cell_type": "code",
   "execution_count": 30,
   "id": "c328304a-681c-45eb-a642-e094549d4c60",
   "metadata": {},
   "outputs": [
    {
     "name": "stdout",
     "output_type": "stream",
     "text": [
      "{1, 2, 3, 4, 5, 6, 7, 8, 9}\n"
     ]
    }
   ],
   "source": [
    "l=[{1, 2, 3}, {4, 5, 6}, {7, 8, 9}]\n",
    "union = set().union(*l)  # * used to unpack the list(\"Break the list and pass each item individually\")\n",
    "print(union)"
   ]
  },
  {
   "cell_type": "markdown",
   "id": "5bc97065-9cb8-4b3d-8db9-578cbdd8e109",
   "metadata": {},
   "source": [
    "### Question 31: Create a list of complex numbers: [1+2j, 3+4j, 5+6j]"
   ]
  },
  {
   "cell_type": "code",
   "execution_count": 31,
   "id": "9c684370-3737-4686-a909-da3fa0122e28",
   "metadata": {},
   "outputs": [
    {
     "name": "stdout",
     "output_type": "stream",
     "text": [
      "[(1+2j), (3+4j), (5+6j)]\n"
     ]
    }
   ],
   "source": [
    "l=[1+2j, 3+4j, 5+6j]\n",
    "print(l)"
   ]
  },
  {
   "cell_type": "markdown",
   "id": "f5396bd5-8678-4205-b6b4-662e1cb35542",
   "metadata": {},
   "source": [
    "### Question 32: Find the magnitude of each complex number in list"
   ]
  },
  {
   "cell_type": "code",
   "execution_count": 41,
   "id": "a32fdf64-fc7a-40c0-a420-950e629b74d5",
   "metadata": {},
   "outputs": [
    {
     "name": "stdout",
     "output_type": "stream",
     "text": [
      "Magnitudes: [2.23606797749979, 5.0, 7.810249675906654]\n"
     ]
    }
   ],
   "source": [
    "# The magnitude of a complex number formula: a + b = (a**2+b**2)(1/2)\n",
    "import math\n",
    "\n",
    "l= [1+2j, 3+4j, 5+6j]\n",
    "magnitute = []\n",
    "\n",
    "for i in l:\n",
    "    mag = math.sqrt(i.real**2 + i.imag**2)    #Aplied formula.\n",
    "    magnitute.append(mag)\n",
    "print(\"Magnitudes:\",magnitute)"
   ]
  },
  {
   "cell_type": "markdown",
   "id": "d3837d58-207d-4d01-a51a-9737dea06dd1",
   "metadata": {},
   "source": [
    "### Question 33: Create a nested list with different levels: [1, [2, 3], [4, [5, 6]], 7]"
   ]
  },
  {
   "cell_type": "code",
   "execution_count": 43,
   "id": "28700fce-de78-4d66-8b2b-7b3426bfbf5e",
   "metadata": {},
   "outputs": [
    {
     "name": "stdout",
     "output_type": "stream",
     "text": [
      "[1, [2, 3], [4, [5, 6]], 7]\n"
     ]
    }
   ],
   "source": [
    "l=[1, [2, 3], [4, [5, 6]], 7]\n",
    "print(l)"
   ]
  },
  {
   "cell_type": "markdown",
   "id": "fb69b1fa-bd43-4a92-8d06-8fefc53b3061",
   "metadata": {},
   "source": [
    "### Question 34: Count the depth of nesting in [1, [2, 3], [4, [5, 6]], 7]"
   ]
  },
  {
   "cell_type": "code",
   "execution_count": 4,
   "id": "ba1a95d9-af91-41ee-b5db-537abe2f350b",
   "metadata": {},
   "outputs": [
    {
     "name": "stdout",
     "output_type": "stream",
     "text": [
      "3\n"
     ]
    }
   ],
   "source": [
    "#GPT\n",
    "nested_list = [1, [2, 3], [4, [5, 6]], 7]\n",
    "\n",
    "def list_depth(lst):\n",
    "    if not isinstance(lst, list):  # Base case: not a list\n",
    "        return 0\n",
    "    if not lst:  # Empty list\n",
    "        return 1\n",
    "    return 1 + max(list_depth(item) for item in lst)\n",
    "\n",
    "depth = list_depth(nested_list)\n",
    "print(depth)\n"
   ]
  },
  {
   "cell_type": "markdown",
   "id": "b94a68a1-3fdd-4524-93ac-a3a213d59eb7",
   "metadata": {},
   "source": [
    "### Question 35: Create a list of functions: [len, str, int, float]"
   ]
  },
  {
   "cell_type": "code",
   "execution_count": 56,
   "id": "bdac682a-65a2-4248-a850-caac372bb0fa",
   "metadata": {},
   "outputs": [
    {
     "name": "stdout",
     "output_type": "stream",
     "text": [
      "[<built-in function len>, <class 'str'>, <class 'int'>, <class 'float'>]\n"
     ]
    }
   ],
   "source": [
    "l=[len, str, int, float]\n",
    "print(l)"
   ]
  },
  {
   "cell_type": "markdown",
   "id": "9fd26a9a-93a3-4f17-ba13-196a19caccfa",
   "metadata": {},
   "source": [
    "### Question 36: Apply each function in list to string \"123\""
   ]
  },
  {
   "cell_type": "code",
   "execution_count": 62,
   "id": "1e190737-e58d-46ad-a583-daf12f5d31dd",
   "metadata": {},
   "outputs": [
    {
     "name": "stdout",
     "output_type": "stream",
     "text": [
      "123\n",
      "123.0\n",
      "123\n",
      "3\n"
     ]
    }
   ],
   "source": [
    "l=\"123\"\n",
    "print(int(l))\n",
    "print(float(l))\n",
    "print(str(l))\n",
    "print(len(l))"
   ]
  },
  {
   "cell_type": "markdown",
   "id": "b33087eb-4a4d-4bd7-a58d-5444e10b93ec",
   "metadata": {},
   "source": [
    "### Question 37: Create a list of lambda functions: [lambda x: x*2, lambda x: x**2, lambda x: x+1]"
   ]
  },
  {
   "cell_type": "code",
   "execution_count": 63,
   "id": "955bb5cd-eb49-42f9-8f78-493495569e74",
   "metadata": {},
   "outputs": [
    {
     "name": "stdout",
     "output_type": "stream",
     "text": [
      "[<function <lambda> at 0x0000020FD0AA9280>, <function <lambda> at 0x0000020FD0AA9E50>, <function <lambda> at 0x0000020FD0A2F280>]\n"
     ]
    }
   ],
   "source": [
    "l=[lambda x: x*2, lambda x: x**2, lambda x: x+1]\n",
    "print(l)"
   ]
  },
  {
   "cell_type": "markdown",
   "id": "dcbb60f9-7b81-40d7-9908-d82956b181af",
   "metadata": {},
   "source": [
    "### Question 38: Apply each lambda function to 5"
   ]
  },
  {
   "cell_type": "code",
   "execution_count": 69,
   "id": "e79df982-d52d-4c9e-b60e-e57967556a20",
   "metadata": {},
   "outputs": [
    {
     "name": "stdout",
     "output_type": "stream",
     "text": [
      "10\n",
      "25\n",
      "6\n"
     ]
    }
   ],
   "source": [
    "l=[lambda x: x*2, lambda x: x**2, lambda x: x+1]\n",
    "num=5\n",
    "for i in l:\n",
    "    print(i(num))"
   ]
  },
  {
   "cell_type": "code",
   "execution_count": 70,
   "id": "f74db3db-4f2f-433f-8ae7-20e5d0c15f0e",
   "metadata": {},
   "outputs": [
    {
     "name": "stdout",
     "output_type": "stream",
     "text": [
      "10\n",
      "25\n",
      "6\n"
     ]
    }
   ],
   "source": [
    "l=[lambda x: x*2, lambda x: x**2, lambda x: x+1]\n",
    "num=5\n",
    "print(l[0](num))\n",
    "print(l[1](num))\n",
    "print(l[2](num))"
   ]
  },
  {
   "cell_type": "markdown",
   "id": "7ffe3951-b4c7-4363-8db7-027e2abecfdd",
   "metadata": {},
   "source": [
    "### Question 39: Create a list of classes: [list, dict, set, tuple]"
   ]
  },
  {
   "cell_type": "code",
   "execution_count": 71,
   "id": "6a3acd92-25f5-48be-9ea9-05ed4c40d14d",
   "metadata": {},
   "outputs": [
    {
     "name": "stdout",
     "output_type": "stream",
     "text": [
      "[<class 'list'>, <class 'dict'>, <class 'set'>, <class 'tuple'>]\n"
     ]
    }
   ],
   "source": [
    "l=[list, dict, set, tuple]\n",
    "print(l)"
   ]
  },
  {
   "cell_type": "markdown",
   "id": "d9aea7e2-ed4f-4121-8d01-8be7fd286831",
   "metadata": {},
   "source": [
    "### Question 40: Create instances of each class in list"
   ]
  },
  {
   "cell_type": "code",
   "execution_count": 77,
   "id": "0b64b592-ff45-4c95-9b9d-8f23c3fc3e26",
   "metadata": {},
   "outputs": [
    {
     "name": "stdout",
     "output_type": "stream",
     "text": [
      "<class 'list'> [1, 2, 3]\n",
      "<class 'dict'> [('a', 1), ('b', 2)]\n",
      "<class 'set'> [1, 2, 2, 3]\n",
      "<class 'tuple'> [1, 2, 3]\n"
     ]
    }
   ],
   "source": [
    "l= [list, dict, set, tuple]\n",
    "\n",
    "# Example data for creating instances\n",
    "data_list = [\n",
    "    [1, 2, 3],                # for list\n",
    "    [(\"a\", 1), (\"b\", 2)],     # for dict\n",
    "    [1, 2, 2, 3],              # for set\n",
    "    [1, 2, 3]                  # for tuple\n",
    "]\n",
    "\n",
    "for cls, data in zip(l, data_list):  #zip() takes two (or more) lists and pairs their elements one by one\n",
    "    print(cls, data)\n"
   ]
  },
  {
   "cell_type": "markdown",
   "id": "5045a291-067e-447a-8bbd-3619d0ff5190",
   "metadata": {},
   "source": [
    "### Question 41: Create a list of None values: [None, None, None, None]"
   ]
  },
  {
   "cell_type": "code",
   "execution_count": 78,
   "id": "17a32920-8af4-4679-9a70-679601e4d33f",
   "metadata": {},
   "outputs": [
    {
     "name": "stdout",
     "output_type": "stream",
     "text": [
      "[None, None, None, None]\n"
     ]
    }
   ],
   "source": [
    "l=[None, None, None, None]\n",
    "print(l)"
   ]
  },
  {
   "cell_type": "markdown",
   "id": "9ffe9bbb-9ae6-4fb9-b32b-b03ce5fa3b22",
   "metadata": {},
   "source": [
    "### Question 42: Replace all None values with 0 in list"
   ]
  },
  {
   "cell_type": "code",
   "execution_count": 91,
   "id": "015f2a4f-53eb-4cf4-8cca-b8fd7eb45079",
   "metadata": {},
   "outputs": [
    {
     "name": "stdout",
     "output_type": "stream",
     "text": [
      "[0, 0, 0, 0]\n"
     ]
    }
   ],
   "source": [
    "l=[None, None, None, None]\n",
    "\n",
    "for i in range(len(l)):\n",
    "    if l[i] == None:\n",
    "        l[i] = 0\n",
    "print(l)"
   ]
  },
  {
   "cell_type": "markdown",
   "id": "94f16315-a601-47dd-b113-b411b6c36e34",
   "metadata": {},
   "source": [
    "### Question 43: Create a list of boolean values: [True, False, True, False]"
   ]
  },
  {
   "cell_type": "code",
   "execution_count": 92,
   "id": "2a1d7f55-6e54-455f-8f5e-0e2abee33e99",
   "metadata": {},
   "outputs": [
    {
     "name": "stdout",
     "output_type": "stream",
     "text": [
      "[True, False, True, False]\n"
     ]
    }
   ],
   "source": [
    "l=[True, False, True, False]\n",
    "print(l)"
   ]
  },
  {
   "cell_type": "markdown",
   "id": "ec0b4159-be80-4740-99fe-bf597e9d949d",
   "metadata": {},
   "source": [
    "### Question 44: Count True values in boolean list"
   ]
  },
  {
   "cell_type": "code",
   "execution_count": 96,
   "id": "3850e5ee-34d3-4848-aacc-427be5a36af8",
   "metadata": {},
   "outputs": [
    {
     "name": "stdout",
     "output_type": "stream",
     "text": [
      "3\n"
     ]
    }
   ],
   "source": [
    "l=[True, False, True, False, True]\n",
    "count=0\n",
    "for i in l:\n",
    "    if i == True:\n",
    "        count=count + 1\n",
    "print(count)"
   ]
  },
  {
   "cell_type": "markdown",
   "id": "12de2635-18e2-4624-bd39-6333ab0957a7",
   "metadata": {},
   "source": [
    "### Question 45: Create a list of ranges: [range(3), range(5), range(2)]"
   ]
  },
  {
   "cell_type": "code",
   "execution_count": 104,
   "id": "bcb6e629-6ef2-451b-80e3-73b54b6dddbf",
   "metadata": {},
   "outputs": [
    {
     "name": "stdout",
     "output_type": "stream",
     "text": [
      "[range(0, 3), range(0, 5), range(0, 2)]\n"
     ]
    }
   ],
   "source": [
    "l=[range(3), range(5), range(2)]\n",
    "print(l)"
   ]
  },
  {
   "cell_type": "markdown",
   "id": "e1c711a1-65b1-41ed-97e7-9e5a65008de8",
   "metadata": {},
   "source": [
    "### Question 46: Convert each range to list"
   ]
  },
  {
   "cell_type": "code",
   "execution_count": 103,
   "id": "a830c31e-c050-4930-9e1f-84be0eb1c8c3",
   "metadata": {},
   "outputs": [
    {
     "name": "stdout",
     "output_type": "stream",
     "text": [
      "[0, 1, 2]\n",
      "[0, 1, 2, 3, 4]\n",
      "[0, 1]\n"
     ]
    }
   ],
   "source": [
    "l=[range(3), range(5), range(2)]\n",
    "for i in l:\n",
    "    print(list(i))"
   ]
  },
  {
   "cell_type": "markdown",
   "id": "f101d5fa-c6dc-4438-a9aa-6cb123412ea2",
   "metadata": {},
   "source": [
    "### Question 47: Create a list of generators: [(x for x in range(3)), (x for x in range(5))]"
   ]
  },
  {
   "cell_type": "code",
   "execution_count": 106,
   "id": "13e3436a-e049-45ce-b061-c423b50fd71b",
   "metadata": {},
   "outputs": [
    {
     "name": "stdout",
     "output_type": "stream",
     "text": [
      "[<generator object <genexpr> at 0x0000020FD0C04040>, <generator object <genexpr> at 0x0000020FD0C04120>]\n"
     ]
    }
   ],
   "source": [
    "l=[(x for x in range(3)), (x for x in range(5))]\n",
    "print(l)"
   ]
  },
  {
   "cell_type": "markdown",
   "id": "0f2fa2c3-22cb-40d2-b43f-494e49097ad2",
   "metadata": {},
   "source": [
    "### Question 48: Convert each generator to list"
   ]
  },
  {
   "cell_type": "code",
   "execution_count": 107,
   "id": "8795c651-b456-41af-9087-39f674dce218",
   "metadata": {},
   "outputs": [
    {
     "name": "stdout",
     "output_type": "stream",
     "text": [
      "[0, 1, 2]\n",
      "[0, 1, 2, 3, 4]\n"
     ]
    }
   ],
   "source": [
    "l=[(x for x in range(3)), (x for x in range(5))]\n",
    "for i in l:\n",
    "    print(list(i))"
   ]
  },
  {
   "cell_type": "markdown",
   "id": "bcdfd3f7-b1bd-4950-b806-8aa2bad58bdc",
   "metadata": {},
   "source": [
    "### Question 49: Create a list of iterators: [iter([1, 2, 3]), iter([4, 5, 6])]"
   ]
  },
  {
   "cell_type": "code",
   "execution_count": 108,
   "id": "36983df4-b91b-4e1f-8ccf-50293bdaeb22",
   "metadata": {},
   "outputs": [
    {
     "name": "stdout",
     "output_type": "stream",
     "text": [
      "[<list_iterator object at 0x0000020FD0F47070>, <list_iterator object at 0x0000020FD0F47790>]\n"
     ]
    }
   ],
   "source": [
    "l= [iter([1, 2, 3]), iter([4, 5, 6])]\n",
    "print(l)"
   ]
  },
  {
   "cell_type": "markdown",
   "id": "2b1a3b62-5175-4528-ae27-32821886f285",
   "metadata": {},
   "source": [
    "### Question 50: Extract all elements from each iterator"
   ]
  },
  {
   "cell_type": "code",
   "execution_count": 111,
   "id": "c13f22b6-f1ec-4483-a240-27823ce4bfd1",
   "metadata": {},
   "outputs": [
    {
     "name": "stdout",
     "output_type": "stream",
     "text": [
      "1 2 3 4 5 6 "
     ]
    }
   ],
   "source": [
    "l= [iter([1, 2, 3]), iter([4, 5, 6])]\n",
    "for i in l:\n",
    "    for j in i:\n",
    "        print(j,end=' ')"
   ]
  },
  {
   "cell_type": "code",
   "execution_count": null,
   "id": "0ea9402c-32e5-4d7f-bb02-067513a5658e",
   "metadata": {},
   "outputs": [],
   "source": []
  }
 ],
 "metadata": {
  "kernelspec": {
   "display_name": "Python 3 (ipykernel)",
   "language": "python",
   "name": "python3"
  },
  "language_info": {
   "codemirror_mode": {
    "name": "ipython",
    "version": 3
   },
   "file_extension": ".py",
   "mimetype": "text/x-python",
   "name": "python",
   "nbconvert_exporter": "python",
   "pygments_lexer": "ipython3",
   "version": "3.9.7"
  }
 },
 "nbformat": 4,
 "nbformat_minor": 5
}
