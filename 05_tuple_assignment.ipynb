{
 "cells": [
  {
   "cell_type": "markdown",
   "id": "41f4897e-2e3f-4002-bdb4-39ca1ac9c77b",
   "metadata": {},
   "source": [
    "### Question 1: Create a tuple of first 10 natural numbers"
   ]
  },
  {
   "cell_type": "code",
   "execution_count": 20,
   "id": "628c66d7-6e8b-46ed-9383-39f6c96aa038",
   "metadata": {},
   "outputs": [
    {
     "name": "stdout",
     "output_type": "stream",
     "text": [
      "(1, 2, 3, 4, 5, 6, 7, 8, 9, 10)\n"
     ]
    }
   ],
   "source": [
    "t = 10\n",
    "n=tuple(range(1,t + 1))\n",
    "print(n)"
   ]
  },
  {
   "cell_type": "markdown",
   "id": "dd7dda00-7e27-4cfe-8cb7-629fd53a3979",
   "metadata": {},
   "source": [
    "### Question 2: Find the length of tuple (1, 2, 3, 4, 5, 6, 7, 8, 9, 10)"
   ]
  },
  {
   "cell_type": "code",
   "execution_count": 21,
   "id": "ab4eabca-f81d-4cd9-84a2-a363a0c9e0f9",
   "metadata": {},
   "outputs": [
    {
     "name": "stdout",
     "output_type": "stream",
     "text": [
      "10\n"
     ]
    }
   ],
   "source": [
    "t=(1, 2, 3, 4, 5, 6, 7, 8, 9, 10)\n",
    "print(len(t))"
   ]
  },
  {
   "cell_type": "markdown",
   "id": "b739cc8b-0aee-4922-8363-574d79cf50fa",
   "metadata": {},
   "source": [
    "### Question 3: Access the 3rd element from tuple ('a', 'b', 'c', 'd', 'e')"
   ]
  },
  {
   "cell_type": "code",
   "execution_count": 28,
   "id": "d1737c7f-d4e1-41d4-83cd-839ceabe1042",
   "metadata": {},
   "outputs": [
    {
     "name": "stdout",
     "output_type": "stream",
     "text": [
      "['a', 'b', 'c', 'd', 'e']\n",
      "c\n"
     ]
    }
   ],
   "source": [
    "t=('a', 'b', 'c', 'd', 'e')\n",
    "a=[]\n",
    "for i in t:\n",
    "    a.append(i)\n",
    "print(a)\n",
    "print(a[2])"
   ]
  },
  {
   "cell_type": "markdown",
   "id": "43e65444-108b-488a-b3df-502ce479b93f",
   "metadata": {},
   "source": [
    "### Question 4: Find the maximum value in tuple (23, 45, 12, 67, 34, 89, 56)"
   ]
  },
  {
   "cell_type": "code",
   "execution_count": 29,
   "id": "172a5153-a809-4823-bdcf-ea7130f2e10b",
   "metadata": {},
   "outputs": [
    {
     "name": "stdout",
     "output_type": "stream",
     "text": [
      "89\n"
     ]
    }
   ],
   "source": [
    "t=(23, 45, 12, 67, 34, 89, 56)\n",
    "print(max(t))"
   ]
  },
  {
   "cell_type": "markdown",
   "id": "4d13e27f-2728-461e-824d-dc97da8cdab0",
   "metadata": {},
   "source": [
    "### Question 5: Count how many times 5 appears in (1, 5, 2, 5, 3, 5, 4, 5, 6)"
   ]
  },
  {
   "cell_type": "code",
   "execution_count": 33,
   "id": "6749f8d3-73a7-4066-83c3-f741da35a517",
   "metadata": {},
   "outputs": [
    {
     "name": "stdout",
     "output_type": "stream",
     "text": [
      "4\n"
     ]
    }
   ],
   "source": [
    "t=(1, 5, 2, 5, 3, 5, 4, 5, 6)\n",
    "count=0\n",
    "for i in t:\n",
    "    if i == 5:\n",
    "        count = count + 1\n",
    "print(count)"
   ]
  },
  {
   "cell_type": "markdown",
   "id": "f73268c2-6bbf-44fb-8306-5f598cdd23dd",
   "metadata": {},
   "source": [
    "### Question 6: Create a tuple of mixed data types (integer, float, string, boolean)"
   ]
  },
  {
   "cell_type": "code",
   "execution_count": 34,
   "id": "ffb47be0-1c4e-4557-aaef-9ac9bb8213e7",
   "metadata": {},
   "outputs": [
    {
     "name": "stdout",
     "output_type": "stream",
     "text": [
      "(1, 23.2, 'hi', True)\n"
     ]
    }
   ],
   "source": [
    "t=(1,23.2,'hi',True)\n",
    "print(t)"
   ]
  },
  {
   "cell_type": "markdown",
   "id": "6722d8d4-f709-4b3d-b200-4fa3c7741f11",
   "metadata": {},
   "source": [
    "### Question 7: Find the index of element 'python' in ('java', 'python', 'c++', 'javascript')"
   ]
  },
  {
   "cell_type": "code",
   "execution_count": 48,
   "id": "b6c7ddcb-2207-4c8d-8953-63df164c7024",
   "metadata": {},
   "outputs": [
    {
     "name": "stdout",
     "output_type": "stream",
     "text": [
      "[1]\n"
     ]
    }
   ],
   "source": [
    "t=('java', 'python', 'c++', 'javascript')\n",
    "a=[]\n",
    "for i in t:\n",
    "    if i == 'python':\n",
    "        a.append(t.index(i))\n",
    "print(a)"
   ]
  },
  {
   "cell_type": "code",
   "execution_count": 38,
   "id": "db9e6e09-dbcc-4a23-8f4b-eb0899e1563a",
   "metadata": {},
   "outputs": [
    {
     "data": {
      "text/plain": [
       "1"
      ]
     },
     "execution_count": 38,
     "metadata": {},
     "output_type": "execute_result"
    }
   ],
   "source": [
    "t=('java', 'python', 'c++', 'javascript')\n",
    "t.index(\"python\")"
   ]
  },
  {
   "cell_type": "markdown",
   "id": "458ba27a-4634-42c2-b247-fdb30af6124f",
   "metadata": {},
   "source": [
    "### Question 8: Check if 25 exists in tuple (10, 20, 30, 40, 50)"
   ]
  },
  {
   "cell_type": "code",
   "execution_count": 51,
   "id": "8f4adedc-1cce-4b65-8b39-4bce0bde48f0",
   "metadata": {},
   "outputs": [
    {
     "data": {
      "text/plain": [
       "False"
      ]
     },
     "execution_count": 51,
     "metadata": {},
     "output_type": "execute_result"
    }
   ],
   "source": [
    "t=(10, 20, 30, 40, 50)\n",
    "25 in t"
   ]
  },
  {
   "cell_type": "code",
   "execution_count": 73,
   "id": "026b4696-468e-4352-adb8-277886d69cdd",
   "metadata": {},
   "outputs": [
    {
     "name": "stdout",
     "output_type": "stream",
     "text": [
      "False\n"
     ]
    }
   ],
   "source": [
    "t=(10, 20, 30, 40, 50)\n",
    "for i in t:\n",
    "    if i == 25:\n",
    "        print(\"True\")\n",
    "        break\n",
    "else:\n",
    "    print(\"False\")\n",
    "  "
   ]
  },
  {
   "cell_type": "markdown",
   "id": "fe98c781-e627-44b1-8c46-5c6c9463c5f0",
   "metadata": {},
   "source": [
    "### Question 9: Create a tuple of first 5 even numbers"
   ]
  },
  {
   "cell_type": "code",
   "execution_count": 79,
   "id": "24007222-ee02-4c00-b264-338b165688d2",
   "metadata": {},
   "outputs": [
    {
     "name": "stdout",
     "output_type": "stream",
     "text": [
      "2 4 6 8 10 "
     ]
    }
   ],
   "source": [
    "t=10\n",
    "for i in range(1,t+1):\n",
    "    if i%2 == 0:\n",
    "        print(i,end=\" \")"
   ]
  },
  {
   "cell_type": "markdown",
   "id": "3d6304da-19e5-413e-a9ba-290097cd859d",
   "metadata": {},
   "source": [
    "### Question 10: Find the average of numbers in tuple (15, 23, 31, 42, 56, 78)"
   ]
  },
  {
   "cell_type": "code",
   "execution_count": 86,
   "id": "e1458907-a494-49af-a708-c73ef02dd887",
   "metadata": {},
   "outputs": [
    {
     "name": "stdout",
     "output_type": "stream",
     "text": [
      "40.833333333333336\n"
     ]
    }
   ],
   "source": [
    "t=(15, 23, 31, 42, 56, 78)\n",
    "sum = 0\n",
    "for i in t:\n",
    "    sum = sum + i\n",
    "print(sum/len(t))"
   ]
  },
  {
   "cell_type": "code",
   "execution_count": null,
   "id": "e6a01e75-6591-496e-b2f5-4bac5f0120e1",
   "metadata": {},
   "outputs": [],
   "source": []
  }
 ],
 "metadata": {
  "kernelspec": {
   "display_name": "Python 3 (ipykernel)",
   "language": "python",
   "name": "python3"
  },
  "language_info": {
   "codemirror_mode": {
    "name": "ipython",
    "version": 3
   },
   "file_extension": ".py",
   "mimetype": "text/x-python",
   "name": "python",
   "nbconvert_exporter": "python",
   "pygments_lexer": "ipython3",
   "version": "3.9.7"
  }
 },
 "nbformat": 4,
 "nbformat_minor": 5
}
