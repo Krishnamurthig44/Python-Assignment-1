{
 "cells": [
  {
   "cell_type": "markdown",
   "id": "8e2b838c-5e79-4ba2-87a1-5efccadd217d",
   "metadata": {},
   "source": [
    "### Question 1: Create a set of first 10 natural numbers"
   ]
  },
  {
   "cell_type": "code",
   "execution_count": 1,
   "id": "2fe4f951-c106-41d6-9dd8-8df027bee6df",
   "metadata": {},
   "outputs": [
    {
     "name": "stdout",
     "output_type": "stream",
     "text": [
      "{1, 2, 3, 4, 5, 6, 7, 8, 9, 10}\n"
     ]
    }
   ],
   "source": [
    "s = set(range(1, 11))\n",
    "print(s)\n"
   ]
  },
  {
   "cell_type": "markdown",
   "id": "964732ad-1ff2-4332-8643-923dce76863d",
   "metadata": {},
   "source": [
    "### Question 2: Add element 11 to set {1, 2, 3, 4, 5}"
   ]
  },
  {
   "cell_type": "code",
   "execution_count": 5,
   "id": "4e7dc36d-1925-4d82-aba1-30343f1cc0bc",
   "metadata": {},
   "outputs": [
    {
     "name": "stdout",
     "output_type": "stream",
     "text": [
      "{1, 2, 3, 4, 5, 11}\n"
     ]
    }
   ],
   "source": [
    "s={1, 2, 3, 4, 5}\n",
    "s.add(11)\n",
    "print(s)"
   ]
  },
  {
   "cell_type": "markdown",
   "id": "3957a16e-cb3c-44f3-9b0f-6c0eb298b92a",
   "metadata": {},
   "source": [
    "### Question 3: Remove element 3 from set {1, 2, 3, 4, 5, 6}"
   ]
  },
  {
   "cell_type": "code",
   "execution_count": 6,
   "id": "3853996a-d2b8-469b-8685-edca37193a0a",
   "metadata": {},
   "outputs": [
    {
     "name": "stdout",
     "output_type": "stream",
     "text": [
      "{1, 2, 4, 5, 6}\n"
     ]
    }
   ],
   "source": [
    "s={1, 2, 3, 4, 5, 6}\n",
    "s.remove(3)\n",
    "print(s)"
   ]
  },
  {
   "cell_type": "markdown",
   "id": "9d5a97ed-3f02-461a-b6a9-44fd78b9c633",
   "metadata": {},
   "source": [
    "### Question 4: Find the intersection of {1, 2, 3, 4, 5} and {4, 5, 6, 7, 8}"
   ]
  },
  {
   "cell_type": "code",
   "execution_count": 9,
   "id": "ee47888c-10c9-46a8-8a7e-5d10412eb64b",
   "metadata": {},
   "outputs": [
    {
     "data": {
      "text/plain": [
       "{4, 5}"
      ]
     },
     "execution_count": 9,
     "metadata": {},
     "output_type": "execute_result"
    }
   ],
   "source": [
    "a={1, 2, 3, 4, 5}\n",
    "b={4, 5, 6, 7, 8}\n",
    "a.intersection(b)"
   ]
  },
  {
   "cell_type": "markdown",
   "id": "9cf1ba5c-ca3f-4fb3-b4e0-2b630ccc2fdb",
   "metadata": {},
   "source": [
    "### Question 5: Find the difference between {1, 2, 3, 4, 5} and {4, 5, 6, 7, 8}"
   ]
  },
  {
   "cell_type": "code",
   "execution_count": 10,
   "id": "2fa4eb96-7299-4be8-8434-d73ba71bece6",
   "metadata": {},
   "outputs": [
    {
     "data": {
      "text/plain": [
       "{1, 2, 3}"
      ]
     },
     "execution_count": 10,
     "metadata": {},
     "output_type": "execute_result"
    }
   ],
   "source": [
    "a={1, 2, 3, 4, 5}\n",
    "b={4, 5, 6, 7, 8}\n",
    "a.difference(b)"
   ]
  },
  {
   "cell_type": "markdown",
   "id": "448f1970-f928-47c4-a628-f9d7dbdde42a",
   "metadata": {},
   "source": [
    "### Question 6: Check if 5 is in set {1, 2, 3, 4, 6, 7, 8}"
   ]
  },
  {
   "cell_type": "code",
   "execution_count": 11,
   "id": "3e01a774-1acd-49d5-a184-f07801f2edef",
   "metadata": {},
   "outputs": [
    {
     "data": {
      "text/plain": [
       "False"
      ]
     },
     "execution_count": 11,
     "metadata": {},
     "output_type": "execute_result"
    }
   ],
   "source": [
    "s={1, 2, 3, 4, 6, 7, 8}\n",
    "5 in s"
   ]
  },
  {
   "cell_type": "markdown",
   "id": "6ee7c87c-1796-4f83-a547-ddaa663544d0",
   "metadata": {},
   "source": [
    "### Question 7: Find the length of set {'a', 'b', 'c', 'd', 'e'}"
   ]
  },
  {
   "cell_type": "code",
   "execution_count": 12,
   "id": "722dfd5f-9147-44f6-a984-ff9da678bf3b",
   "metadata": {},
   "outputs": [
    {
     "name": "stdout",
     "output_type": "stream",
     "text": [
      "5\n"
     ]
    }
   ],
   "source": [
    "s={'a', 'b', 'c', 'd', 'e'}\n",
    "print(len(s))"
   ]
  },
  {
   "cell_type": "markdown",
   "id": "8aa18538-8875-4305-92dc-39336cd3de6e",
   "metadata": {},
   "source": [
    "### Question 8: Create a set of vowels from string \"hello world\""
   ]
  },
  {
   "cell_type": "code",
   "execution_count": 18,
   "id": "e5b85f77-af17-44f3-8c7d-8d74183448a1",
   "metadata": {},
   "outputs": [
    {
     "name": "stdout",
     "output_type": "stream",
     "text": [
      "e o o "
     ]
    }
   ],
   "source": [
    "s = \"hello world\"\n",
    "vowels = \"aeiou\"\n",
    "\n",
    "for i in s:\n",
    "    if i in vowels:\n",
    "        print(i,end=\" \")\n"
   ]
  },
  {
   "cell_type": "markdown",
   "id": "4ffc682e-6196-47b3-99e4-f0d6803c9cde",
   "metadata": {},
   "source": [
    "### Question 9: Remove duplicates from list [1, 2, 2, 3, 4, 4, 5, 6, 6, 7] using set"
   ]
  },
  {
   "cell_type": "code",
   "execution_count": 20,
   "id": "3aa2542e-f94b-4ec2-8bb5-779a2b296421",
   "metadata": {},
   "outputs": [
    {
     "name": "stdout",
     "output_type": "stream",
     "text": [
      "{1, 2, 3, 4, 5, 6, 7}\n"
     ]
    }
   ],
   "source": [
    "l=[1, 2, 2, 3, 4, 4, 5, 6, 6, 7]\n",
    "s=set(l)\n",
    "print(s)"
   ]
  },
  {
   "cell_type": "markdown",
   "id": "865afad1-f85f-4b4a-b656-d35847870640",
   "metadata": {},
   "source": [
    "### Question 10: Check if {1, 2, 3} is a subset of {1, 2, 3, 4, 5, 6}"
   ]
  },
  {
   "cell_type": "code",
   "execution_count": 21,
   "id": "2b3bd9c1-f77b-4b6e-af47-f93acc88f662",
   "metadata": {},
   "outputs": [
    {
     "name": "stdout",
     "output_type": "stream",
     "text": [
      "True\n"
     ]
    }
   ],
   "source": [
    "a={1, 2, 3}\n",
    "b={1, 2, 3, 4, 5, 6}\n",
    "print(a.issubset(b))"
   ]
  },
  {
   "cell_type": "code",
   "execution_count": null,
   "id": "d7abebd5-10c5-430e-b4b1-b2273f9276a9",
   "metadata": {},
   "outputs": [],
   "source": []
  }
 ],
 "metadata": {
  "kernelspec": {
   "display_name": "Python 3 (ipykernel)",
   "language": "python",
   "name": "python3"
  },
  "language_info": {
   "codemirror_mode": {
    "name": "ipython",
    "version": 3
   },
   "file_extension": ".py",
   "mimetype": "text/x-python",
   "name": "python",
   "nbconvert_exporter": "python",
   "pygments_lexer": "ipython3",
   "version": "3.9.7"
  }
 },
 "nbformat": 4,
 "nbformat_minor": 5
}
