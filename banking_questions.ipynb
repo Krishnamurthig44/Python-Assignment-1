{
 "cells": [
  {
   "cell_type": "markdown",
   "id": "ec4f51f9-a624-48a1-8d5b-52c924bbc443",
   "metadata": {},
   "source": [
    "### Question 1: Array Creation and Manipulation"
   ]
  },
  {
   "cell_type": "code",
   "execution_count": 1,
   "id": "2a843013-7e1c-439e-b846-addd3617723d",
   "metadata": {},
   "outputs": [],
   "source": [
    "import numpy as np"
   ]
  },
  {
   "cell_type": "code",
   "execution_count": 2,
   "id": "ca86fb40-bc94-4054-99d2-a6f640f42083",
   "metadata": {},
   "outputs": [
    {
     "data": {
      "text/plain": [
       "array([[1., 0., 0., 0.],\n",
       "       [0., 1., 0., 0.],\n",
       "       [0., 0., 1., 0.],\n",
       "       [0., 0., 0., 1.]])"
      ]
     },
     "execution_count": 2,
     "metadata": {},
     "output_type": "execute_result"
    }
   ],
   "source": [
    "# Q1.1: Create a 4x4 identity matrix using np.eye()\n",
    "np.eye(4,4)"
   ]
  },
  {
   "cell_type": "code",
   "execution_count": 3,
   "id": "44450c46-e73a-44d9-ae16-7db4a3971640",
   "metadata": {},
   "outputs": [
    {
     "data": {
      "text/plain": [
       "array([0., 0., 0., 0., 0., 0., 0., 0.])"
      ]
     },
     "execution_count": 3,
     "metadata": {},
     "output_type": "execute_result"
    }
   ],
   "source": [
    "# Q1.2: Create an array of 8 zeros using np.zeros()\n",
    "np.zeros(8)"
   ]
  },
  {
   "cell_type": "code",
   "execution_count": 4,
   "id": "a72f8587-c201-4fbe-9f6f-dd8c6c3bf097",
   "metadata": {},
   "outputs": [
    {
     "data": {
      "text/plain": [
       "array([1., 1., 1., 1., 1., 1.])"
      ]
     },
     "execution_count": 4,
     "metadata": {},
     "output_type": "execute_result"
    }
   ],
   "source": [
    "# Q1.3: Create an array of 6 ones using np.ones()\n",
    "np.ones(6)"
   ]
  },
  {
   "cell_type": "code",
   "execution_count": 5,
   "id": "9fb3d1c2-b419-46cf-b0f7-3dfe48d284d1",
   "metadata": {},
   "outputs": [
    {
     "data": {
      "text/plain": [
       "array([ 0,  1,  2,  3,  4,  5,  6,  7,  8,  9, 10, 11, 12, 13, 14])"
      ]
     },
     "execution_count": 5,
     "metadata": {},
     "output_type": "execute_result"
    }
   ],
   "source": [
    "# Q1.4: Create an array with values from 0 to 15 using np.arange()\n",
    "np.arange(0,15)"
   ]
  },
  {
   "cell_type": "code",
   "execution_count": 6,
   "id": "70559e95-5d00-4beb-af89-c4ad225584ea",
   "metadata": {},
   "outputs": [
    {
     "data": {
      "text/plain": [
       "array([  0.        ,   2.04081633,   4.08163265,   6.12244898,\n",
       "         8.16326531,  10.20408163,  12.24489796,  14.28571429,\n",
       "        16.32653061,  18.36734694,  20.40816327,  22.44897959,\n",
       "        24.48979592,  26.53061224,  28.57142857,  30.6122449 ,\n",
       "        32.65306122,  34.69387755,  36.73469388,  38.7755102 ,\n",
       "        40.81632653,  42.85714286,  44.89795918,  46.93877551,\n",
       "        48.97959184,  51.02040816,  53.06122449,  55.10204082,\n",
       "        57.14285714,  59.18367347,  61.2244898 ,  63.26530612,\n",
       "        65.30612245,  67.34693878,  69.3877551 ,  71.42857143,\n",
       "        73.46938776,  75.51020408,  77.55102041,  79.59183673,\n",
       "        81.63265306,  83.67346939,  85.71428571,  87.75510204,\n",
       "        89.79591837,  91.83673469,  93.87755102,  95.91836735,\n",
       "        97.95918367, 100.        ])"
      ]
     },
     "execution_count": 6,
     "metadata": {},
     "output_type": "execute_result"
    }
   ],
   "source": [
    "# Q1.5: Create an array with 8 evenly spaced values from 0 to 100 using np.linspace()\n",
    "np.linspace(0,100)"
   ]
  },
  {
   "cell_type": "markdown",
   "id": "b1699eb7-0451-49e4-8f16-e8cfe4b3c88a",
   "metadata": {},
   "source": [
    "### Question 2: Array Attributes and Information"
   ]
  },
  {
   "cell_type": "code",
   "execution_count": 7,
   "id": "291762eb-5549-4959-965b-4c2237b19900",
   "metadata": {},
   "outputs": [
    {
     "data": {
      "text/plain": [
       "array([[    1, 25000,   300,  1200,    10],\n",
       "       [    2, 32000,   450,  1500,    15],\n",
       "       [    3, 28000,   380,  1100,     8],\n",
       "       [    4, 41000,   500,  1600,    20],\n",
       "       [    5, 35000,   420,  1400,    12],\n",
       "       [    6, 27000,   360,  1300,     9],\n",
       "       [    7, 39000,   480,  1700,    18],\n",
       "       [    8, 30000,   400,  1250,    14],\n",
       "       [    9, 45000,   550,  1800,    25],\n",
       "       [   10, 33000,   410,  1450,    11]])"
      ]
     },
     "execution_count": 7,
     "metadata": {},
     "output_type": "execute_result"
    }
   ],
   "source": [
    "# Q2.1: What is the shape of the banking_data array?\n",
    "\n",
    "banking_data = np.array([\n",
    "    # Customer_ID, Account_Balance, Credit_Score, Transaction_Count, Years_Active\n",
    "    [1, 25000, 300, 1200, 10],\n",
    "    [2, 32000, 450, 1500, 15],\n",
    "    [3, 28000, 380, 1100, 8],\n",
    "    [4, 41000, 500, 1600, 20],\n",
    "    [5, 35000, 420, 1400, 12],\n",
    "    [6, 27000, 360, 1300, 9],\n",
    "    [7, 39000, 480, 1700, 18],\n",
    "    [8, 30000, 400, 1250, 14],\n",
    "    [9, 45000, 550, 1800, 25],\n",
    "    [10, 33000, 410, 1450, 11]\n",
    "])\n",
    "banking_data"
   ]
  },
  {
   "cell_type": "code",
   "execution_count": 8,
   "id": "6e5cdb63-27d4-4244-b871-7de603426ebd",
   "metadata": {},
   "outputs": [
    {
     "data": {
      "text/plain": [
       "dtype('int64')"
      ]
     },
     "execution_count": 8,
     "metadata": {},
     "output_type": "execute_result"
    }
   ],
   "source": [
    "# Q2.2: What is the data type of the banking_data array?\n",
    "banking_data.dtype"
   ]
  },
  {
   "cell_type": "code",
   "execution_count": 9,
   "id": "5db74e49-1252-4992-b78f-57e2b7d8108d",
   "metadata": {},
   "outputs": [
    {
     "data": {
      "text/plain": [
       "50"
      ]
     },
     "execution_count": 9,
     "metadata": {},
     "output_type": "execute_result"
    }
   ],
   "source": [
    "# Q2.3: What is the size (total number of elements) of the banking_data array?\n",
    "banking_data.size"
   ]
  },
  {
   "cell_type": "code",
   "execution_count": 10,
   "id": "cc722bf9-ff1b-4f16-aa2c-6bd714409f9f",
   "metadata": {},
   "outputs": [
    {
     "data": {
      "text/plain": [
       "2"
      ]
     },
     "execution_count": 10,
     "metadata": {},
     "output_type": "execute_result"
    }
   ],
   "source": [
    "# Q2.4: What is the number of dimensions of the banking_data array?\n",
    "banking_data.ndim"
   ]
  },
  {
   "cell_type": "code",
   "execution_count": 11,
   "id": "a10f8c8e-af09-4dd1-a27f-3ce79253257a",
   "metadata": {},
   "outputs": [
    {
     "data": {
      "text/plain": [
       "400"
      ]
     },
     "execution_count": 11,
     "metadata": {},
     "output_type": "execute_result"
    }
   ],
   "source": [
    "# Q2.5: What is the memory size of the banking_data array in bytes?\n",
    "banking_data.nbytes"
   ]
  },
  {
   "cell_type": "markdown",
   "id": "ea4960f0-8abc-4777-8c89-dad2ae725daa",
   "metadata": {},
   "source": [
    "### Question 3: Indexing and Slicing"
   ]
  },
  {
   "cell_type": "code",
   "execution_count": 12,
   "id": "966860a8-74a8-4c00-93d7-f6446ed1dc66",
   "metadata": {},
   "outputs": [
    {
     "data": {
      "text/plain": [
       "array([    1, 25000,   300,  1200,    10])"
      ]
     },
     "execution_count": 12,
     "metadata": {},
     "output_type": "execute_result"
    }
   ],
   "source": [
    "# Q3.1: Extract the first row of banking_data\n",
    "banking_data[0]"
   ]
  },
  {
   "cell_type": "code",
   "execution_count": 13,
   "id": "3b5b9231-12fe-4c7b-be89-0ca9f0f09dc5",
   "metadata": {},
   "outputs": [
    {
     "data": {
      "text/plain": [
       "array([   10, 33000,   410,  1450,    11])"
      ]
     },
     "execution_count": 13,
     "metadata": {},
     "output_type": "execute_result"
    }
   ],
   "source": [
    "# Q3.2: Extract the last row of banking_data\n",
    "banking_data[-1]"
   ]
  },
  {
   "cell_type": "code",
   "execution_count": 14,
   "id": "5470d92d-9cec-4861-997a-ccc16ae5ea11",
   "metadata": {},
   "outputs": [
    {
     "data": {
      "text/plain": [
       "array([[25000],\n",
       "       [32000],\n",
       "       [28000],\n",
       "       [41000],\n",
       "       [35000],\n",
       "       [27000],\n",
       "       [39000],\n",
       "       [30000],\n",
       "       [45000],\n",
       "       [33000]])"
      ]
     },
     "execution_count": 14,
     "metadata": {},
     "output_type": "execute_result"
    }
   ],
   "source": [
    "# Q3.3: Extract the Account_Balance column (column index 1)\n",
    "banking_data[:,1:2]"
   ]
  },
  {
   "cell_type": "code",
   "execution_count": 15,
   "id": "04c60ba3-e993-4137-9e88-82ed28d09d8b",
   "metadata": {},
   "outputs": [
    {
     "data": {
      "text/plain": [
       "array([[    1, 25000,   300],\n",
       "       [    2, 32000,   450],\n",
       "       [    3, 28000,   380],\n",
       "       [    4, 41000,   500]])"
      ]
     },
     "execution_count": 15,
     "metadata": {},
     "output_type": "execute_result"
    }
   ],
   "source": [
    "# Q3.4: Extract the first 4 rows and first 3 columns\n",
    "banking_data[0:4,0:3]"
   ]
  },
  {
   "cell_type": "code",
   "execution_count": 16,
   "id": "77925ea2-b2ff-4c37-b14c-c42814ebe2dd",
   "metadata": {},
   "outputs": [
    {
     "data": {
      "text/plain": [
       "array([[    4, 41000,   500,  1600,    20],\n",
       "       [    5, 35000,   420,  1400,    12],\n",
       "       [    6, 27000,   360,  1300,     9],\n",
       "       [    7, 39000,   480,  1700,    18]])"
      ]
     },
     "execution_count": 16,
     "metadata": {},
     "output_type": "execute_result"
    }
   ],
   "source": [
    "# Q3.5: Extract rows 3 to 7 (inclusive)\n",
    "banking_data[3:7]"
   ]
  },
  {
   "cell_type": "markdown",
   "id": "a7a5daf5-10d3-4ec3-8c90-3b7e9b46d2b1",
   "metadata": {},
   "source": [
    "### Question 4: Mathematical Operations"
   ]
  },
  {
   "cell_type": "code",
   "execution_count": 17,
   "id": "55c86658-5d51-4fe5-9631-c6e7b8e50831",
   "metadata": {},
   "outputs": [
    {
     "data": {
      "text/plain": [
       "np.int64(335000)"
      ]
     },
     "execution_count": 17,
     "metadata": {},
     "output_type": "execute_result"
    }
   ],
   "source": [
    "# Q4.1: Calculate the sum of all account balances\n",
    "banking_data[:,1:2].sum()"
   ]
  },
  {
   "cell_type": "code",
   "execution_count": 18,
   "id": "53d2d5f9-5ffd-495f-97d6-c3e1d3e759bc",
   "metadata": {},
   "outputs": [
    {
     "data": {
      "text/plain": [
       "np.int64(335000)"
      ]
     },
     "execution_count": 18,
     "metadata": {},
     "output_type": "execute_result"
    }
   ],
   "source": [
    "sum_account=np.sum(banking_data[:,1])\n",
    "sum_account"
   ]
  },
  {
   "cell_type": "markdown",
   "id": "04bbbd8f-f288-4676-9cf4-a87c3ce24b58",
   "metadata": {},
   "source": [
    "# Q4.2: Calculate the mean account balance\n",
    "banking_data[:,1:2].mean()"
   ]
  },
  {
   "cell_type": "code",
   "execution_count": 19,
   "id": "81242c3c-bfd8-4910-8d01-5c5fbd6f81ef",
   "metadata": {},
   "outputs": [
    {
     "data": {
      "text/plain": [
       "np.float64(6168.468205316454)"
      ]
     },
     "execution_count": 19,
     "metadata": {},
     "output_type": "execute_result"
    }
   ],
   "source": [
    "# Q4.3: Calculate the standard deviation of account balances\n",
    "banking_data[:,1:2].std()"
   ]
  },
  {
   "cell_type": "code",
   "execution_count": 20,
   "id": "2b2e07ca-246b-41a1-bb4e-d120bece3588",
   "metadata": {},
   "outputs": [
    {
     "data": {
      "text/plain": [
       "np.float64(38050000.0)"
      ]
     },
     "execution_count": 20,
     "metadata": {},
     "output_type": "execute_result"
    }
   ],
   "source": [
    "# Q4.4: Calculate the variance of account balances\n",
    "banking_data[:,1:2].var()"
   ]
  },
  {
   "cell_type": "code",
   "execution_count": 21,
   "id": "030680b9-3ec6-44c2-b009-c59d134d9190",
   "metadata": {},
   "outputs": [
    {
     "data": {
      "text/plain": [
       "np.float64(32500.0)"
      ]
     },
     "execution_count": 21,
     "metadata": {},
     "output_type": "execute_result"
    }
   ],
   "source": [
    "# Q4.5: Calculate the median account balance\n",
    "import numpy as np\n",
    "np.median(banking_data[:,1])"
   ]
  },
  {
   "cell_type": "markdown",
   "id": "44695cb8-510a-4ebb-9f10-6c6415b5db35",
   "metadata": {},
   "source": [
    "### Question 5: Statistical Functions"
   ]
  },
  {
   "cell_type": "code",
   "execution_count": 22,
   "id": "bd99bc95-f34d-4a56-9afd-d4bbdf3b6a18",
   "metadata": {},
   "outputs": [
    {
     "data": {
      "text/plain": [
       "np.int64(25000)"
      ]
     },
     "execution_count": 22,
     "metadata": {},
     "output_type": "execute_result"
    }
   ],
   "source": [
    "# Q5.1: Find the minimum and maximum account balances\n",
    "banking_data[:,1:2].min()\n"
   ]
  },
  {
   "cell_type": "code",
   "execution_count": 23,
   "id": "19ed2429-3326-48d6-a50b-d148d6455479",
   "metadata": {},
   "outputs": [
    {
     "data": {
      "text/plain": [
       "np.int64(45000)"
      ]
     },
     "execution_count": 23,
     "metadata": {},
     "output_type": "execute_result"
    }
   ],
   "source": [
    "banking_data[:,1:2].max()"
   ]
  },
  {
   "cell_type": "code",
   "execution_count": 24,
   "id": "a4839a9a-4a8d-4d33-8245-d1a179259def",
   "metadata": {},
   "outputs": [
    {
     "data": {
      "text/plain": [
       "np.int64(300)"
      ]
     },
     "execution_count": 24,
     "metadata": {},
     "output_type": "execute_result"
    }
   ],
   "source": [
    "# Q5.2: Find the minimum and maximum credit scores\n",
    "banking_data[:,2:3].min()"
   ]
  },
  {
   "cell_type": "code",
   "execution_count": 25,
   "id": "50b26e13-fc5a-4ce4-9226-f1f36156ab89",
   "metadata": {},
   "outputs": [
    {
     "data": {
      "text/plain": [
       "np.int64(550)"
      ]
     },
     "execution_count": 25,
     "metadata": {},
     "output_type": "execute_result"
    }
   ],
   "source": [
    "banking_data[:,2:3].max()"
   ]
  },
  {
   "cell_type": "code",
   "execution_count": 26,
   "id": "710cf88a-8a4e-4b3d-8cb1-35e46007e06c",
   "metadata": {},
   "outputs": [
    {
     "data": {
      "text/plain": [
       "array([28500., 32500., 38000.])"
      ]
     },
     "execution_count": 26,
     "metadata": {},
     "output_type": "execute_result"
    }
   ],
   "source": [
    "#GPT\n",
    "# Q5.3: Calculate the percentile values for account balances (25th, 50th, 75th)\n",
    "import numpy as np\n",
    "\n",
    "# Extract Account_Balance column\n",
    "account_balance = banking_data[:, 1]\n",
    "\n",
    "# Calculate 25th, 50th, 75th percentiles\n",
    "percentile=np.quantile(account_balance,[0.25,0.5,0.75])\n",
    "percentile"
   ]
  },
  {
   "cell_type": "code",
   "execution_count": 27,
   "id": "17594814-6d0b-485f-ba4a-9ca6e505ae8c",
   "metadata": {},
   "outputs": [
    {
     "name": "stdout",
     "output_type": "stream",
     "text": [
      "Correlation: 0.9593636912502479\n"
     ]
    }
   ],
   "source": [
    "#GPT\n",
    "# Q5.4: Calculate the correlation between account balance and credit score\n",
    "import numpy as np\n",
    "\n",
    "# Extract columns\n",
    "account_balance = banking_data[:,1]\n",
    "credit_score = banking_data[:,2]\n",
    "\n",
    "# Calculate correlation\n",
    "correlation_matrix = np.corrcoef(account_balance, credit_score)\n",
    "correlation = correlation_matrix[0, 1]\n",
    "print(\"Correlation:\", correlation)"
   ]
  },
  {
   "cell_type": "code",
   "execution_count": 28,
   "id": "39b3cea9-ec12-4d51-b8fd-2aad111124db",
   "metadata": {},
   "outputs": [
    {
     "name": "stdout",
     "output_type": "stream",
     "text": [
      "Covariance: 408500.0\n"
     ]
    }
   ],
   "source": [
    "#GPT\n",
    "# Q5.5: Calculate the covariance between account balance and credit score\n",
    "import numpy as np\n",
    "\n",
    "# Extract columns\n",
    "account_balance = banking_data[:, 1]\n",
    "credit_score = banking_data[:, 2]\n",
    "\n",
    "# Calculate covariance\n",
    "cov_matrix = np.cov(account_balance, credit_score, ddof=0)  # population covariance\n",
    "covariance = cov_matrix[0, 1]\n",
    "print(\"Covariance:\", covariance)"
   ]
  },
  {
   "cell_type": "markdown",
   "id": "c97f61fd-fcab-4b3d-9dd7-de0fc62844d6",
   "metadata": {},
   "source": [
    "### Question 6: Array Reshaping and Manipulation"
   ]
  },
  {
   "cell_type": "code",
   "execution_count": 29,
   "id": "7f4f68d7-cb78-4c2a-8561-bd3ae36d90d8",
   "metadata": {},
   "outputs": [
    {
     "data": {
      "text/plain": [
       "array([[    1, 25000,   300,  1200,    10,     2, 32000,   450,  1500,\n",
       "           15],\n",
       "       [    3, 28000,   380,  1100,     8,     4, 41000,   500,  1600,\n",
       "           20],\n",
       "       [    5, 35000,   420,  1400,    12,     6, 27000,   360,  1300,\n",
       "            9],\n",
       "       [    7, 39000,   480,  1700,    18,     8, 30000,   400,  1250,\n",
       "           14],\n",
       "       [    9, 45000,   550,  1800,    25,    10, 33000,   410,  1450,\n",
       "           11]])"
      ]
     },
     "execution_count": 29,
     "metadata": {},
     "output_type": "execute_result"
    }
   ],
   "source": [
    "# Q6.1: Reshape the banking_data to 5 rows × 10 columns\n",
    "banking_data.reshape(5,10)"
   ]
  },
  {
   "cell_type": "code",
   "execution_count": 30,
   "id": "3684c329-fb34-4d69-97b7-df968626838b",
   "metadata": {},
   "outputs": [
    {
     "data": {
      "text/plain": [
       "array([    1, 25000,   300,  1200,    10,     2, 32000,   450,  1500,\n",
       "          15,     3, 28000,   380,  1100,     8,     4, 41000,   500,\n",
       "        1600,    20,     5, 35000,   420,  1400,    12,     6, 27000,\n",
       "         360,  1300,     9,     7, 39000,   480,  1700,    18,     8,\n",
       "       30000,   400,  1250,    14,     9, 45000,   550,  1800,    25,\n",
       "          10, 33000,   410,  1450,    11])"
      ]
     },
     "execution_count": 30,
     "metadata": {},
     "output_type": "execute_result"
    }
   ],
   "source": [
    "# Q6.2: Flatten the banking_data to a 1D array\n",
    "    #Flattening means converting a multi-dimensional array (like 2D or 3D) into a 1D array\n",
    "banking_data.flatten()"
   ]
  },
  {
   "cell_type": "code",
   "execution_count": 31,
   "id": "6d91f8d6-0c37-41f2-9503-0d95d799ce1b",
   "metadata": {},
   "outputs": [
    {
     "data": {
      "text/plain": [
       "array([[    1,     2,     3,     4,     5,     6,     7,     8,     9,\n",
       "           10],\n",
       "       [25000, 32000, 28000, 41000, 35000, 27000, 39000, 30000, 45000,\n",
       "        33000],\n",
       "       [  300,   450,   380,   500,   420,   360,   480,   400,   550,\n",
       "          410],\n",
       "       [ 1200,  1500,  1100,  1600,  1400,  1300,  1700,  1250,  1800,\n",
       "         1450],\n",
       "       [   10,    15,     8,    20,    12,     9,    18,    14,    25,\n",
       "           11]])"
      ]
     },
     "execution_count": 31,
     "metadata": {},
     "output_type": "execute_result"
    }
   ],
   "source": [
    "# Q6.3: Transpose the banking_data\n",
    "banking_data.transpose()"
   ]
  },
  {
   "cell_type": "code",
   "execution_count": 32,
   "id": "53933929-d27b-490d-9b41-172dd7d2c294",
   "metadata": {},
   "outputs": [
    {
     "data": {
      "text/plain": [
       "[array([[    1, 25000,   300,  1200,    10],\n",
       "        [    2, 32000,   450,  1500,    15],\n",
       "        [    3, 28000,   380,  1100,     8],\n",
       "        [    4, 41000,   500,  1600,    20],\n",
       "        [    5, 35000,   420,  1400,    12]]),\n",
       " array([[    6, 27000,   360,  1300,     9],\n",
       "        [    7, 39000,   480,  1700,    18],\n",
       "        [    8, 30000,   400,  1250,    14],\n",
       "        [    9, 45000,   550,  1800,    25],\n",
       "        [   10, 33000,   410,  1450,    11]])]"
      ]
     },
     "execution_count": 32,
     "metadata": {},
     "output_type": "execute_result"
    }
   ],
   "source": [
    "# Q6.4: Split the banking_data into 2 equal parts vertically\n",
    "import numpy as np\n",
    "split_data=np.vsplit(banking_data,2)\n",
    "split_data"
   ]
  },
  {
   "cell_type": "code",
   "execution_count": 109,
   "id": "046d3709-f3ff-41b9-9854-e8b10b93f235",
   "metadata": {},
   "outputs": [],
   "source": [
    "# Q6.5: Split the banking_data into 2 equal parts horizontally\n",
    "# import numpy as np\n",
    "# split_data=np.hsplit(banking_data,2)\n",
    "# split_data\n",
    "\n",
    "\n",
    "#Here we will get error beacuse there are 5 columns, 5 columns will not divide equally so we get error."
   ]
  },
  {
   "cell_type": "markdown",
   "id": "bfcff997-eec8-4afe-9d7d-85e1c6db97a0",
   "metadata": {},
   "source": [
    "### Question 7: Logical Operations and Filtering"
   ]
  },
  {
   "cell_type": "code",
   "execution_count": 34,
   "id": "c2a3bf54-2ccf-4ff1-8d72-fb5378e30511",
   "metadata": {},
   "outputs": [
    {
     "data": {
      "text/plain": [
       "array([], shape=(0, 5), dtype=int64)"
      ]
     },
     "execution_count": 34,
     "metadata": {},
     "output_type": "execute_result"
    }
   ],
   "source": [
    "# Q7.1: Find customers with account balance greater than $100,000\n",
    "data=banking_data[banking_data[:,1]>100000]\n",
    "data"
   ]
  },
  {
   "cell_type": "code",
   "execution_count": 35,
   "id": "d6571164-37cc-4c52-9012-747664e8177c",
   "metadata": {},
   "outputs": [
    {
     "data": {
      "text/plain": [
       "array([], shape=(0, 5), dtype=int64)"
      ]
     },
     "execution_count": 35,
     "metadata": {},
     "output_type": "execute_result"
    }
   ],
   "source": [
    "# Q7.2: Find customers with credit score greater than 800\n",
    "data=banking_data[banking_data[:,2]>800]\n",
    "data"
   ]
  },
  {
   "cell_type": "code",
   "execution_count": 36,
   "id": "ec0c9cb6-16ca-4148-be75-f684c9370245",
   "metadata": {},
   "outputs": [
    {
     "data": {
      "text/plain": [
       "array([[    1, 25000,   300,  1200,    10],\n",
       "       [    2, 32000,   450,  1500,    15],\n",
       "       [    3, 28000,   380,  1100,     8],\n",
       "       [    4, 41000,   500,  1600,    20],\n",
       "       [    5, 35000,   420,  1400,    12],\n",
       "       [    6, 27000,   360,  1300,     9],\n",
       "       [    7, 39000,   480,  1700,    18],\n",
       "       [    8, 30000,   400,  1250,    14],\n",
       "       [    9, 45000,   550,  1800,    25],\n",
       "       [   10, 33000,   410,  1450,    11]])"
      ]
     },
     "execution_count": 36,
     "metadata": {},
     "output_type": "execute_result"
    }
   ],
   "source": [
    "# Q7.3: Find customers with transaction count greater than 50 AND credit score less than 750\n",
    "data=banking_data[(banking_data[:,3]>50) & (banking_data[:,2]<750 )]\n",
    "data"
   ]
  },
  {
   "cell_type": "code",
   "execution_count": 37,
   "id": "5ad6ec1d-1750-4ab6-8bcb-0875df1b8bfc",
   "metadata": {},
   "outputs": [
    {
     "name": "stdout",
     "output_type": "stream",
     "text": [
      "Number of customers with balance between $10,000 and $100,000: 10\n"
     ]
    }
   ],
   "source": [
    "#GPT\n",
    "# Q7.4: Count how many customers have account balance between $10,000 and $100,000\n",
    "\n",
    "import numpy as np\n",
    "\n",
    "# Filter condition: 10,000 < Account_Balance < 100,000\n",
    "condition = (banking_data[:, 1] > 10000) & (banking_data[:, 1] < 100000)\n",
    "\n",
    "# Apply condition and count rows\n",
    "count = np.sum(condition)\n",
    "print(\"Number of customers with balance between $10,000 and $100,000:\", count)"
   ]
  },
  {
   "cell_type": "code",
   "execution_count": 38,
   "id": "b4ad7fae-a022-47c2-b39a-dfc3882e0be8",
   "metadata": {},
   "outputs": [
    {
     "name": "stdout",
     "output_type": "stream",
     "text": [
      "Index of customer with highest credit score: 8\n"
     ]
    }
   ],
   "source": [
    "# Q7.5: Find the index of the customer with the highest credit score\n",
    "import numpy as np\n",
    "\n",
    "# Find the index of the max credit score (column index 2)\n",
    "max_credit_index = np.argmax(banking_data[:, 2])\n",
    "print(\"Index of customer with highest credit score:\", max_credit_index)"
   ]
  },
  {
   "cell_type": "markdown",
   "id": "78c1eb34-3170-4ffc-8a50-43867ef107d8",
   "metadata": {},
   "source": [
    "### Question 8: Sorting and Searching"
   ]
  },
  {
   "cell_type": "code",
   "execution_count": 39,
   "id": "f64c8fdc-8949-495b-95e1-56f876815065",
   "metadata": {},
   "outputs": [
    {
     "data": {
      "text/plain": [
       "array([33000, 45000, 30000, 39000, 27000, 35000, 41000, 28000, 32000,\n",
       "       25000])"
      ]
     },
     "execution_count": 39,
     "metadata": {},
     "output_type": "execute_result"
    }
   ],
   "source": [
    "# Q8.1: Sort the banking_data by account balance (ascending)\n",
    "import numpy as np\n",
    "\n",
    "banking_data[:,1][::-1]"
   ]
  },
  {
   "cell_type": "code",
   "execution_count": 40,
   "id": "992349e0-58f8-4ab4-b168-2138a24d7ad6",
   "metadata": {},
   "outputs": [
    {
     "name": "stdout",
     "output_type": "stream",
     "text": [
      "[[    9 45000   550  1800    25]\n",
      " [    4 41000   500  1600    20]\n",
      " [    7 39000   480  1700    18]\n",
      " [    2 32000   450  1500    15]\n",
      " [    5 35000   420  1400    12]\n",
      " [   10 33000   410  1450    11]\n",
      " [    8 30000   400  1250    14]\n",
      " [    3 28000   380  1100     8]\n",
      " [    6 27000   360  1300     9]\n",
      " [    1 25000   300  1200    10]]\n"
     ]
    }
   ],
   "source": [
    "# Q8.2: Sort the banking_data by credit score (descending)\n",
    "import numpy as np\n",
    "\n",
    "sorting=banking_data[banking_data[:,2].argsort()][::-1]   #.argsort used to sort the column data.\n",
    "print(sorting)"
   ]
  },
  {
   "cell_type": "code",
   "execution_count": 41,
   "id": "bc071a60-8f9f-49d0-956d-61dd3fb2d31a",
   "metadata": {},
   "outputs": [
    {
     "data": {
      "text/plain": [
       "array([[    3, 28000,   380,  1100,     8],\n",
       "       [    6, 27000,   360,  1300,     9],\n",
       "       [    1, 25000,   300,  1200,    10],\n",
       "       [   10, 33000,   410,  1450,    11],\n",
       "       [    5, 35000,   420,  1400,    12],\n",
       "       [    8, 30000,   400,  1250,    14],\n",
       "       [    2, 32000,   450,  1500,    15],\n",
       "       [    7, 39000,   480,  1700,    18],\n",
       "       [    4, 41000,   500,  1600,    20],\n",
       "       [    9, 45000,   550,  1800,    25]])"
      ]
     },
     "execution_count": 41,
     "metadata": {},
     "output_type": "execute_result"
    }
   ],
   "source": [
    "# Q8.3: Find the indices that would sort the array by years active\n",
    "import numpy as np\n",
    "\n",
    "sorting = banking_data[banking_data[:,-1].argsort()]\n",
    "sorting"
   ]
  },
  {
   "cell_type": "code",
   "execution_count": 42,
   "id": "6f961ee6-f79b-4a69-975b-793c9871d9a3",
   "metadata": {},
   "outputs": [
    {
     "name": "stdout",
     "output_type": "stream",
     "text": [
      "41000\n"
     ]
    }
   ],
   "source": [
    "# Q8.4: Find the customer with the second highest account balance\n",
    "import numpy as np\n",
    "\n",
    "#gives account column\n",
    "acc_balance = banking_data[:,1]\n",
    "\n",
    "#sort the account balance\n",
    "sort_balance = np.sort(acc_balance)[::-1]\n",
    "\n",
    "#gets 2nd hightes values in account balance column\n",
    "second_high = sort_balance[1]\n",
    "print(second_high)"
   ]
  },
  {
   "cell_type": "code",
   "execution_count": 43,
   "id": "6b01373d-d9d1-4420-8c7c-24a6880b088e",
   "metadata": {},
   "outputs": [
    {
     "name": "stdout",
     "output_type": "stream",
     "text": [
      "1100\n"
     ]
    }
   ],
   "source": [
    "# Q8.5: Find the customer with the lowest transaction count\n",
    "import numpy as np\n",
    "\n",
    "tran_count = banking_data[:,-2]\n",
    "sort_transaction = np.sort(tran_count)[::-1]\n",
    "lowerst_trans = sort_transaction[-1]\n",
    "print(lowerst_trans)"
   ]
  },
  {
   "cell_type": "markdown",
   "id": "ae81f835-64f1-40ce-9b6f-3d8e93326244",
   "metadata": {},
   "source": [
    "### Question 9: Mathematical Functions"
   ]
  },
  {
   "cell_type": "code",
   "execution_count": 44,
   "id": "30ebb106-735d-46fc-8488-6b67d571f72f",
   "metadata": {},
   "outputs": [
    {
     "name": "stdout",
     "output_type": "stream",
     "text": [
      "[[    1 25000   300  1200    10]\n",
      " [    2 32000   450  1500    15]\n",
      " [    3 28000   380  1100     8]\n",
      " [    4 41000   500  1600    20]\n",
      " [    5 35000   420  1400    12]\n",
      " [    6 27000   360  1300     9]\n",
      " [    7 39000   480  1700    18]\n",
      " [    8 30000   400  1250    14]\n",
      " [    9 45000   550  1800    25]\n",
      " [   10 33000   410  1450    11]]\n"
     ]
    }
   ],
   "source": [
    "# Q9.1: Calculate the absolute values of all elements\n",
    "import numpy as np\n",
    "\n",
    "ab = np.abs(banking_data)\n",
    "print(ab)"
   ]
  },
  {
   "cell_type": "code",
   "execution_count": 45,
   "id": "82c0e53d-bc90-4c96-b877-b23169a6dd7e",
   "metadata": {},
   "outputs": [
    {
     "data": {
      "text/plain": [
       "array([158.11388301, 178.8854382 , 167.33200531, 202.48456731,\n",
       "       187.08286934, 164.31676725, 197.48417658, 173.20508076,\n",
       "       212.13203436, 181.65902125])"
      ]
     },
     "execution_count": 45,
     "metadata": {},
     "output_type": "execute_result"
    }
   ],
   "source": [
    "# Q9.2: Calculate the square root of all account balances\n",
    "import numpy as np\n",
    "\n",
    "sq=np.sqrt(banking_data[:,1])\n",
    "sq"
   ]
  },
  {
   "cell_type": "code",
   "execution_count": 46,
   "id": "f297552a-290f-4f9a-b606-e042c78eb7cd",
   "metadata": {},
   "outputs": [
    {
     "name": "stdout",
     "output_type": "stream",
     "text": [
      "[17.32050808 21.21320344 19.49358869 22.36067977 20.49390153 18.97366596\n",
      " 21.9089023  20.         23.4520788  20.24845673]\n"
     ]
    }
   ],
   "source": [
    "# Q9.3: Calculate the square of all credit scores\n",
    "import numpy as np\n",
    "\n",
    "sq = np.sqrt(banking_data[:,2])\n",
    "print(sq)"
   ]
  },
  {
   "cell_type": "code",
   "execution_count": 47,
   "id": "38d0c1a7-b4a0-43ca-9ff7-cf66cd4099c9",
   "metadata": {},
   "outputs": [
    {
     "name": "stdout",
     "output_type": "stream",
     "text": [
      "[inf inf inf inf inf inf inf inf inf inf]\n"
     ]
    },
    {
     "name": "stderr",
     "output_type": "stream",
     "text": [
      "C:\\Users\\Subhash G\\AppData\\Local\\Temp\\ipykernel_33664\\772549311.py:4: RuntimeWarning: overflow encountered in exp\n",
      "  ex = np.exp(banking_data[:,3])\n"
     ]
    }
   ],
   "source": [
    "# Q9.4: Calculate the exponential of all transaction counts\n",
    "import numpy as np\n",
    "\n",
    "ex = np.exp(banking_data[:,3])\n",
    "print(ex)"
   ]
  },
  {
   "cell_type": "code",
   "execution_count": 48,
   "id": "a3869e01-8c6a-43ce-a421-0bd01f7f75fc",
   "metadata": {},
   "outputs": [
    {
     "name": "stdout",
     "output_type": "stream",
     "text": [
      "[10.1266311  10.37349118 10.23995979 10.62132735 10.46310334 10.20359214\n",
      " 10.57131693 10.30895266 10.71441777 10.40426284]\n"
     ]
    }
   ],
   "source": [
    "# Q9.5: Calculate the natural logarithm of all account balances\n",
    "import numpy as np\n",
    "\n",
    "algo = np.log(banking_data[:,1])\n",
    "print(algo)"
   ]
  },
  {
   "cell_type": "markdown",
   "id": "9c56a499-d075-4b8b-b797-15b2c1a220f2",
   "metadata": {},
   "source": [
    "### Question 10: Advanced Operations"
   ]
  },
  {
   "cell_type": "code",
   "execution_count": 49,
   "id": "0c0182ae-dac0-4200-8a0b-eba007a169f9",
   "metadata": {},
   "outputs": [
    {
     "name": "stdout",
     "output_type": "stream",
     "text": [
      "[ 25000  57000  85000 126000 161000 188000 227000 257000 302000 335000]\n"
     ]
    }
   ],
   "source": [
    "# Q10.1: Calculate the cumulative sum of account balances\n",
    "import numpy as np\n",
    "\n",
    "cum = np.cumsum(banking_data[:,1])\n",
    "print(cum)\n"
   ]
  },
  {
   "cell_type": "code",
   "execution_count": 50,
   "id": "3257118f-85e0-4f10-855b-634cbed5e247",
   "metadata": {},
   "outputs": [
    {
     "name": "stdout",
     "output_type": "stream",
     "text": [
      "[                1200              1800000           1980000000\n",
      "        3168000000000     4435200000000000  5765760000000000000\n",
      "  6570896860228091904  4819962484364410880  5962757212450324480\n",
      " -5525012516809211904]\n"
     ]
    }
   ],
   "source": [
    "# Q10.2: Calculate the cumulative product of transaction counts\n",
    "import numpy as np\n",
    "\n",
    "cump = np.cumprod(banking_data[:,3])\n",
    "print(cump)\n"
   ]
  },
  {
   "cell_type": "code",
   "execution_count": 51,
   "id": "b867a8f7-6ffd-43f4-9d6f-e98cfe815e8f",
   "metadata": {},
   "outputs": [
    {
     "name": "stdout",
     "output_type": "stream",
     "text": [
      "[ 0.70075771  0.9656743  -0.52734684 -0.60125783 -0.88525532  0.40598946\n",
      "  0.96409072 -0.59642953  0.9850435   0.7578619 ]\n"
     ]
    }
   ],
   "source": [
    "# Q10.3: Calculate the difference between consecutive account balances\n",
    "import numpy as np\n",
    "\n",
    "cons = np.cos(banking_data[:,1])\n",
    "print(cons)\n"
   ]
  },
  {
   "cell_type": "code",
   "execution_count": 52,
   "id": "ed29141f-587c-401d-bf8a-5ea6b9c6a091",
   "metadata": {},
   "outputs": [
    {
     "name": "stdout",
     "output_type": "stream",
     "text": [
      "[  7000.   1500.   4500.   3500.  -7000.   2000.   1500.   3000.   1500.\n",
      " -12000.]\n"
     ]
    }
   ],
   "source": [
    "# Q10.4: Calculate the gradient of account balances\n",
    "import numpy as np\n",
    "\n",
    "grad = np.gradient(banking_data[:,1])\n",
    "print(grad)\n"
   ]
  },
  {
   "cell_type": "code",
   "execution_count": 53,
   "id": "2c8da18c-8ae9-40c5-be8b-b61ab5e089ba",
   "metadata": {},
   "outputs": [
    {
     "name": "stdout",
     "output_type": "stream",
     "text": [
      "(array([3, 2, 2, 1, 2]), array([25000., 29000., 33000., 37000., 41000., 45000.]))\n"
     ]
    }
   ],
   "source": [
    "# Q10.5: Calculate the histogram of account balances with 5 bins\n",
    "import numpy as np\n",
    "\n",
    "hist = np.histogram(banking_data[:,1],5)\n",
    "print(hist)\n"
   ]
  },
  {
   "cell_type": "markdown",
   "id": "b3c129d7-f802-48b1-bece-2e189a359189",
   "metadata": {},
   "source": [
    "### Question 11: Random Numbers and Simulation"
   ]
  },
  {
   "cell_type": "code",
   "execution_count": 54,
   "id": "fa3692d0-cd60-49d7-bdd2-6a8c116b320a",
   "metadata": {},
   "outputs": [
    {
     "name": "stdout",
     "output_type": "stream",
     "text": [
      "[ 79 712 291   8 482 258]\n"
     ]
    }
   ],
   "source": [
    "# Q11.1: Generate 6 random integers between 1 and 1000\n",
    "\n",
    "import numpy as np\n",
    "\n",
    "rand=np.random.randint(1,1000,6)\n",
    "print(rand)"
   ]
  },
  {
   "cell_type": "code",
   "execution_count": 55,
   "id": "c3eb7372-107a-4357-ab0a-8b6ec2fc3d8f",
   "metadata": {},
   "outputs": [
    {
     "name": "stdout",
     "output_type": "stream",
     "text": [
      "[0.40695477 0.27915712 0.84185401 0.09777991 0.75660982 0.65191186]\n"
     ]
    }
   ],
   "source": [
    "# Q11.2: Generate 6 random floats between 0 and 1\n",
    "\n",
    "import numpy as np\n",
    "rand=np.random.rand(6)\n",
    "print(rand)"
   ]
  },
  {
   "cell_type": "code",
   "execution_count": 56,
   "id": "5bbacfd3-d7b2-4d2f-9133-9ac454f87bdd",
   "metadata": {},
   "outputs": [
    {
     "name": "stdout",
     "output_type": "stream",
     "text": [
      "[763.76007795 705.00601858 795.54559456 505.92394254 810.6119921\n",
      " 736.04662558]\n"
     ]
    }
   ],
   "source": [
    "# Q11.3: Generate 6 random numbers from normal distribution (mean=700, std=100)\n",
    "\n",
    "import numpy as np\n",
    "rand = np.random.normal(700, 100, 6)\n",
    "print(rand)\n"
   ]
  },
  {
   "cell_type": "code",
   "execution_count": 57,
   "id": "866fd3bc-94d2-4492-9037-652b6bf4fd68",
   "metadata": {},
   "outputs": [
    {
     "data": {
      "text/plain": [
       "array([[    3, 28000,   380,  1100,     8],\n",
       "       [   10, 33000,   410,  1450,    11],\n",
       "       [    2, 32000,   450,  1500,    15],\n",
       "       [    7, 39000,   480,  1700,    18],\n",
       "       [    1, 25000,   300,  1200,    10],\n",
       "       [    8, 30000,   400,  1250,    14],\n",
       "       [    6, 27000,   360,  1300,     9],\n",
       "       [    9, 45000,   550,  1800,    25],\n",
       "       [    4, 41000,   500,  1600,    20],\n",
       "       [    5, 35000,   420,  1400,    12]])"
      ]
     },
     "execution_count": 57,
     "metadata": {},
     "output_type": "execute_result"
    }
   ],
   "source": [
    "# Q11.4: Shuffle the banking_data rows randomly\n",
    "import numpy as np\n",
    "np.random.shuffle(banking_data)\n",
    "banking_data"
   ]
  },
  {
   "cell_type": "code",
   "execution_count": 58,
   "id": "c1f74123-0f62-4c56-9c50-1a6d3b7e0019",
   "metadata": {},
   "outputs": [
    {
     "name": "stdout",
     "output_type": "stream",
     "text": [
      "[0.69646919 0.28613933 0.22685145 0.55131477]\n"
     ]
    }
   ],
   "source": [
    "# Q11.5: Set random seed to 123 and generate 4 random numbers\n",
    "import numpy as np\n",
    "np.random.seed(123)\n",
    "rand_seed=np.random.rand(4)\n",
    "print(rand_seed)"
   ]
  },
  {
   "cell_type": "markdown",
   "id": "20e635f4-cb0a-42f2-9199-fbb0d83bb34e",
   "metadata": {},
   "source": [
    "### Question 12: Linear Algebra Operations"
   ]
  },
  {
   "cell_type": "code",
   "execution_count": 59,
   "id": "a26f017e-7cd1-456d-8de7-77a119bf4052",
   "metadata": {},
   "outputs": [
    {
     "name": "stdout",
     "output_type": "stream",
     "text": [
      "146460000\n"
     ]
    }
   ],
   "source": [
    "# Q12.1: Calculate the dot product of account balance and credit score columns\n",
    "import numpy as np\n",
    "\n",
    "# Using slicing to select columns\n",
    "account_balance = banking_data[:, 1]  # Second column\n",
    "credit_score = banking_data[:, 2]     # Third column\n",
    "\n",
    "# Calculate dot product\n",
    "dot_product = np.dot(account_balance, credit_score)\n",
    "\n",
    "print(dot_product)"
   ]
  },
  {
   "cell_type": "code",
   "execution_count": 60,
   "id": "c12f72bb-b4bd-40d7-a97b-6b5d2bcc81a5",
   "metadata": {},
   "outputs": [
    {
     "name": "stdout",
     "output_type": "stream",
     "text": [
      "[-1060000     2570  -181000]\n"
     ]
    }
   ],
   "source": [
    "# Q12.2: Calculate the cross product of first two rows\n",
    "\n",
    "import numpy as np\n",
    "row1 = banking_data[0][:3]\n",
    "row2 = banking_data[1][:3]\n",
    "cross_product = np.cross(row1,row2)\n",
    "print(cross_product)"
   ]
  },
  {
   "cell_type": "code",
   "execution_count": 61,
   "id": "712cc49f-57c5-4e3d-b5cc-2add896b3b76",
   "metadata": {},
   "outputs": [
    {
     "name": "stdout",
     "output_type": "stream",
     "text": [
      "Norm (magnitude) of Account Balance column: 107717.22239270747\n"
     ]
    }
   ],
   "source": [
    "# Q12.3: Calculate the norm (magnitude) of the account balance column\n",
    "\n",
    "import numpy as np\n",
    "account_balance = banking_data[:, 1]                     # Select Account_Balance column (second column)\n",
    "norm_account_balance = np.linalg.norm(account_balance)   # Calculate the norm (magnitude)\n",
    "print(\"Norm (magnitude) of Account Balance column:\", norm_account_balance)"
   ]
  },
  {
   "cell_type": "code",
   "execution_count": 62,
   "id": "997cd5b4-246a-42fb-806d-5e5671d7bd2b",
   "metadata": {},
   "outputs": [
    {
     "name": "stdout",
     "output_type": "stream",
     "text": [
      "3x3 Matrix:\n",
      "[[ 2  5  3]\n",
      " [ 1 -2 -1]\n",
      " [ 1  3  4]]\n",
      "\n",
      "Determinant of the matrix: -20.000000000000007\n"
     ]
    }
   ],
   "source": [
    "# Q12.4: Create a 3x3 matrix and calculate its determinant\n",
    "\n",
    "import numpy as np\n",
    "\n",
    "# Create a 3x3 matrix\n",
    "matrix = np.array([\n",
    "    [2, 5, 3],\n",
    "    [1, -2, -1],\n",
    "    [1, 3, 4]\n",
    "])\n",
    "\n",
    "# Calculate determinant\n",
    "determinant = np.linalg.det(matrix)\n",
    "\n",
    "print(\"3x3 Matrix:\")\n",
    "print(matrix)\n",
    "print(\"\\nDeterminant of the matrix:\", determinant)\n"
   ]
  },
  {
   "cell_type": "code",
   "execution_count": 63,
   "id": "32b53ee3-597c-456a-a5da-ad3a4bc5c37b",
   "metadata": {},
   "outputs": [
    {
     "name": "stdout",
     "output_type": "stream",
     "text": [
      "3x3 Matrix:\n",
      "[[ 2  5  3]\n",
      " [ 1 -2 -1]\n",
      " [ 1  3  4]]\n",
      "\n",
      "Inverse of the matrix:\n",
      "[[ 0.25  0.55 -0.05]\n",
      " [ 0.25 -0.25 -0.25]\n",
      " [-0.25  0.05  0.45]]\n"
     ]
    }
   ],
   "source": [
    "# Q12.5: Calculate the inverse of the 3x3 matrix\n",
    "import numpy as np\n",
    "\n",
    "# Create a 3x3 matrix\n",
    "matrix = np.array([\n",
    "    [2, 5, 3],\n",
    "    [1, -2, -1],\n",
    "    [1, 3, 4]\n",
    "])\n",
    "\n",
    "# Calculate the inverse\n",
    "inverse_matrix = np.linalg.inv(matrix)\n",
    "\n",
    "print(\"3x3 Matrix:\")\n",
    "print(matrix)\n",
    "print(\"\\nInverse of the matrix:\")\n",
    "print(inverse_matrix)"
   ]
  },
  {
   "cell_type": "markdown",
   "id": "2254da4d-30e5-4ff4-ac27-b4d4b2ec8f37",
   "metadata": {},
   "source": [
    "### Question 13: String Operations"
   ]
  },
  {
   "cell_type": "code",
   "execution_count": 64,
   "id": "42cde7c1-141f-4192-9eea-e42f40213055",
   "metadata": {},
   "outputs": [
    {
     "name": "stdout",
     "output_type": "stream",
     "text": [
      "Customer IDs as strings: ['3' '10' '2' '7' '1' '8' '6' '9' '4' '5']\n"
     ]
    }
   ],
   "source": [
    "# Q13.1: Convert all customer IDs to strings\n",
    "import numpy as np\n",
    "# Convert Customer_ID column (first column) to strings\n",
    "customer_ids_str = banking_data[:, 0].astype(str)\n",
    "\n",
    "print(\"Customer IDs as strings:\", customer_ids_str)"
   ]
  },
  {
   "cell_type": "code",
   "execution_count": 68,
   "id": "9ff98f62-2641-4ac7-bfbe-9e7396f50a5e",
   "metadata": {},
   "outputs": [
    {
     "name": "stdout",
     "output_type": "stream",
     "text": [
      "[]\n"
     ]
    }
   ],
   "source": [
    "# Q13.2: Check if any customer ID contains '100'\n",
    "data = np.char.find(customer_ids_str, '100') >= 0\n",
    "print(banking_data[data])\n"
   ]
  },
  {
   "cell_type": "code",
   "execution_count": 70,
   "id": "e00079b4-b371-457c-9938-e7dd32ec7c64",
   "metadata": {},
   "outputs": [
    {
     "name": "stdout",
     "output_type": "stream",
     "text": [
      "['3' '10' '2' '7' '1' '8' '6' '9' '4' '5']\n"
     ]
    }
   ],
   "source": [
    "# Q13.3: Convert all customer IDs to uppercase (if they were strings)\n",
    "data = np.char.upper(customer_ids_str)\n",
    "print(data)"
   ]
  },
  {
   "cell_type": "code",
   "execution_count": 71,
   "id": "a4175a61-8c9b-4abd-bb42-7d30a6086379",
   "metadata": {},
   "outputs": [
    {
     "name": "stdout",
     "output_type": "stream",
     "text": [
      "[1 2 1 1 1 1 1 1 1 1]\n"
     ]
    }
   ],
   "source": [
    "# Q13.4: Count the length of each customer ID string\n",
    "data = np.char.str_len(customer_ids_str)\n",
    "print(data)"
   ]
  },
  {
   "cell_type": "code",
   "execution_count": 72,
   "id": "71221249-022c-41e1-9735-890eefde9ccd",
   "metadata": {},
   "outputs": [
    {
     "name": "stdout",
     "output_type": "stream",
     "text": [
      "['3' 'CUST' '2' '7' '1' '8' '6' '9' '4' '5']\n"
     ]
    }
   ],
   "source": [
    "# Q13.5: Replace '10' with 'CUST' in customer IDs\n",
    "data = np.char.replace(customer_ids_str, '10', 'CUST')\n",
    "print(data)"
   ]
  },
  {
   "cell_type": "markdown",
   "id": "7a102519-290b-4d09-b034-cb8161718be6",
   "metadata": {},
   "source": [
    "### Question 14: Date and Time Operations"
   ]
  },
  {
   "cell_type": "code",
   "execution_count": 73,
   "id": "90ec6eee-9a9a-46dc-b1d6-e5e465634942",
   "metadata": {},
   "outputs": [
    {
     "name": "stdout",
     "output_type": "stream",
     "text": [
      "[ 96 132 180 216 120 168 108 300 240 144]\n"
     ]
    }
   ],
   "source": [
    "# Q14.1: Convert years active to months\n",
    "yrs_to_months = banking_data[:, 4] * 12\n",
    "print(yrs_to_months)"
   ]
  },
  {
   "cell_type": "code",
   "execution_count": 74,
   "id": "1a833190-3ecc-43cf-89ce-74c46a87c8f5",
   "metadata": {},
   "outputs": [
    {
     "name": "stdout",
     "output_type": "stream",
     "text": [
      "14.2\n"
     ]
    }
   ],
   "source": [
    "# Q14.2: Calculate the average years active\n",
    "avg_yrs = np.mean(banking_data[:, 4])\n",
    "print(avg_yrs)"
   ]
  },
  {
   "cell_type": "code",
   "execution_count": 75,
   "id": "14927d4e-8cd4-44fd-9ccf-1803b38c97bd",
   "metadata": {},
   "outputs": [
    {
     "name": "stdout",
     "output_type": "stream",
     "text": [
      "[[    7 39000   480  1700    18]\n",
      " [    9 45000   550  1800    25]\n",
      " [    4 41000   500  1600    20]]\n"
     ]
    }
   ],
   "source": [
    "# Q14.3: Find customers who have been active for more than 15 years\n",
    "yrs_active = banking_data[banking_data[:, 4] > 15]\n",
    "print(yrs_active)"
   ]
  },
  {
   "cell_type": "code",
   "execution_count": 76,
   "id": "64ca9afa-94d7-47e6-8ab8-2cf85a1ce0c4",
   "metadata": {},
   "outputs": [
    {
     "name": "stdout",
     "output_type": "stream",
     "text": [
      "142\n"
     ]
    }
   ],
   "source": [
    "# Q14.4: Calculate the total time all customers have been active (in years)\n",
    "total_active_time = np.sum(banking_data[:, 4])\n",
    "print(total_active_time)"
   ]
  },
  {
   "cell_type": "code",
   "execution_count": 77,
   "id": "ec9ecdef-d3b2-4f62-9b57-28d564b6681e",
   "metadata": {},
   "outputs": [
    {
     "name": "stdout",
     "output_type": "stream",
     "text": [
      "customer ID: 0, Days: [    3 28000   380  1100     8]\n"
     ]
    }
   ],
   "source": [
    "# Q14.5: Find the customer with the shortest time active\n",
    "customer_short_active= np.argmin(banking_data[:, 4])\n",
    "shortest_customer_active = banking_data[customer_short_active]\n",
    "print(f\"customer ID: {customer_short_active}, Days: {shortest_customer_active}\")"
   ]
  },
  {
   "cell_type": "markdown",
   "id": "ecdbffd6-d1af-4cdb-a14b-e8b055794da3",
   "metadata": {},
   "source": [
    "### Question 15: Advanced Array Operations"
   ]
  },
  {
   "cell_type": "code",
   "execution_count": 78,
   "id": "c0abe38d-53d1-4c50-a5a2-66d8bfdf0908",
   "metadata": {},
   "outputs": [
    {
     "name": "stdout",
     "output_type": "stream",
     "text": [
      "[None None None None None None None None None None]\n"
     ]
    }
   ],
   "source": [
    "# Q15.1: Apply a function to calculate 5% interest on all account balances\n",
    "import numpy as np\n",
    "def add_interest(balance):\n",
    "  balance * 1.05\n",
    "interest_applied = np.vectorize(add_interest)(banking_data[:,1])\n",
    "print(interest_applied)"
   ]
  },
  {
   "cell_type": "code",
   "execution_count": 79,
   "id": "ac7e8a84-0883-458b-bf4d-e21f66e9b391",
   "metadata": {},
   "outputs": [
    {
     "name": "stdout",
     "output_type": "stream",
     "text": [
      "['Medium' 'Medium' 'Medium' 'Medium' 'Medium' 'Medium' 'Medium' 'High'\n",
      " 'Medium' 'Medium']\n"
     ]
    }
   ],
   "source": [
    "# Q15.2: Use np.where to categorize customers by balance ranges\n",
    "balances = banking_data[:,1]\n",
    "customers_balance =  np.where(balances < 15000, \"Low\",\n",
    "              np.where(balances < 45000, \"Medium\", \"High\"))\n",
    "print(customers_balance)"
   ]
  },
  {
   "cell_type": "code",
   "execution_count": 80,
   "id": "efe35b66-9112-4f79-bb6c-592446142d6b",
   "metadata": {},
   "outputs": [
    {
     "name": "stdout",
     "output_type": "stream",
     "text": [
      "['poor' 'Unknown' 'Mid-range' 'Mid-range' 'Unknown' 'Unknown' 'Unknown'\n",
      " 'good' 'good' 'Unknown']\n"
     ]
    }
   ],
   "source": [
    "# Q15.3: Use np.select to categorize customers by credit score ranges\n",
    "conditions = [\n",
    "    banking_data[:, 4] < 9,\n",
    "    (banking_data[:, 4] >= 15) & (banking_data[:, 4] < 20),\n",
    "    banking_data[:, 4] >= 20\n",
    "]\n",
    "choices = ['poor', 'Mid-range', 'good']\n",
    "cus_credit_score = np.select(conditions, choices, default='Unknown')\n",
    "print(cus_credit_score)"
   ]
  },
  {
   "cell_type": "code",
   "execution_count": 81,
   "id": "7b2b9e7a-0591-409a-ab28-124ea7c68c89",
   "metadata": {},
   "outputs": [
    {
     "name": "stdout",
     "output_type": "stream",
     "text": [
      "[33600 39600 38400 46800 30000 36000 32400 54000 49200 42000]\n"
     ]
    }
   ],
   "source": [
    "# Q15.4: Use np.piecewise to apply different interest rates based on balance\n",
    "def low_interest(x): return x * 1.05\n",
    "def mid_interest(x): return x * 1.10\n",
    "def high_interest(x): return x * 1.20\n",
    "\n",
    "interest_prices = np.piecewise(\n",
    "    banking_data[:, 1],\n",
    "    [banking_data[:, 1] < 20000, (banking_data[:, 1] >= 20000) & (banking_data[:, 1] < 25000), banking_data[:, 1] >= 25000],\n",
    "    [low_interest, mid_interest, high_interest]\n",
    ")\n",
    "print(interest_prices)"
   ]
  },
  {
   "cell_type": "code",
   "execution_count": 82,
   "id": "91660502-be37-4f9a-a7e4-0c07e2586f53",
   "metadata": {},
   "outputs": [
    {
     "name": "stdout",
     "output_type": "stream",
     "text": [
      "[29491 34881 33967 41205 26511 31672 28675 47384 43124 36837]\n"
     ]
    }
   ],
   "source": [
    "# Q15.5: Use np.apply_along_axis to calculate the sum of each row\n",
    "row_sums = np.apply_along_axis(np.sum, 1, banking_data)\n",
    "print(row_sums)"
   ]
  },
  {
   "cell_type": "markdown",
   "id": "72224490-ef64-4977-b95e-a351b96ebdae",
   "metadata": {},
   "source": [
    "### Question 16: Array Concatenation and Stacking"
   ]
  },
  {
   "cell_type": "code",
   "execution_count": 83,
   "id": "1f19463d-dbe5-416a-89c7-0685421bf01e",
   "metadata": {},
   "outputs": [
    {
     "name": "stdout",
     "output_type": "stream",
     "text": [
      "[1 2 3 4 5 6]\n"
     ]
    }
   ],
   "source": [
    "# Q16.1: Concatenate two arrays horizontally using np.hstack()\n",
    "array1 = np.array([1,2,3])\n",
    "array2 = np.array([4,5,6])\n",
    "con_array = np.hstack([array1,array2])\n",
    "print(con_array)"
   ]
  },
  {
   "cell_type": "code",
   "execution_count": 84,
   "id": "4f2faf9e-93d7-41c5-876c-dc6b6e85951d",
   "metadata": {},
   "outputs": [
    {
     "name": "stdout",
     "output_type": "stream",
     "text": [
      "[[1 2 3]\n",
      " [4 5 6]]\n"
     ]
    }
   ],
   "source": [
    "# Q16.2: Concatenate two arrays vertically using np.vstack()\n",
    "vcon_array = np.vstack([array1,array2])\n",
    "print(vcon_array)"
   ]
  },
  {
   "cell_type": "code",
   "execution_count": 85,
   "id": "05965651-9204-47b6-a1b5-52dedef06ed6",
   "metadata": {},
   "outputs": [
    {
     "name": "stdout",
     "output_type": "stream",
     "text": [
      "[1 2 3 4 5 6]\n"
     ]
    }
   ],
   "source": [
    "# Q16.3: Concatenate arrays along a specific axis using np.concatenate()\n",
    "import numpy as np\n",
    "data = np.concatenate([array1,array2],axis = 0)\n",
    "print(data)"
   ]
  },
  {
   "cell_type": "code",
   "execution_count": 86,
   "id": "2b96cb4b-66e8-4f3d-90bf-ede7e50db06c",
   "metadata": {},
   "outputs": [
    {
     "name": "stdout",
     "output_type": "stream",
     "text": [
      "[[[1 4]\n",
      "  [2 5]\n",
      "  [3 6]]]\n"
     ]
    }
   ],
   "source": [
    "# Q16.4: Stack arrays depth-wise using np.dstack()\n",
    "data = np.dstack([array1,array2])\n",
    "print(data)"
   ]
  },
  {
   "cell_type": "code",
   "execution_count": 87,
   "id": "b1abfbd8-695f-4f46-835a-6a3703279d6c",
   "metadata": {},
   "outputs": [
    {
     "name": "stdout",
     "output_type": "stream",
     "text": [
      "[[1 4]\n",
      " [2 5]\n",
      " [3 6]]\n"
     ]
    }
   ],
   "source": [
    "# Q16.5: Create a column stack using np.column_stack()\n",
    "data = np.column_stack([array1,array2])\n",
    "print(data)"
   ]
  },
  {
   "cell_type": "markdown",
   "id": "6a542639-78fa-482e-83c8-71069c0dbd2f",
   "metadata": {},
   "source": [
    "### Question 17: Array Splitting Operations"
   ]
  },
  {
   "cell_type": "code",
   "execution_count": 88,
   "id": "e4af4162-d53c-4d93-9e99-2fcf8a8686df",
   "metadata": {},
   "outputs": [
    {
     "name": "stdout",
     "output_type": "stream",
     "text": [
      "Parts[1] = [1 2] \n",
      "Parts[2] = [3 4] \n",
      "Parts[3] = [5 6] \n"
     ]
    }
   ],
   "source": [
    "# Q17.1: Split an array into 3 equal parts using np.split()\n",
    "array = np.array([1,2,3,4,5,6])\n",
    "split_array = np.split(array,3)\n",
    "for i, part in enumerate(split_array):\n",
    "  print(f\"Parts[{i+1}] = {part} \")"
   ]
  },
  {
   "cell_type": "code",
   "execution_count": 89,
   "id": "7be80504-e4bd-473e-bc99-26793629f37b",
   "metadata": {},
   "outputs": [
    {
     "name": "stdout",
     "output_type": "stream",
     "text": [
      "[array([1, 2]), array([3, 4, 5, 6]), array([], dtype=int64)]\n"
     ]
    }
   ],
   "source": [
    "# Q17.2: Split an array at specific indices using np.split()\n",
    "array = np.array([1,2,3,4,5,6])\n",
    "split_array = np.split(array,[2,8])\n",
    "print(split_array)"
   ]
  },
  {
   "cell_type": "code",
   "execution_count": 90,
   "id": "aa04f1b4-644d-4bfc-9012-f372dba4beba",
   "metadata": {},
   "outputs": [
    {
     "name": "stdout",
     "output_type": "stream",
     "text": [
      "[array([[1],\n",
      "       [4]]), array([[2],\n",
      "       [5]]), array([[3],\n",
      "       [6]])]\n"
     ]
    }
   ],
   "source": [
    "# Q17.3: Split an array horizontally using np.hsplit()\n",
    "arr_2d = np.array([[1, 2, 3], [4, 5, 6]])\n",
    "hsplit_parts = np.hsplit(arr_2d, 3)\n",
    "print(hsplit_parts)"
   ]
  },
  {
   "cell_type": "code",
   "execution_count": 91,
   "id": "dabb6e43-1280-4f5b-9e12-b0f92e6a4a5a",
   "metadata": {},
   "outputs": [
    {
     "name": "stdout",
     "output_type": "stream",
     "text": [
      "Vertical parts:[array([[1, 2, 3]]), array([[4, 5, 6]])]\n"
     ]
    }
   ],
   "source": [
    "# Q17.4: Split an array vertically using np.vsplit()\n",
    "vsplit_parts = np.vsplit(arr_2d, 2)\n",
    "print(f\"Vertical parts:{vsplit_parts}\")"
   ]
  },
  {
   "cell_type": "code",
   "execution_count": 92,
   "id": "2b6b3815-df8f-46a6-bb24-bdf13eda9e2a",
   "metadata": {},
   "outputs": [
    {
     "name": "stdout",
     "output_type": "stream",
     "text": [
      "Split into 4 chunks:[array([1, 2]), array([3, 4]), array([5]), array([6])]\n"
     ]
    }
   ],
   "source": [
    "# Q17.5: Split an array into equal chunks using np.array_split()\n",
    "chunks = np.array_split(array, 4)\n",
    "print(f\"Split into 4 chunks:{chunks}\")"
   ]
  },
  {
   "cell_type": "markdown",
   "id": "56c09280-eb5f-4425-9efc-ec9ed7ad4766",
   "metadata": {},
   "source": [
    "### Question 18: Array Repetition and Tiling"
   ]
  },
  {
   "cell_type": "code",
   "execution_count": 93,
   "id": "4c1ff1cb-119c-46f2-ac1b-e15457edbaa2",
   "metadata": {},
   "outputs": [
    {
     "name": "stdout",
     "output_type": "stream",
     "text": [
      "[1 1 1 2 2 2 3 3 3]\n"
     ]
    }
   ],
   "source": [
    "# Q18.1: Repeat each element of an array 3 times using np.repeat()\n",
    "import numpy as np\n",
    "elements = np.repeat(array1,3)\n",
    "print(elements)"
   ]
  },
  {
   "cell_type": "code",
   "execution_count": 94,
   "id": "53cc2955-f997-4250-b94c-ac1f3a69bf96",
   "metadata": {},
   "outputs": [
    {
     "name": "stdout",
     "output_type": "stream",
     "text": [
      "[1 2 3 1 2 3]\n"
     ]
    }
   ],
   "source": [
    "# Q18.2: Repeat an entire array 2 times using np.tile()\n",
    "elements = np.tile(array1,2)\n",
    "print(elements)"
   ]
  },
  {
   "cell_type": "code",
   "execution_count": 95,
   "id": "044a691f-96f4-4fbe-8f8a-50937459725f",
   "metadata": {},
   "outputs": [
    {
     "name": "stdout",
     "output_type": "stream",
     "text": [
      "[[1 2 1 2 1 2]\n",
      " [3 4 3 4 3 4]\n",
      " [1 2 1 2 1 2]\n",
      " [3 4 3 4 3 4]]\n"
     ]
    }
   ],
   "source": [
    "# Q18.3: Repeat a 2D array using np.tile()\n",
    "arr_2d_small = np.array([[1, 2], [3, 4]])\n",
    "tiled_2d = np.tile(arr_2d_small, (2, 3))\n",
    "print(tiled_2d)"
   ]
  },
  {
   "cell_type": "code",
   "execution_count": 96,
   "id": "df10b804-72b1-48db-b4da-12f5c0a11e91",
   "metadata": {},
   "outputs": [
    {
     "name": "stdout",
     "output_type": "stream",
     "text": [
      "[1 0 1 0 1 0 1 0 1 0]\n"
     ]
    }
   ],
   "source": [
    "# Q18.4: Create a pattern using np.tile()\n",
    "pattern = np.array([1, 0])\n",
    "pattern_tiled = np.tile(pattern, 5)\n",
    "print(pattern_tiled)"
   ]
  },
  {
   "cell_type": "code",
   "execution_count": 97,
   "id": "b03094a7-a9e1-4a34-acbc-5c561030bf39",
   "metadata": {},
   "outputs": [
    {
     "name": "stdout",
     "output_type": "stream",
     "text": [
      "[1 1 2 3 3 3]\n"
     ]
    }
   ],
   "source": [
    "# Q18.5: Repeat elements with different counts using np.repeat()\n",
    "repeat_counts = [2, 1, 3]\n",
    "repeated_variable = np.repeat(array1, repeat_counts)\n",
    "print(repeated_variable)"
   ]
  },
  {
   "cell_type": "markdown",
   "id": "c806cbd9-86f3-46ee-a701-32f4a032f312",
   "metadata": {},
   "source": [
    "### Question 19: Array Comparison and Logical Operations"
   ]
  },
  {
   "cell_type": "code",
   "execution_count": 98,
   "id": "35c4001a-f94b-45b8-8c7e-c995047b8daa",
   "metadata": {},
   "outputs": [
    {
     "name": "stdout",
     "output_type": "stream",
     "text": [
      "False\n"
     ]
    }
   ],
   "source": [
    "# Q19.1: Compare two arrays for equality using np.array_equal()\n",
    "out_comparision = np.array_equal(array1, array2)\n",
    "print(out_comparision)"
   ]
  },
  {
   "cell_type": "code",
   "execution_count": 99,
   "id": "366b8c82-40fa-42e7-b304-090ba72573a2",
   "metadata": {},
   "outputs": [
    {
     "name": "stdout",
     "output_type": "stream",
     "text": [
      "False\n"
     ]
    }
   ],
   "source": [
    "# Q19.2: Check if arrays are close using np.allclose()\n",
    "close_comparision = np.allclose(array1, array2)\n",
    "print(close_comparision)"
   ]
  },
  {
   "cell_type": "code",
   "execution_count": 100,
   "id": "5e5a06a9-e0d0-46c4-8e21-205c98dc844f",
   "metadata": {},
   "outputs": [
    {
     "name": "stdout",
     "output_type": "stream",
     "text": [
      "[False  True  True]\n"
     ]
    }
   ],
   "source": [
    "# Q19.3: Apply logical AND operation between arrays\n",
    "out_comparision = np.logical_and(array1>1, array2>4)\n",
    "print(out_comparision)\n"
   ]
  },
  {
   "cell_type": "code",
   "execution_count": 101,
   "id": "9b49396f-52a7-458f-a626-6b3081cb5717",
   "metadata": {},
   "outputs": [
    {
     "name": "stdout",
     "output_type": "stream",
     "text": [
      "[ True False False]\n"
     ]
    }
   ],
   "source": [
    "# Q19.4: Apply logical OR operation between arrays\n",
    "logical_or = np.logical_or(array1 == 1, array2 == 3)\n",
    "print(logical_or)"
   ]
  },
  {
   "cell_type": "code",
   "execution_count": 102,
   "id": "7a216879-2a58-4348-8255-1b5d20403ae2",
   "metadata": {},
   "outputs": [
    {
     "name": "stdout",
     "output_type": "stream",
     "text": [
      "[False  True  True]\n"
     ]
    }
   ],
   "source": [
    "# Q19.5: Apply logical NOT operation to an array\n",
    "logical_not = np.logical_not(array1 == 1)\n",
    "print(logical_not)"
   ]
  },
  {
   "cell_type": "markdown",
   "id": "83886c49-48d6-4d6b-a7c4-f70b64c0cdd5",
   "metadata": {},
   "source": [
    "\n",
    "### Question 20: Array Set Operations"
   ]
  },
  {
   "cell_type": "code",
   "execution_count": 103,
   "id": "81ae12b2-5763-4369-bd63-ec219eb459eb",
   "metadata": {},
   "outputs": [
    {
     "name": "stdout",
     "output_type": "stream",
     "text": [
      "[1 2 3 5 7]\n"
     ]
    }
   ],
   "source": [
    "# Q20.1: Find unique elements in an array using np.unique()\n",
    "array = np.array([1,1,3,2,5,3,5,5,7])\n",
    "unique_ele = np.unique([array])\n",
    "print(unique_ele)"
   ]
  },
  {
   "cell_type": "code",
   "execution_count": 104,
   "id": "533fe40e-5eb9-4acc-a654-41853997258a",
   "metadata": {},
   "outputs": [
    {
     "name": "stdout",
     "output_type": "stream",
     "text": [
      "[]\n"
     ]
    }
   ],
   "source": [
    "# Q20.2: Find the intersection of two arrays using np.intersect1d()\n",
    "intersection_ele = np.intersect1d(array1,array2)\n",
    "print(intersection_ele)"
   ]
  },
  {
   "cell_type": "code",
   "execution_count": 105,
   "id": "5d38377e-4d77-43c3-8d66-9e2a5d1b1aaa",
   "metadata": {},
   "outputs": [
    {
     "name": "stdout",
     "output_type": "stream",
     "text": [
      "[1 2 3 4 5 6]\n"
     ]
    }
   ],
   "source": [
    "# Q20.3: Find the union of two arrays using np.union1d()\n",
    "union_ele = np.union1d(array1,array2)\n",
    "print(union_ele)"
   ]
  },
  {
   "cell_type": "code",
   "execution_count": 106,
   "id": "3ddfe96d-139d-48dc-94cd-5b96be89afab",
   "metadata": {},
   "outputs": [
    {
     "name": "stdout",
     "output_type": "stream",
     "text": [
      "[1 2 3]\n"
     ]
    }
   ],
   "source": [
    "# Q20.4: Find elements in first array but not in second using np.setdiff1d()\n",
    "ele_1st_notin_2nd = np.setdiff1d(array1,array2)\n",
    "print(ele_1st_notin_2nd)"
   ]
  },
  {
   "cell_type": "code",
   "execution_count": 108,
   "id": "bd023c31-dd9e-4a9c-9499-20f02d268ffa",
   "metadata": {},
   "outputs": [
    {
     "name": "stdout",
     "output_type": "stream",
     "text": [
      "[1 2 3 4 5 6]\n"
     ]
    }
   ],
   "source": [
    "# Q20.5: Find the symmetric difference between two arrays using np.setxor1d()\n",
    "symmetric_diff = np.setxor1d(array1,array2)\n",
    "print(symmetric_diff)"
   ]
  },
  {
   "cell_type": "code",
   "execution_count": null,
   "id": "fe0a8665-cd13-47fd-b65b-ceccf999c65c",
   "metadata": {},
   "outputs": [],
   "source": []
  },
  {
   "cell_type": "code",
   "execution_count": null,
   "id": "7c71e757-0b24-4afe-b076-f4af946c91b2",
   "metadata": {},
   "outputs": [],
   "source": []
  },
  {
   "cell_type": "code",
   "execution_count": null,
   "id": "f72b89bb-07ce-4bf6-abfb-40ff729fbfb1",
   "metadata": {},
   "outputs": [],
   "source": []
  },
  {
   "cell_type": "code",
   "execution_count": null,
   "id": "aa15c8cb-118d-4204-ba6c-47fd5098dc14",
   "metadata": {},
   "outputs": [],
   "source": []
  }
 ],
 "metadata": {
  "kernelspec": {
   "display_name": "Python 3 (ipykernel)",
   "language": "python",
   "name": "python3"
  },
  "language_info": {
   "codemirror_mode": {
    "name": "ipython",
    "version": 3
   },
   "file_extension": ".py",
   "mimetype": "text/x-python",
   "name": "python",
   "nbconvert_exporter": "python",
   "pygments_lexer": "ipython3",
   "version": "3.13.7"
  }
 },
 "nbformat": 4,
 "nbformat_minor": 5
}
