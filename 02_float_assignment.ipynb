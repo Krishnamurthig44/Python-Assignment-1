{
 "cells": [
  {
   "cell_type": "markdown",
   "id": "0327aa43-0ad2-4c0f-b369-fdd3606cd3a7",
   "metadata": {},
   "source": [
    "### Question 1: Calculate the average of 3.14, 2.718, 1.618, 0.577"
   ]
  },
  {
   "cell_type": "code",
   "execution_count": 3,
   "id": "0c0a8036-6e78-4b15-b628-763a0d27bbe2",
   "metadata": {},
   "outputs": [
    {
     "name": "stdout",
     "output_type": "stream",
     "text": [
      "2.01325\n"
     ]
    }
   ],
   "source": [
    "n=3.14, 2.718, 1.618, 0.577\n",
    "sum=0\n",
    "for i in n:\n",
    "    sum=sum+i\n",
    "print(sum/len(n))"
   ]
  },
  {
   "cell_type": "markdown",
   "id": "922d1fb9-97a9-412f-9ec7-5e2333a7d811",
   "metadata": {},
   "source": [
    "### Question 2: Convert 98.6 Fahrenheit to Celsius (F = C * 9/5 + 32)"
   ]
  },
  {
   "cell_type": "code",
   "execution_count": 25,
   "id": "9c7dac94-6b38-415a-97e4-4e337108438c",
   "metadata": {},
   "outputs": [
    {
     "name": "stdout",
     "output_type": "stream",
     "text": [
      "37.0\n"
     ]
    }
   ],
   "source": [
    "f=98.6\n",
    "c=(f-32)*5/9\n",
    "c=(98.6-32)*5/9\n",
    "print(c)"
   ]
  },
  {
   "cell_type": "markdown",
   "id": "6271476d-172f-4706-9477-707d044b4f9a",
   "metadata": {},
   "source": [
    "### Question 3: Calculate the compound interest on $1000 at 5.5% for 3 years"
   ]
  },
  {
   "cell_type": "code",
   "execution_count": 30,
   "id": "88dfead4-af03-4311-b351-d2da63ef8a44",
   "metadata": {},
   "outputs": [
    {
     "name": "stdout",
     "output_type": "stream",
     "text": [
      "1174.2413749999998\n",
      "174.24\n"
     ]
    }
   ],
   "source": [
    "# Compound Interest(CI) formula:- A=P*(1 + r/100)**t\n",
    "P = 1000\n",
    "r = 5.5\n",
    "t = 3\n",
    "A=1000*(1+5.5/100)**3\n",
    "print(A)\n",
    "\n",
    "# CI = A - P\n",
    "A=1174.24\n",
    "P=1000\n",
    "print(A-P)"
   ]
  },
  {
   "cell_type": "markdown",
   "id": "4eea8d67-4a03-4eb9-8407-d0d8db124043",
   "metadata": {},
   "source": [
    "### Question 4: Find the hypotenuse of a right triangle with sides 3.5 and 4.2"
   ]
  },
  {
   "cell_type": "code",
   "execution_count": 38,
   "id": "42d7ec81-2ee7-4bec-b5b3-e529c3c0d488",
   "metadata": {},
   "outputs": [
    {
     "name": "stdout",
     "output_type": "stream",
     "text": [
      "5.4671747731346585\n"
     ]
    }
   ],
   "source": [
    "# Formula :-c = (a**2 + b**2)**0.5\n",
    "a=3.5\n",
    "b=4.2\n",
    "c=(a**2 + b**2)**(1/2)     #The exponent 1/2 is the same as square root\n",
    "print(c)"
   ]
  },
  {
   "cell_type": "markdown",
   "id": "17745e2c-b63c-462e-81ae-2cd659f778de",
   "metadata": {},
   "source": [
    "### Question 5: Calculate the volume of a sphere with radius 7.8"
   ]
  },
  {
   "cell_type": "code",
   "execution_count": 44,
   "id": "4aa9ad88-64c6-46d8-9d1e-3e1dd105b580",
   "metadata": {},
   "outputs": [
    {
     "name": "stdout",
     "output_type": "stream",
     "text": [
      "1987.8034175999996\n"
     ]
    }
   ],
   "source": [
    "# Formula V=4/3πr3\n",
    "r = 7.8\n",
    "pi = 3.1416\n",
    "V = (4/3) * pi * r**3\n",
    "V = (4/3) * 3.1416 * (7.8)**3\n",
    "print(V)"
   ]
  },
  {
   "cell_type": "markdown",
   "id": "55b9d8a6-7990-4702-9c8e-38bbaaf2e775",
   "metadata": {},
   "source": [
    "### Question 6: Round 3.14159 to 3 decimal places"
   ]
  },
  {
   "cell_type": "code",
   "execution_count": 45,
   "id": "75580f01-80e3-49ab-9fca-2692e5a3ed0c",
   "metadata": {},
   "outputs": [
    {
     "name": "stdout",
     "output_type": "stream",
     "text": [
      "3.142\n"
     ]
    }
   ],
   "source": [
    "n=3.14159\n",
    "rounded=(round(n,3))\n",
    "print(rounded)"
   ]
  },
  {
   "cell_type": "markdown",
   "id": "f7c140e5-7a80-4f32-84d8-f3ec409d236e",
   "metadata": {},
   "source": [
    "### or"
   ]
  },
  {
   "cell_type": "code",
   "execution_count": 48,
   "id": "a11133d2-2120-4bd8-973e-859598e11d85",
   "metadata": {},
   "outputs": [
    {
     "name": "stdout",
     "output_type": "stream",
     "text": [
      "3.142\n"
     ]
    }
   ],
   "source": [
    "n=3.14159\n",
    "rounded=(float(f\"{n:.3f}\"))\n",
    "print(rounded)"
   ]
  },
  {
   "cell_type": "markdown",
   "id": "8acffbce-372d-48fa-9dc7-b0bc806091a7",
   "metadata": {},
   "source": [
    "### Question 7: Calculate the percentage: 45 out of 67"
   ]
  },
  {
   "cell_type": "code",
   "execution_count": 56,
   "id": "56a6e285-1a45-45fb-aedf-679dab20d56f",
   "metadata": {},
   "outputs": [
    {
     "name": "stdout",
     "output_type": "stream",
     "text": [
      "67.16\n"
     ]
    }
   ],
   "source": [
    "a=45\n",
    "b=67\n",
    "p=45/67*100\n",
    "print(round(p,2))"
   ]
  },
  {
   "cell_type": "markdown",
   "id": "68800a7e-f78a-4936-984f-bedccac0dc03",
   "metadata": {},
   "source": [
    "### Question 8: Find the square root of 23.456"
   ]
  },
  {
   "cell_type": "code",
   "execution_count": 58,
   "id": "5149a1e2-3d66-4c6a-8b2a-4bcb04da0545",
   "metadata": {},
   "outputs": [
    {
     "name": "stdout",
     "output_type": "stream",
     "text": [
      "4.843139477652899\n"
     ]
    }
   ],
   "source": [
    "n=23.456\n",
    "sqaure=n**(1/2)\n",
    "print(sqaure)"
   ]
  },
  {
   "cell_type": "markdown",
   "id": "b8e401b5-b334-4803-a578-3579db5d2e16",
   "metadata": {},
   "source": [
    "### Question 9: Calculate the simple interest: Principal=2500, Rate=6.5%, Time=2.5 years"
   ]
  },
  {
   "cell_type": "code",
   "execution_count": 60,
   "id": "309b4661-8c54-4cae-b0f2-7a03fb9e34fb",
   "metadata": {},
   "outputs": [
    {
     "name": "stdout",
     "output_type": "stream",
     "text": [
      "406.25\n"
     ]
    }
   ],
   "source": [
    "#Formula: SI=P*R*T/100\n",
    "p=2500\n",
    "r=6.5\n",
    "t=2.5\n",
    "SI=2500*6.5*2.5/100\n",
    "print(SI)"
   ]
  },
  {
   "cell_type": "markdown",
   "id": "ee6d5452-9c07-404b-b779-f8a5269b998d",
   "metadata": {},
   "source": [
    "### Question 10: Convert 45.7 degrees to radians"
   ]
  },
  {
   "cell_type": "code",
   "execution_count": 64,
   "id": "518789b9-5761-47b7-8319-11b205b0bd9d",
   "metadata": {},
   "outputs": [
    {
     "name": "stdout",
     "output_type": "stream",
     "text": [
      "0.797\n"
     ]
    }
   ],
   "source": [
    "# Formula: r=d*pi/180\n",
    "d=45.7\n",
    "pi=3.14\n",
    "r=45.7*3.14/180\n",
    "print(round(r,3))"
   ]
  },
  {
   "cell_type": "code",
   "execution_count": null,
   "id": "a7ef715b-f37c-47e1-a080-20c2f57eb3f4",
   "metadata": {},
   "outputs": [],
   "source": [
    "    "
   ]
  }
 ],
 "metadata": {
  "kernelspec": {
   "display_name": "Python 3 (ipykernel)",
   "language": "python",
   "name": "python3"
  },
  "language_info": {
   "codemirror_mode": {
    "name": "ipython",
    "version": 3
   },
   "file_extension": ".py",
   "mimetype": "text/x-python",
   "name": "python",
   "nbconvert_exporter": "python",
   "pygments_lexer": "ipython3",
   "version": "3.9.7"
  }
 },
 "nbformat": 4,
 "nbformat_minor": 5
}
