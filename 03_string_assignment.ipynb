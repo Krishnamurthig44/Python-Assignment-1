{
 "cells": [
  {
   "cell_type": "markdown",
   "id": "e1fa65a4-82a2-4bf4-8e27-d45928ac119f",
   "metadata": {},
   "source": [
    "### Question 1: Reverse the string \"Python Programming\"\n"
   ]
  },
  {
   "cell_type": "code",
   "execution_count": 11,
   "id": "57c55db1-f8d0-4a0f-8592-309fe82e3467",
   "metadata": {},
   "outputs": [
    {
     "name": "stdout",
     "output_type": "stream",
     "text": [
      "gnimmargorP nohtyP\n"
     ]
    }
   ],
   "source": [
    "s=\"Python Programming\"\n",
    "print(s[::-1])"
   ]
  },
  {
   "cell_type": "markdown",
   "id": "61981bd8-e820-438b-8b1d-ff24169fbbc9",
   "metadata": {},
   "source": [
    "#### Or"
   ]
  },
  {
   "cell_type": "code",
   "execution_count": 8,
   "id": "2fca97b5-b9d3-4ff1-b30d-7996e926b8e2",
   "metadata": {},
   "outputs": [
    {
     "name": "stdout",
     "output_type": "stream",
     "text": [
      "['P', 'y', 't', 'h', 'o', 'n', ' ', 'P', 'r', 'o', 'g', 'r', 'a', 'm', 'm', 'i', 'n', 'g']\n",
      "gnimmargorP nohtyP\n"
     ]
    }
   ],
   "source": [
    "s=\"Python Programming\"\n",
    "l=list(s)\n",
    "print(l)\n",
    "l.reverse()\n",
    "y=''.join(l)   #'' used to avoid seperator b/t the char....join used to combine all string to one string.\n",
    "print(y)"
   ]
  },
  {
   "cell_type": "markdown",
   "id": "56421f42-a638-4bc7-9e14-4ad9cfd780fc",
   "metadata": {},
   "source": [
    "### Question 2: Check if \"racecar\" is a palindrome"
   ]
  },
  {
   "cell_type": "code",
   "execution_count": 38,
   "id": "a0647638-982b-42de-b147-740af0204d8f",
   "metadata": {},
   "outputs": [
    {
     "name": "stdout",
     "output_type": "stream",
     "text": [
      "It is a Palindrome\n"
     ]
    }
   ],
   "source": [
    "s=\"121\"\n",
    "re=s[::-1]   \n",
    "if s == re:\n",
    "    print(\"It is a Palindrome\")\n",
    "else:\n",
    "    print(\"It is not a Palindrome\")"
   ]
  },
  {
   "cell_type": "markdown",
   "id": "4dfd2189-4892-429f-a0d9-bfee6e0fee2f",
   "metadata": {},
   "source": [
    "### Question 3: Count the number of words in \"Python is a great programming language\""
   ]
  },
  {
   "cell_type": "code",
   "execution_count": 46,
   "id": "14e062e9-ac97-410d-b262-53c0de00b348",
   "metadata": {},
   "outputs": [
    {
     "name": "stdout",
     "output_type": "stream",
     "text": [
      "6\n"
     ]
    }
   ],
   "source": [
    "s=\"Python is a great programming language\"\n",
    "count=0\n",
    "for i in s.split():\n",
    "    count=count+1\n",
    "print(count)\n",
    "    "
   ]
  },
  {
   "cell_type": "markdown",
   "id": "71cf5935-e573-4110-a587-33b2a67aca92",
   "metadata": {},
   "source": [
    "#### Or"
   ]
  },
  {
   "cell_type": "code",
   "execution_count": 48,
   "id": "d069bddf-3d6c-4fa7-b00f-69173bc19900",
   "metadata": {},
   "outputs": [
    {
     "name": "stdout",
     "output_type": "stream",
     "text": [
      "6\n"
     ]
    }
   ],
   "source": [
    "s=\"Python is a great programming language\"\n",
    "words=s.split()\n",
    "print(len(words))"
   ]
  },
  {
   "cell_type": "markdown",
   "id": "affd395d-5905-40bb-97e8-a399c7d6e817",
   "metadata": {},
   "source": [
    "### Question 4: Convert \"hello world\" to title case"
   ]
  },
  {
   "cell_type": "code",
   "execution_count": 50,
   "id": "8e2d7f0c-c5ec-494b-a05c-fc8a21bbd0a9",
   "metadata": {},
   "outputs": [
    {
     "name": "stdout",
     "output_type": "stream",
     "text": [
      "Hello World\n"
     ]
    }
   ],
   "source": [
    "s=\"hello world\"\n",
    "title=s.title()\n",
    "print(title)"
   ]
  },
  {
   "cell_type": "markdown",
   "id": "6cdec23e-e6fc-4a20-9342-0d735fbe5ccb",
   "metadata": {},
   "source": [
    "### Question 5: Find the length of string \"Data Science\""
   ]
  },
  {
   "cell_type": "code",
   "execution_count": 51,
   "id": "8fb4b3c0-4dd3-4691-a9b9-806f1e96ce0e",
   "metadata": {},
   "outputs": [
    {
     "name": "stdout",
     "output_type": "stream",
     "text": [
      "12\n"
     ]
    }
   ],
   "source": [
    "s=\"Data Science\"\n",
    "print(len(s))"
   ]
  },
  {
   "cell_type": "markdown",
   "id": "d740f280-d085-4366-aac6-54fa4458b400",
   "metadata": {},
   "source": [
    "### Question 6: Replace all spaces with underscores in \"Machine Learning\""
   ]
  },
  {
   "cell_type": "code",
   "execution_count": 54,
   "id": "21c629d6-e02c-4fb4-a70c-a54b427b5714",
   "metadata": {},
   "outputs": [
    {
     "name": "stdout",
     "output_type": "stream",
     "text": [
      "Machine_Learning\n"
     ]
    }
   ],
   "source": [
    "s=\"Machine Learning\"\n",
    "re=s.replace(' ',\"_\")\n",
    "print(re)"
   ]
  },
  {
   "cell_type": "markdown",
   "id": "fab6d653-047b-4da3-a616-8d244f688946",
   "metadata": {},
   "source": [
    "### Question 7: Check if \"python\" is in \"Python Programming Language\""
   ]
  },
  {
   "cell_type": "code",
   "execution_count": 79,
   "id": "111e1c32-073f-4338-9ff6-c307e1ddced3",
   "metadata": {},
   "outputs": [
    {
     "name": "stdout",
     "output_type": "stream",
     "text": [
      "False\n"
     ]
    }
   ],
   "source": [
    "s=\"Python Programming Language\"\n",
    "check=\"python\" in s\n",
    "print(check)"
   ]
  },
  {
   "cell_type": "markdown",
   "id": "77401eab-1166-457d-8055-db11d5c1973c",
   "metadata": {},
   "source": [
    "### Question 8: Extract the first 5 characters from \"Artificial Intelligence\""
   ]
  },
  {
   "cell_type": "code",
   "execution_count": 68,
   "id": "04387557-2e16-4e98-a39a-b33618e3ba42",
   "metadata": {},
   "outputs": [
    {
     "name": "stdout",
     "output_type": "stream",
     "text": [
      "Artifi\n"
     ]
    }
   ],
   "source": [
    "s=\"Artificial Intelligence\"\n",
    "ext=s[0:6]\n",
    "print(ext)"
   ]
  },
  {
   "cell_type": "markdown",
   "id": "41f9794d-4ad6-4cd8-aad5-9788bd7384fd",
   "metadata": {},
   "source": [
    "### Question 9: Convert \"UPPERCASE\" to lowercase"
   ]
  },
  {
   "cell_type": "code",
   "execution_count": 69,
   "id": "75126d34-9e22-4d26-bb8d-18bdb778d16c",
   "metadata": {},
   "outputs": [
    {
     "name": "stdout",
     "output_type": "stream",
     "text": [
      "uppercase\n"
     ]
    }
   ],
   "source": [
    "s=\"UPPERCASE\"\n",
    "print(s.lower())"
   ]
  },
  {
   "cell_type": "markdown",
   "id": "f50b8e94-c35f-418d-b465-56d2469f6d36",
   "metadata": {},
   "source": [
    "### Question 10: Remove all vowels from \"Computer Science\""
   ]
  },
  {
   "cell_type": "code",
   "execution_count": 94,
   "id": "4b53b696-1114-4a55-83ef-02befad3eda4",
   "metadata": {},
   "outputs": [
    {
     "name": "stdout",
     "output_type": "stream",
     "text": [
      "Cmptr Scnc\n"
     ]
    }
   ],
   "source": [
    "s=\"Computer Science\"\n",
    "for i in \"aeiouAEIOU\":\n",
    "    s=s.replace(i,\"\")\n",
    "print(s)"
   ]
  },
  {
   "cell_type": "markdown",
   "id": "b13926b9-7fce-48aa-aafd-62bd1bf52e5e",
   "metadata": {},
   "source": [
    "#### Or"
   ]
  },
  {
   "cell_type": "code",
   "execution_count": 95,
   "id": "f13b7489-3ee3-4816-84a2-cde6bbd090fc",
   "metadata": {},
   "outputs": [
    {
     "name": "stdout",
     "output_type": "stream",
     "text": [
      "Cmptr Scnc\n"
     ]
    }
   ],
   "source": [
    "s=\"Computer Science\"\n",
    "vowels=\"aeiou\"\n",
    "result=\"\"\n",
    "for i in s:\n",
    "    if i not in vowels:\n",
    "        result=result+i\n",
    "print(result)\n",
    "    "
   ]
  },
  {
   "cell_type": "markdown",
   "id": "138fc545-6d8f-4410-b584-d1b635473499",
   "metadata": {},
   "source": [
    "### Question 11: Find the most frequent character in \"mississippi\""
   ]
  },
  {
   "cell_type": "code",
   "execution_count": 1,
   "id": "0b2620a2-cc3a-47d4-adad-b608dcf47fae",
   "metadata": {},
   "outputs": [
    {
     "name": "stdout",
     "output_type": "stream",
     "text": [
      "i\n"
     ]
    }
   ],
   "source": [
    "#GPT\n",
    "s = \"mississippi\"\n",
    "\n",
    "# Count frequency of each character\n",
    "freq = {}\n",
    "for ch in s:\n",
    "    freq[ch] = freq.get(ch, 0) + 1\n",
    "\n",
    "# Find the character with maximum frequency\n",
    "most_freq_char = max(freq, key=freq.get)\n",
    "print(most_freq_char)\n"
   ]
  },
  {
   "cell_type": "markdown",
   "id": "bed16194-e19a-4274-bd73-d08cf9df0c5d",
   "metadata": {},
   "source": [
    "### Question 12: Check if two strings are anagrams: \"listen\" and \"silent\""
   ]
  },
  {
   "cell_type": "code",
   "execution_count": 22,
   "id": "a5967c12-3763-4e99-9e96-d096706edd3b",
   "metadata": {},
   "outputs": [
    {
     "name": "stdout",
     "output_type": "stream",
     "text": [
      "It is an anagram\n"
     ]
    }
   ],
   "source": [
    "# anagram contain the same letters.\n",
    "# Each letter appears the same number of times.\n",
    "# The order of letters can be different.\n",
    "\n",
    "s1=\"listen\"\n",
    "s2=\"silent\"\n",
    "if sorted(s1)==sorted(s2):\n",
    "    print(\"It is an anagram\")\n",
    "else:\n",
    "    print(\"It is not a anagram\")"
   ]
  },
  {
   "cell_type": "markdown",
   "id": "5acdb64f-60fc-4236-b149-e73059990f82",
   "metadata": {},
   "source": [
    "### Question 13: Capitalize first letter of each word in \"python programming language\""
   ]
  },
  {
   "cell_type": "code",
   "execution_count": 99,
   "id": "5c61fd81-12d0-4dc0-93a8-0edf66947097",
   "metadata": {},
   "outputs": [
    {
     "name": "stdout",
     "output_type": "stream",
     "text": [
      "Python Programming Language\n"
     ]
    }
   ],
   "source": [
    "s=\"python programming language\"\n",
    "print(s.title())"
   ]
  },
  {
   "cell_type": "markdown",
   "id": "d91fcd8d-add9-4f2f-a960-8dade010026b",
   "metadata": {},
   "source": [
    "### Question 14: Count consonants in \"Hello World\""
   ]
  },
  {
   "cell_type": "code",
   "execution_count": 15,
   "id": "e09fc8c4-a80a-4452-aaf0-356771b2669d",
   "metadata": {},
   "outputs": [
    {
     "name": "stdout",
     "output_type": "stream",
     "text": [
      "7\n"
     ]
    }
   ],
   "source": [
    "s=\"Hello World\"\n",
    "count = 0\n",
    "for i in s:\n",
    "    if i.isalpha() and i not in \"aeiouAEIOU\":\n",
    "        count = count + 1\n",
    "print(count)"
   ]
  },
  {
   "cell_type": "markdown",
   "id": "d8dddaa7-ef22-445e-a07d-dcddc9bb128d",
   "metadata": {},
   "source": [
    "### Question 15: Find the longest word in \"Python is a programming language\""
   ]
  },
  {
   "cell_type": "code",
   "execution_count": 47,
   "id": "acd67a32-a1a0-4738-b291-aa1aa8a9d358",
   "metadata": {},
   "outputs": [
    {
     "name": "stdout",
     "output_type": "stream",
     "text": [
      "programming\n"
     ]
    }
   ],
   "source": [
    "s=\"Python is a programming language\"\n",
    "words = s.split()\n",
    "longest = max(words, key=len)  # Compare by length of each word\n",
    "print(longest)"
   ]
  },
  {
   "cell_type": "markdown",
   "id": "48ca49c1-41b5-491a-9105-0e019acee71d",
   "metadata": {},
   "source": [
    "### Question 16: Remove all punctuation from \"Hello, World! How are you?\""
   ]
  },
  {
   "cell_type": "code",
   "execution_count": 56,
   "id": "51c57473-abd4-44e3-b069-8f33f9be986c",
   "metadata": {},
   "outputs": [
    {
     "name": "stdout",
     "output_type": "stream",
     "text": [
      "Hello World How are you"
     ]
    }
   ],
   "source": [
    "s=\"Hello, World! How are you?\"\n",
    "for i in s:\n",
    "    if i.isalpha() or i.isspace():\n",
    "        print(i,end=\"\")"
   ]
  },
  {
   "cell_type": "markdown",
   "id": "1feaae8a-77aa-4195-9208-d71e80b5143b",
   "metadata": {},
   "source": [
    "### Question 17: Check if string starts with \"Python\""
   ]
  },
  {
   "cell_type": "code",
   "execution_count": 105,
   "id": "f57f3d3e-9e73-46e0-9eb4-edbd6c3122f1",
   "metadata": {},
   "outputs": [
    {
     "name": "stdout",
     "output_type": "stream",
     "text": [
      "True\n"
     ]
    }
   ],
   "source": [
    "S=\"Python\"\n",
    "ch=S.startswith(\"Python\")\n",
    "print(ch)"
   ]
  },
  {
   "cell_type": "markdown",
   "id": "030af4ef-bdb1-47c6-8a77-052e8a987459",
   "metadata": {},
   "source": [
    "### Question 18: Find the index of first occurrence of 'o' in \"Hello World\""
   ]
  },
  {
   "cell_type": "code",
   "execution_count": 107,
   "id": "696b4858-e797-406a-8ede-88f1fb392a59",
   "metadata": {},
   "outputs": [
    {
     "name": "stdout",
     "output_type": "stream",
     "text": [
      "4\n"
     ]
    }
   ],
   "source": [
    "s=\"Hello World\"\n",
    "index=s.find(\"o\")\n",
    "print(index)"
   ]
  },
  {
   "cell_type": "markdown",
   "id": "5748b2de-4f13-4203-928a-1a5594b14e12",
   "metadata": {},
   "source": [
    "### Question 19: Split string \"apple,banana,orange\" by comma"
   ]
  },
  {
   "cell_type": "code",
   "execution_count": 108,
   "id": "9d43ebbb-1455-4896-96b2-06b00a94533b",
   "metadata": {},
   "outputs": [
    {
     "name": "stdout",
     "output_type": "stream",
     "text": [
      "['apple', 'banana', 'orange']\n"
     ]
    }
   ],
   "source": [
    "s=\"apple,banana,orange\"\n",
    "spt=s.split(\",\")\n",
    "print(spt)"
   ]
  },
  {
   "cell_type": "markdown",
   "id": "d1725065-a150-4aee-9d98-6dacab15d33a",
   "metadata": {},
   "source": [
    "### Question 20: Join list ['Python', 'is', 'awesome'] with spaces"
   ]
  },
  {
   "cell_type": "code",
   "execution_count": 110,
   "id": "4d8da4c2-8ca1-4b98-b510-3f16ac722d13",
   "metadata": {},
   "outputs": [
    {
     "name": "stdout",
     "output_type": "stream",
     "text": [
      "Python is awesome\n"
     ]
    }
   ],
   "source": [
    "l=['Python', 'is', 'awesome']\n",
    "join=' '.join(l)\n",
    "print(join)"
   ]
  },
  {
   "cell_type": "markdown",
   "id": "b079620a-738e-4f65-8a69-65327fa2ea73",
   "metadata": {},
   "source": [
    "### Question 21: Check if string contains only digits: \"12345\""
   ]
  },
  {
   "cell_type": "code",
   "execution_count": 113,
   "id": "4676110f-cf56-4efb-9ba9-0930a05367fe",
   "metadata": {},
   "outputs": [
    {
     "name": "stdout",
     "output_type": "stream",
     "text": [
      "True\n"
     ]
    }
   ],
   "source": [
    "s=\"12345\"\n",
    "print(s.isnumeric())"
   ]
  },
  {
   "cell_type": "markdown",
   "id": "14ae8d73-898c-4e65-a4c1-985adbf25aee",
   "metadata": {},
   "source": [
    "### Question 22: Check if string contains only letters: \"HelloWorld\""
   ]
  },
  {
   "cell_type": "code",
   "execution_count": 116,
   "id": "5a56b6ac-60da-496f-8ea7-636faf173d8b",
   "metadata": {},
   "outputs": [
    {
     "name": "stdout",
     "output_type": "stream",
     "text": [
      "True\n"
     ]
    }
   ],
   "source": [
    "s=\"HelloWorld\"\n",
    "print(s.isalpha())"
   ]
  },
  {
   "cell_type": "markdown",
   "id": "736a8ebb-933d-4424-9b40-88504a362305",
   "metadata": {},
   "source": [
    "### Question 23: Convert \"hello world\" to \"hElLo WoRlD\" (alternating case)"
   ]
  },
  {
   "cell_type": "code",
   "execution_count": 2,
   "id": "cb478f0f-5004-420a-8dbe-5a5e15b25928",
   "metadata": {},
   "outputs": [
    {
     "name": "stdout",
     "output_type": "stream",
     "text": [
      "hElLo wOrLd\n"
     ]
    }
   ],
   "source": [
    "#GPT\n",
    "s = \"hello world\"\n",
    "result = \"\"\n",
    "\n",
    "for i, ch in enumerate(s):\n",
    "    if ch.isalpha():  # Check if character is a letter\n",
    "        if i % 2 == 0:\n",
    "            result += ch.lower()\n",
    "        else:\n",
    "            result += ch.upper()\n",
    "    else:\n",
    "        result += ch  # Keep spaces and other characters unchanged\n",
    "\n",
    "print(result)\n"
   ]
  },
  {
   "cell_type": "markdown",
   "id": "ddf64f3d-97c7-41d3-8bdc-f9b32c83155c",
   "metadata": {},
   "source": [
    "### Question 24: Find all positions of 'a' in \"banana\""
   ]
  },
  {
   "cell_type": "code",
   "execution_count": 4,
   "id": "42a390f1-5e8c-4fc4-a147-8e5c70f8f6cc",
   "metadata": {},
   "outputs": [
    {
     "name": "stdout",
     "output_type": "stream",
     "text": [
      "[1, 3, 5]\n"
     ]
    }
   ],
   "source": [
    "#GPT\n",
    "s = \"banana\"\n",
    "positions = [i for i, ch in enumerate(s) if ch == 'a']\n",
    "print(positions)\n"
   ]
  },
  {
   "cell_type": "markdown",
   "id": "7f75ae32-6a3a-4e63-9205-6767822fb05f",
   "metadata": {},
   "source": [
    "### Question 25: Remove leading and trailing whitespace from \"  Hello World  \""
   ]
  },
  {
   "cell_type": "code",
   "execution_count": 132,
   "id": "6836eddd-ae86-430c-b524-8f8a4127e75a",
   "metadata": {},
   "outputs": [
    {
     "data": {
      "text/plain": [
       "'Hello World'"
      ]
     },
     "execution_count": 132,
     "metadata": {},
     "output_type": "execute_result"
    }
   ],
   "source": [
    "s=\" Hello World \"\n",
    "s.strip()"
   ]
  },
  {
   "cell_type": "markdown",
   "id": "3afe55a5-0b3f-49c4-a533-441317906b43",
   "metadata": {},
   "source": [
    "### Question 26: Check if string ends with \"ing\": \"programming\""
   ]
  },
  {
   "cell_type": "code",
   "execution_count": 133,
   "id": "0f1f91ff-2b4d-4dde-b320-9343dce18545",
   "metadata": {},
   "outputs": [
    {
     "data": {
      "text/plain": [
       "True"
      ]
     },
     "execution_count": 133,
     "metadata": {},
     "output_type": "execute_result"
    }
   ],
   "source": [
    "s=\"programming\"\n",
    "s.endswith(\"ing\")"
   ]
  },
  {
   "cell_type": "markdown",
   "id": "245f9ea5-3bc7-46c8-b12a-84913e3cb043",
   "metadata": {},
   "source": [
    "### Question 27: Replace first occurrence of 'o' with '0' in \"Hello World\""
   ]
  },
  {
   "cell_type": "code",
   "execution_count": 143,
   "id": "b58633de-1baf-4f9d-ba1f-7249f1f21ea8",
   "metadata": {},
   "outputs": [
    {
     "data": {
      "text/plain": [
       "'Hell0 World'"
      ]
     },
     "execution_count": 143,
     "metadata": {},
     "output_type": "execute_result"
    }
   ],
   "source": [
    "s=\"Hello World\"\n",
    "s.replace(\"o\",\"0\",1)"
   ]
  },
  {
   "cell_type": "markdown",
   "id": "61815cba-5ffb-45f8-a6ef-a9e09dc27f92",
   "metadata": {},
   "source": [
    "### Question 28: Find the shortest word in \"Python is a programming language\""
   ]
  },
  {
   "cell_type": "code",
   "execution_count": 63,
   "id": "29230d72-0be2-40fa-b753-8d83ebb8f8d1",
   "metadata": {},
   "outputs": [
    {
     "name": "stdout",
     "output_type": "stream",
     "text": [
      "a\n"
     ]
    }
   ],
   "source": [
    "s=\"Python is a programming language\"\n",
    "word = s.split()\n",
    "shortest = min(word, key=len)\n",
    "print(shortest)"
   ]
  },
  {
   "cell_type": "markdown",
   "id": "f64a9a15-e7c9-43bd-9d59-9d3729238c22",
   "metadata": {},
   "source": [
    "### Question 29: Count words that start with 'p' in \"Python programming is powerful\""
   ]
  },
  {
   "cell_type": "code",
   "execution_count": 68,
   "id": "6d1ddc45-462f-44bf-8571-b1380f576b19",
   "metadata": {},
   "outputs": [
    {
     "name": "stdout",
     "output_type": "stream",
     "text": [
      "3\n"
     ]
    }
   ],
   "source": [
    "s=\"Python programming is powerful\"\n",
    "count=0\n",
    "for i in s.split():\n",
    "    if i.lower().startswith(\"p\"):\n",
    "        count=count+1\n",
    "print(count)"
   ]
  },
  {
   "cell_type": "markdown",
   "id": "b709c422-a110-4415-9543-ce9e92d24c4c",
   "metadata": {},
   "source": [
    "### Question 30: Reverse words in \"Hello World Python\""
   ]
  },
  {
   "cell_type": "code",
   "execution_count": 148,
   "id": "b66cf265-cec9-4ce3-b0b0-c6a5d8b5c615",
   "metadata": {},
   "outputs": [
    {
     "name": "stdout",
     "output_type": "stream",
     "text": [
      "nohtyP dlroW olleH\n"
     ]
    }
   ],
   "source": [
    "s=\"Hello World Python\"\n",
    "l=list(s)\n",
    "l.reverse()\n",
    "re=''.join(l)\n",
    "print(re)"
   ]
  },
  {
   "cell_type": "markdown",
   "id": "2d99df7a-c780-4421-9cb4-7cea76858664",
   "metadata": {},
   "source": [
    "### Question 31: Check if string is a valid email format: \"user@example.com\""
   ]
  },
  {
   "cell_type": "code",
   "execution_count": 6,
   "id": "f806a752-8d0f-4885-9318-7192733e7577",
   "metadata": {},
   "outputs": [
    {
     "name": "stdout",
     "output_type": "stream",
     "text": [
      "Valid email format\n"
     ]
    }
   ],
   "source": [
    "s=\"user@example.com\"\n",
    "if s.count(\"@\") == 1 and s.count(\".\") == 1:\n",
    "    at = s.index(\"@\")\n",
    "    dot = s.index(\".\")\n",
    "\n",
    "    if 0<at <dot <len(s)-1:\n",
    "        print(\"Valid email format\")\n",
    "    else:\n",
    "        print(\"Invalid email format\")\n",
    "else:\n",
    "    print(\"Invalid email format\")"
   ]
  },
  {
   "cell_type": "markdown",
   "id": "29b13aa1-c071-4a0c-b559-6475ef97cc31",
   "metadata": {},
   "source": [
    "### Question 32: Extract domain from \"https://www.example.com/path\""
   ]
  },
  {
   "cell_type": "code",
   "execution_count": 29,
   "id": "0430ef51-2c97-49ba-82a2-558f022867f7",
   "metadata": {},
   "outputs": [
    {
     "name": "stdout",
     "output_type": "stream",
     "text": [
      "example.com\n"
     ]
    }
   ],
   "source": [
    "#no\n",
    "s=\"https://www.example.com/path\"\n",
    "domain = s.split(\"//\")[-1].split(\"/\")[0]\n",
    "\n",
    "if domain.startswith(\"www.\"):\n",
    "    domain=domain[4:]\n",
    "print(domain)"
   ]
  },
  {
   "cell_type": "markdown",
   "id": "c89c623f-4daf-49b4-bc82-1108ab66d720",
   "metadata": {},
   "source": [
    "### Question 33: Count lines in multi-line string"
   ]
  },
  {
   "cell_type": "code",
   "execution_count": 44,
   "id": "9421b704-2184-4401-9b5f-0fa6ee61990c",
   "metadata": {},
   "outputs": [
    {
     "name": "stdout",
     "output_type": "stream",
     "text": [
      "3\n"
     ]
    }
   ],
   "source": [
    "#no\n",
    "s='''Hi this is krishna\n",
    "From Bangalore\n",
    "Graduated from CMRIT'''\n",
    "line=len(s.split('\\n'))\n",
    "print(line)"
   ]
  },
  {
   "cell_type": "markdown",
   "id": "382bc5a8-a628-45ef-a00f-e0e8c25902a0",
   "metadata": {},
   "source": [
    "### Question 34: Find common characters between \"hello\" and \"world\""
   ]
  },
  {
   "cell_type": "code",
   "execution_count": 53,
   "id": "c174b6dd-6691-40c6-abc4-2392de36a3f0",
   "metadata": {},
   "outputs": [
    {
     "name": "stdout",
     "output_type": "stream",
     "text": [
      "{'o', 'l'}\n"
     ]
    }
   ],
   "source": [
    "s1=\"hello\"\n",
    "s2=\"world\"\n",
    "common = set(s1) & set(s2) #convert to set and & use to get common charectes.\n",
    "print(common)"
   ]
  },
  {
   "cell_type": "markdown",
   "id": "98c20fa5-affb-4808-af7f-c6a307b54a04",
   "metadata": {},
   "source": [
    "### Question 35: Check if string is a valid phone number: \"+1-555-123-4567\""
   ]
  },
  {
   "cell_type": "code",
   "execution_count": 5,
   "id": "c5047430-2e2b-4bd8-837a-a704cdd48aed",
   "metadata": {},
   "outputs": [
    {
     "name": "stdout",
     "output_type": "stream",
     "text": [
      "Valid phone number\n"
     ]
    }
   ],
   "source": [
    "#GPT\n",
    "import re\n",
    "\n",
    "phone = \"+1-555-123-4567\"\n",
    "\n",
    "# Regular expression pattern\n",
    "pattern = r\"^\\+\\d-\\d{3}-\\d{3}-\\d{4}$\"\n",
    "\n",
    "if re.match(pattern, phone):\n",
    "    print(\"Valid phone number\")\n",
    "else:\n",
    "    print(\"Invalid phone number\")\n"
   ]
  },
  {
   "cell_type": "markdown",
   "id": "da05cc1e-c4b6-4a44-9b69-3659a9267402",
   "metadata": {},
   "source": [
    "### Question 36: Extract numbers from \"abc123def456ghi789\""
   ]
  },
  {
   "cell_type": "code",
   "execution_count": 17,
   "id": "d114e4a6-61bb-4062-8c5b-71fd2fffe8d1",
   "metadata": {},
   "outputs": [
    {
     "name": "stdout",
     "output_type": "stream",
     "text": [
      "123456789"
     ]
    }
   ],
   "source": [
    "s=\"abc123def456ghi789\"\n",
    "for i in s:\n",
    "    if i.isnumeric():\n",
    "        print(i,end=\"\")"
   ]
  },
  {
   "cell_type": "markdown",
   "id": "7d8b5df4-2988-40bd-9f3e-f72a0b948e37",
   "metadata": {},
   "source": [
    "### Question 37: Convert \"snake_case\" to \"camelCase\""
   ]
  },
  {
   "cell_type": "code",
   "execution_count": 7,
   "id": "9166f835-33a4-43f6-82ea-2a509c87a022",
   "metadata": {},
   "outputs": [
    {
     "name": "stdout",
     "output_type": "stream",
     "text": [
      "snakeCase\n"
     ]
    }
   ],
   "source": [
    "#GPT\n",
    "s = \"snake_case\"\n",
    "\n",
    "parts = s.split('_')                 # Split by underscore\n",
    "camel_case = parts[0] + ''.join(word.capitalize() for word in parts[1:])\n",
    "print(camel_case)\n"
   ]
  },
  {
   "cell_type": "markdown",
   "id": "6c0bcfff-1ef0-4c33-9d18-b1bdee9ed744",
   "metadata": {},
   "source": [
    "### Question 38: Check if string is a valid palindrome ignoring case: \"A man a plan a canal Panama\"\n"
   ]
  },
  {
   "cell_type": "code",
   "execution_count": 80,
   "id": "1c017111-b620-4bfe-924f-32981786741a",
   "metadata": {},
   "outputs": [
    {
     "name": "stdout",
     "output_type": "stream",
     "text": [
      "amanaplanacanalpanama\n",
      "amanaplanacanalpanama\n",
      "Valid Palindrome\n"
     ]
    }
   ],
   "source": [
    "s=\"A man a plan a canal Panama\"\n",
    "lower=s.replace(\" \",\"\").lower()\n",
    "print(lower)\n",
    "re=lower[::-1]\n",
    "print(re)\n",
    "\n",
    "if lower == re:\n",
    "    print(\"Valid Palindrome\")\n",
    "else:\n",
    "    print(\"Not a valid Palindrome\")"
   ]
  },
  {
   "cell_type": "markdown",
   "id": "d5eff0bf-9a4b-40a0-9e0f-6278522c9765",
   "metadata": {},
   "source": [
    "### Question 39: Find the most common word in \"the quick brown fox jumps over the lazy dog\""
   ]
  },
  {
   "cell_type": "code",
   "execution_count": 9,
   "id": "c6758235-0a43-4d8d-bb7e-5338a8ab2b27",
   "metadata": {},
   "outputs": [
    {
     "name": "stdout",
     "output_type": "stream",
     "text": [
      "the\n"
     ]
    }
   ],
   "source": [
    "#GPT\n",
    "text = \"the quick brown fox jumps over the lazy dog\"\n",
    "\n",
    "# Split text into words\n",
    "words = text.split()\n",
    "\n",
    "# Count frequency of each word\n",
    "freq = {}\n",
    "for word in words:\n",
    "    freq[word] = freq.get(word, 0) + 1\n",
    "\n",
    "# Find the most common word\n",
    "most_common_word = max(freq, key=freq.get)\n",
    "print(most_common_word)\n"
   ]
  },
  {
   "cell_type": "markdown",
   "id": "3b1df8b6-52f1-4148-82a5-af6cd50def51",
   "metadata": {},
   "source": [
    "### Question 40: Generate acronym from \"National Aeronautics and Space Administration\""
   ]
  },
  {
   "cell_type": "code",
   "execution_count": 13,
   "id": "ad5065c3-6971-4c51-ad6f-0bcc3105a444",
   "metadata": {},
   "outputs": [
    {
     "name": "stdout",
     "output_type": "stream",
     "text": [
      "NASA\n"
     ]
    }
   ],
   "source": [
    "# An acronym is a word formed from the first letters of a group of words.\n",
    "# Example:\n",
    "#     \"National Aeronautics and Space Administration\" becomes → NASA\n",
    "\n",
    "s=\"National Aeronautics and Space Administration\"\n",
    "a=[]\n",
    "for i in s.split():\n",
    "    if i.lower() not in ['and','of','the']:\n",
    "        a.append(i[0].upper())\n",
    "\n",
    "print(\"\".join(a))"
   ]
  },
  {
   "cell_type": "markdown",
   "id": "feed9da1-75a1-4de9-b1ed-59782bfd0d6a",
   "metadata": {},
   "source": [
    "### Question 41: Check if string contains balanced parentheses: \"((()))\""
   ]
  },
  {
   "cell_type": "code",
   "execution_count": 24,
   "id": "2151730d-eca1-4825-b7c2-ac46138cd05f",
   "metadata": {},
   "outputs": [
    {
     "name": "stdout",
     "output_type": "stream",
     "text": [
      "1\n",
      "2\n",
      "3\n",
      "2\n",
      "1\n",
      "0\n",
      "It is on Balanced\n"
     ]
    }
   ],
   "source": [
    "p=\"((()))\"\n",
    "count=0\n",
    "for i in p:\n",
    "    if i == '(':\n",
    "        count=count+1\n",
    "        print(count)\n",
    "    elif i == ')':\n",
    "        count=count-1\n",
    "        print(count)\n",
    "\n",
    "if count == 0:\n",
    "    print(\"It is on Balanced\")\n",
    "else:\n",
    "    print(\"It is not Balanced\")\n"
   ]
  },
  {
   "cell_type": "markdown",
   "id": "7e314099-1f2c-41f9-9da1-7c4db00c7093",
   "metadata": {},
   "source": [
    "### Question 42: Convert \"hello world\" to Morse code"
   ]
  },
  {
   "cell_type": "code",
   "execution_count": 10,
   "id": "3366fd29-2d12-40ff-9594-bd771d095587",
   "metadata": {},
   "outputs": [
    {
     "name": "stdout",
     "output_type": "stream",
     "text": [
      ".... . .-.. .-.. --- / .-- --- .-. .-.. -..\n"
     ]
    }
   ],
   "source": [
    "#GPT\n",
    "# Morse code mapping\n",
    "morse_dict = {\n",
    "    'A': '.-',    'B': '-...',  'C': '-.-.', 'D': '-..', 'E': '.', \n",
    "    'F': '..-.',  'G': '--.',   'H': '....', 'I': '..',  'J': '.---',\n",
    "    'K': '-.-',   'L': '.-..',  'M': '--',   'N': '-.',  'O': '---',\n",
    "    'P': '.--.',  'Q': '--.-',  'R': '.-.',  'S': '...', 'T': '-',\n",
    "    'U': '..-',   'V': '...-',  'W': '.--',  'X': '-..-','Y': '-.--',\n",
    "    'Z': '--..',  '0': '-----', '1': '.----','2': '..---','3': '...--',\n",
    "    '4': '....-', '5': '.....', '6': '-....','7': '--...','8': '---..',\n",
    "    '9': '----.', ' ': '/'  # space represented by '/'\n",
    "}\n",
    "\n",
    "text = \"hello world\"\n",
    "text = text.upper()  # Convert to uppercase\n",
    "\n",
    "morse_code = ' '.join(morse_dict[char] for char in text)\n",
    "print(morse_code)\n",
    "\n"
   ]
  },
  {
   "cell_type": "markdown",
   "id": "5049a0aa-c883-47b9-9f09-d373095dee0a",
   "metadata": {},
   "source": [
    "### Question 43: Find the longest common substring between \"programming\" and \"grammar\""
   ]
  },
  {
   "cell_type": "code",
   "execution_count": 32,
   "id": "973d48b2-86d7-4be9-a584-ed7ca8813cdd",
   "metadata": {},
   "outputs": [
    {
     "name": "stdout",
     "output_type": "stream",
     "text": [
      "gramm\n"
     ]
    }
   ],
   "source": [
    "#GPT\n",
    "s1 = \"programming\"\n",
    "s2 = \"grammar\"\n",
    "longest = \"\"\n",
    "\n",
    "for i in range(len(s1)):\n",
    "    for j in range(i+1, len(s1)+1):\n",
    "        substring = s1[i:j]\n",
    "        if substring in s2 and len(substring) > len(longest):\n",
    "            longest = substring\n",
    "\n",
    "print(longest)\n"
   ]
  },
  {
   "cell_type": "markdown",
   "id": "b072b3c5-4bd4-47ad-8d30-a298ebc1990d",
   "metadata": {},
   "source": [
    "### Question 44: Check if string is a valid URL: \"https://www.google.com\""
   ]
  },
  {
   "cell_type": "code",
   "execution_count": 57,
   "id": "aec25a24-6631-4d7d-a33b-7fbc875c46db",
   "metadata": {},
   "outputs": [
    {
     "name": "stdout",
     "output_type": "stream",
     "text": [
      "It is an valid URL\n"
     ]
    }
   ],
   "source": [
    "url=\"https://www.google.com\"\n",
    "if url.startswith(\"https://\") or url.startswith(\"http://\") and \".\" in url.split(\"//\")[-1]:\n",
    "    print(\"It is an valid URL\")\n",
    "else:\n",
    "    print(\"It is not a Valid URL\")"
   ]
  },
  {
   "cell_type": "markdown",
   "id": "3b1d0772-2bcb-4153-8d71-2a191226525b",
   "metadata": {},
   "source": [
    "### Question 45: Extract all words with length > 5 from \"Python programming is amazing and powerful\""
   ]
  },
  {
   "cell_type": "code",
   "execution_count": 79,
   "id": "90657c5b-9755-4c86-ab7d-85a328a8e9a5",
   "metadata": {},
   "outputs": [
    {
     "name": "stdout",
     "output_type": "stream",
     "text": [
      "Python\n",
      "programming\n",
      "amazing\n",
      "powerful\n"
     ]
    }
   ],
   "source": [
    "s=\"Python programming is amazing and powerful\"\n",
    "for i in s.split():\n",
    "    if len(i)>5:\n",
    "        print(i)"
   ]
  },
  {
   "cell_type": "markdown",
   "id": "7a2d2ab8-8ae3-4717-959a-d0c8172c6e76",
   "metadata": {},
   "source": [
    "### Question 46: Convert \"hello world\" to Pig Latin"
   ]
  },
  {
   "cell_type": "code",
   "execution_count": 101,
   "id": "b00e7ffe-4833-4317-b092-ecc13efd24e8",
   "metadata": {},
   "outputs": [
    {
     "name": "stdout",
     "output_type": "stream",
     "text": [
      "ellohay orldway "
     ]
    }
   ],
   "source": [
    "s=\"hello world\"\n",
    "for i in s.split():\n",
    "    if i[0] in \"aeiou\":\n",
    "        print(i + \"way\",end=\" \")\n",
    "    else:\n",
    "        print(i[1:] + i[0] + \"ay\", end=\" \")"
   ]
  },
  {
   "cell_type": "markdown",
   "id": "c5995b6a-182e-4047-b5d1-7c30e3985ef9",
   "metadata": {},
   "source": [
    "### Question 47: Check if string is a valid IPv4 address: \"192.168.1.1\"\n"
   ]
  },
  {
   "cell_type": "code",
   "execution_count": 115,
   "id": "2cc3b359-55eb-40cc-83b2-e5db7ee128f0",
   "metadata": {},
   "outputs": [
    {
     "name": "stdout",
     "output_type": "stream",
     "text": [
      "Valid\n"
     ]
    }
   ],
   "source": [
    "Ip=\"192.168.1.1\"\n",
    "parts=Ip.split(\".\")\n",
    "if len(parts) == 4 and i.isdigit():\n",
    "    print(\"Valid\")\n",
    "else:\n",
    "    print(\"Not valid\")"
   ]
  },
  {
   "cell_type": "markdown",
   "id": "bc7647df-0d10-4bbf-8fed-8b49734f1e35",
   "metadata": {},
   "source": [
    "### Question 48: Find all substrings of \"abc\""
   ]
  },
  {
   "cell_type": "code",
   "execution_count": 116,
   "id": "de204c01-71bc-443c-a8d8-4553e92d736e",
   "metadata": {},
   "outputs": [
    {
     "name": "stdout",
     "output_type": "stream",
     "text": [
      "['a', 'ab', 'abc', 'b', 'bc', 'c']\n"
     ]
    }
   ],
   "source": [
    "s = \"abc\"\n",
    "substrings = []\n",
    "\n",
    "for i in range(len(s)):\n",
    "    for j in range(i+1, len(s)+1):\n",
    "        substrings.append(s[i:j])\n",
    "\n",
    "print(substrings)\n"
   ]
  },
  {
   "cell_type": "markdown",
   "id": "71215b2d-0f94-46da-a14b-906ebfe5c69b",
   "metadata": {},
   "source": [
    "### Question 49: Convert \"hello world\" to ROT13 encoding"
   ]
  },
  {
   "cell_type": "code",
   "execution_count": 11,
   "id": "d114a2c2-8173-4282-b0b6-3a769a3bffc7",
   "metadata": {},
   "outputs": [
    {
     "name": "stdout",
     "output_type": "stream",
     "text": [
      "uryyb jbeyq\n"
     ]
    }
   ],
   "source": [
    "#GPT\n",
    "import codecs\n",
    "\n",
    "text = \"hello world\"\n",
    "rot13_text = codecs.encode(text, 'rot_13')\n",
    "print(rot13_text)\n"
   ]
  },
  {
   "cell_type": "markdown",
   "id": "15ac1154-9089-465e-baea-6123f3086ad1",
   "metadata": {},
   "source": [
    "### Question 50: Check if string is a valid credit card number: \"4532015112830366\""
   ]
  },
  {
   "cell_type": "code",
   "execution_count": 13,
   "id": "7ada4142-0acc-4bd4-ad7f-72cce28dfb25",
   "metadata": {},
   "outputs": [
    {
     "name": "stdout",
     "output_type": "stream",
     "text": [
      "True\n"
     ]
    }
   ],
   "source": [
    "#GPT\n",
    "def check_credit_card(number):\n",
    "    digits = [int(d) for d in number]\n",
    "    checksum = 0\n",
    "    \n",
    "    # Start from the right, double every second digit\n",
    "    for i in range(len(digits)-2, -1, -2):\n",
    "        doubled = digits[i] * 2\n",
    "        if doubled > 9:\n",
    "            doubled -= 9\n",
    "        digits[i] = doubled\n",
    "    \n",
    "    checksum = sum(digits)\n",
    "    return checksum % 10 == 0\n",
    "\n",
    "card_number = \"4532015112830366\"\n",
    "print(check_credit_card(card_number))\n"
   ]
  },
  {
   "cell_type": "code",
   "execution_count": null,
   "id": "f480b46c-1425-47a2-9149-775149411498",
   "metadata": {},
   "outputs": [],
   "source": []
  }
 ],
 "metadata": {
  "kernelspec": {
   "display_name": "Python 3 (ipykernel)",
   "language": "python",
   "name": "python3"
  },
  "language_info": {
   "codemirror_mode": {
    "name": "ipython",
    "version": 3
   },
   "file_extension": ".py",
   "mimetype": "text/x-python",
   "name": "python",
   "nbconvert_exporter": "python",
   "pygments_lexer": "ipython3",
   "version": "3.9.7"
  }
 },
 "nbformat": 4,
 "nbformat_minor": 5
}
