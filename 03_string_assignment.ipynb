{
 "cells": [
  {
   "cell_type": "markdown",
   "id": "e1fa65a4-82a2-4bf4-8e27-d45928ac119f",
   "metadata": {},
   "source": [
    "### Question 1: Reverse the string \"Python Programming\"\n"
   ]
  },
  {
   "cell_type": "code",
   "execution_count": 11,
   "id": "57c55db1-f8d0-4a0f-8592-309fe82e3467",
   "metadata": {},
   "outputs": [
    {
     "name": "stdout",
     "output_type": "stream",
     "text": [
      "gnimmargorP nohtyP\n"
     ]
    }
   ],
   "source": [
    "s=\"Python Programming\"\n",
    "print(s[::-1])"
   ]
  },
  {
   "cell_type": "markdown",
   "id": "61981bd8-e820-438b-8b1d-ff24169fbbc9",
   "metadata": {},
   "source": [
    "#### Or"
   ]
  },
  {
   "cell_type": "code",
   "execution_count": 8,
   "id": "2fca97b5-b9d3-4ff1-b30d-7996e926b8e2",
   "metadata": {},
   "outputs": [
    {
     "name": "stdout",
     "output_type": "stream",
     "text": [
      "['P', 'y', 't', 'h', 'o', 'n', ' ', 'P', 'r', 'o', 'g', 'r', 'a', 'm', 'm', 'i', 'n', 'g']\n",
      "gnimmargorP nohtyP\n"
     ]
    }
   ],
   "source": [
    "s=\"Python Programming\"\n",
    "l=list(s)\n",
    "print(l)\n",
    "l.reverse()\n",
    "y=''.join(l)   #'' used to avoid seperator b/t the char....join used to combine all string to one string.\n",
    "print(y)"
   ]
  },
  {
   "cell_type": "markdown",
   "id": "56421f42-a638-4bc7-9e14-4ad9cfd780fc",
   "metadata": {},
   "source": [
    "### Question 2: Check if \"racecar\" is a palindrome"
   ]
  },
  {
   "cell_type": "code",
   "execution_count": 38,
   "id": "a0647638-982b-42de-b147-740af0204d8f",
   "metadata": {},
   "outputs": [
    {
     "name": "stdout",
     "output_type": "stream",
     "text": [
      "It is a Palindrome\n"
     ]
    }
   ],
   "source": [
    "s=\"121\"\n",
    "re=s[::-1]   \n",
    "if s == re:\n",
    "    print(\"It is a Palindrome\")\n",
    "else:\n",
    "    print(\"It is not a Palindrome\")"
   ]
  },
  {
   "cell_type": "markdown",
   "id": "4dfd2189-4892-429f-a0d9-bfee6e0fee2f",
   "metadata": {},
   "source": [
    "### Question 3: Count the number of words in \"Python is a great programming language\""
   ]
  },
  {
   "cell_type": "code",
   "execution_count": 46,
   "id": "14e062e9-ac97-410d-b262-53c0de00b348",
   "metadata": {},
   "outputs": [
    {
     "name": "stdout",
     "output_type": "stream",
     "text": [
      "6\n"
     ]
    }
   ],
   "source": [
    "s=\"Python is a great programming language\"\n",
    "count=0\n",
    "for i in s.split():\n",
    "    count=count+1\n",
    "print(count)\n",
    "    "
   ]
  },
  {
   "cell_type": "markdown",
   "id": "71cf5935-e573-4110-a587-33b2a67aca92",
   "metadata": {},
   "source": [
    "#### Or"
   ]
  },
  {
   "cell_type": "code",
   "execution_count": 48,
   "id": "d069bddf-3d6c-4fa7-b00f-69173bc19900",
   "metadata": {},
   "outputs": [
    {
     "name": "stdout",
     "output_type": "stream",
     "text": [
      "6\n"
     ]
    }
   ],
   "source": [
    "s=\"Python is a great programming language\"\n",
    "words=s.split()\n",
    "print(len(words))"
   ]
  },
  {
   "cell_type": "markdown",
   "id": "affd395d-5905-40bb-97e8-a399c7d6e817",
   "metadata": {},
   "source": [
    "### Question 4: Convert \"hello world\" to title case"
   ]
  },
  {
   "cell_type": "code",
   "execution_count": 50,
   "id": "8e2d7f0c-c5ec-494b-a05c-fc8a21bbd0a9",
   "metadata": {},
   "outputs": [
    {
     "name": "stdout",
     "output_type": "stream",
     "text": [
      "Hello World\n"
     ]
    }
   ],
   "source": [
    "s=\"hello world\"\n",
    "title=s.title()\n",
    "print(title)"
   ]
  },
  {
   "cell_type": "markdown",
   "id": "6cdec23e-e6fc-4a20-9342-0d735fbe5ccb",
   "metadata": {},
   "source": [
    "### Question 5: Find the length of string \"Data Science\""
   ]
  },
  {
   "cell_type": "code",
   "execution_count": 51,
   "id": "8fb4b3c0-4dd3-4691-a9b9-806f1e96ce0e",
   "metadata": {},
   "outputs": [
    {
     "name": "stdout",
     "output_type": "stream",
     "text": [
      "12\n"
     ]
    }
   ],
   "source": [
    "s=\"Data Science\"\n",
    "print(len(s))"
   ]
  },
  {
   "cell_type": "markdown",
   "id": "d740f280-d085-4366-aac6-54fa4458b400",
   "metadata": {},
   "source": [
    "### Question 6: Replace all spaces with underscores in \"Machine Learning\""
   ]
  },
  {
   "cell_type": "code",
   "execution_count": 54,
   "id": "21c629d6-e02c-4fb4-a70c-a54b427b5714",
   "metadata": {},
   "outputs": [
    {
     "name": "stdout",
     "output_type": "stream",
     "text": [
      "Machine_Learning\n"
     ]
    }
   ],
   "source": [
    "s=\"Machine Learning\"\n",
    "re=s.replace(' ',\"_\")\n",
    "print(re)"
   ]
  },
  {
   "cell_type": "markdown",
   "id": "fab6d653-047b-4da3-a616-8d244f688946",
   "metadata": {},
   "source": [
    "### Question 7: Check if \"python\" is in \"Python Programming Language\""
   ]
  },
  {
   "cell_type": "code",
   "execution_count": 79,
   "id": "111e1c32-073f-4338-9ff6-c307e1ddced3",
   "metadata": {},
   "outputs": [
    {
     "name": "stdout",
     "output_type": "stream",
     "text": [
      "False\n"
     ]
    }
   ],
   "source": [
    "s=\"Python Programming Language\"\n",
    "check=\"python\" in s\n",
    "print(check)"
   ]
  },
  {
   "cell_type": "markdown",
   "id": "77401eab-1166-457d-8055-db11d5c1973c",
   "metadata": {},
   "source": [
    "### Question 8: Extract the first 5 characters from \"Artificial Intelligence\""
   ]
  },
  {
   "cell_type": "code",
   "execution_count": 68,
   "id": "04387557-2e16-4e98-a39a-b33618e3ba42",
   "metadata": {},
   "outputs": [
    {
     "name": "stdout",
     "output_type": "stream",
     "text": [
      "Artifi\n"
     ]
    }
   ],
   "source": [
    "s=\"Artificial Intelligence\"\n",
    "ext=s[0:6]\n",
    "print(ext)"
   ]
  },
  {
   "cell_type": "markdown",
   "id": "41f9794d-4ad6-4cd8-aad5-9788bd7384fd",
   "metadata": {},
   "source": [
    "### Question 9: Convert \"UPPERCASE\" to lowercase"
   ]
  },
  {
   "cell_type": "code",
   "execution_count": 69,
   "id": "75126d34-9e22-4d26-bb8d-18bdb778d16c",
   "metadata": {},
   "outputs": [
    {
     "name": "stdout",
     "output_type": "stream",
     "text": [
      "uppercase\n"
     ]
    }
   ],
   "source": [
    "s=\"UPPERCASE\"\n",
    "print(s.lower())"
   ]
  },
  {
   "cell_type": "markdown",
   "id": "f50b8e94-c35f-418d-b465-56d2469f6d36",
   "metadata": {},
   "source": [
    "### Question 10: Remove all vowels from \"Computer Science\""
   ]
  },
  {
   "cell_type": "code",
   "execution_count": 94,
   "id": "4b53b696-1114-4a55-83ef-02befad3eda4",
   "metadata": {},
   "outputs": [
    {
     "name": "stdout",
     "output_type": "stream",
     "text": [
      "Cmptr Scnc\n"
     ]
    }
   ],
   "source": [
    "s=\"Computer Science\"\n",
    "for i in \"aeiouAEIOU\":\n",
    "    s=s.replace(i,\"\")\n",
    "print(s)"
   ]
  },
  {
   "cell_type": "markdown",
   "id": "b13926b9-7fce-48aa-aafd-62bd1bf52e5e",
   "metadata": {},
   "source": [
    "#### Or"
   ]
  },
  {
   "cell_type": "code",
   "execution_count": 95,
   "id": "f13b7489-3ee3-4816-84a2-cde6bbd090fc",
   "metadata": {},
   "outputs": [
    {
     "name": "stdout",
     "output_type": "stream",
     "text": [
      "Cmptr Scnc\n"
     ]
    }
   ],
   "source": [
    "s=\"Computer Science\"\n",
    "vowels=\"aeiou\"\n",
    "result=\"\"\n",
    "for i in s:\n",
    "    if i not in vowels:\n",
    "        result=result+i\n",
    "print(result)\n",
    "    "
   ]
  },
  {
   "cell_type": "markdown",
   "id": "138fc545-6d8f-4410-b584-d1b635473499",
   "metadata": {},
   "source": [
    "### Question 11: Find the most frequent character in \"mississippi\""
   ]
  },
  {
   "cell_type": "code",
   "execution_count": null,
   "id": "0b2620a2-cc3a-47d4-adad-b608dcf47fae",
   "metadata": {},
   "outputs": [],
   "source": [
    "s=\"mississippi\""
   ]
  },
  {
   "cell_type": "markdown",
   "id": "5acdb64f-60fc-4236-b149-e73059990f82",
   "metadata": {},
   "source": [
    "### Question 13: Capitalize first letter of each word in \"python programming language\""
   ]
  },
  {
   "cell_type": "code",
   "execution_count": 99,
   "id": "5c61fd81-12d0-4dc0-93a8-0edf66947097",
   "metadata": {},
   "outputs": [
    {
     "name": "stdout",
     "output_type": "stream",
     "text": [
      "Python Programming Language\n"
     ]
    }
   ],
   "source": [
    "s=\"python programming language\"\n",
    "print(s.title())"
   ]
  },
  {
   "cell_type": "markdown",
   "id": "d91fcd8d-add9-4f2f-a960-8dade010026b",
   "metadata": {},
   "source": [
    "### Question 14: Count consonants in \"Hello World\""
   ]
  },
  {
   "cell_type": "code",
   "execution_count": null,
   "id": "e09fc8c4-a80a-4452-aaf0-356771b2669d",
   "metadata": {},
   "outputs": [],
   "source": []
  },
  {
   "cell_type": "markdown",
   "id": "1feaae8a-77aa-4195-9208-d71e80b5143b",
   "metadata": {},
   "source": [
    "### Question 17: Check if string starts with \"Python\""
   ]
  },
  {
   "cell_type": "code",
   "execution_count": 105,
   "id": "f57f3d3e-9e73-46e0-9eb4-edbd6c3122f1",
   "metadata": {},
   "outputs": [
    {
     "name": "stdout",
     "output_type": "stream",
     "text": [
      "True\n"
     ]
    }
   ],
   "source": [
    "S=\"Python\"\n",
    "ch=S.startswith(\"Python\")\n",
    "print(ch)"
   ]
  },
  {
   "cell_type": "markdown",
   "id": "030af4ef-bdb1-47c6-8a77-052e8a987459",
   "metadata": {},
   "source": [
    "### Question 18: Find the index of first occurrence of 'o' in \"Hello World\""
   ]
  },
  {
   "cell_type": "code",
   "execution_count": 107,
   "id": "696b4858-e797-406a-8ede-88f1fb392a59",
   "metadata": {},
   "outputs": [
    {
     "name": "stdout",
     "output_type": "stream",
     "text": [
      "4\n"
     ]
    }
   ],
   "source": [
    "s=\"Hello World\"\n",
    "index=s.find(\"o\")\n",
    "print(index)"
   ]
  },
  {
   "cell_type": "markdown",
   "id": "5748b2de-4f13-4203-928a-1a5594b14e12",
   "metadata": {},
   "source": [
    "### Question 19: Split string \"apple,banana,orange\" by comma"
   ]
  },
  {
   "cell_type": "code",
   "execution_count": 108,
   "id": "9d43ebbb-1455-4896-96b2-06b00a94533b",
   "metadata": {},
   "outputs": [
    {
     "name": "stdout",
     "output_type": "stream",
     "text": [
      "['apple', 'banana', 'orange']\n"
     ]
    }
   ],
   "source": [
    "s=\"apple,banana,orange\"\n",
    "spt=s.split(\",\")\n",
    "print(spt)"
   ]
  },
  {
   "cell_type": "markdown",
   "id": "d1725065-a150-4aee-9d98-6dacab15d33a",
   "metadata": {},
   "source": [
    "### Question 20: Join list ['Python', 'is', 'awesome'] with spaces"
   ]
  },
  {
   "cell_type": "code",
   "execution_count": 110,
   "id": "4d8da4c2-8ca1-4b98-b510-3f16ac722d13",
   "metadata": {},
   "outputs": [
    {
     "name": "stdout",
     "output_type": "stream",
     "text": [
      "Python is awesome\n"
     ]
    }
   ],
   "source": [
    "l=['Python', 'is', 'awesome']\n",
    "join=' '.join(l)\n",
    "print(join)"
   ]
  },
  {
   "cell_type": "markdown",
   "id": "b079620a-738e-4f65-8a69-65327fa2ea73",
   "metadata": {},
   "source": [
    "### Question 21: Check if string contains only digits: \"12345\""
   ]
  },
  {
   "cell_type": "code",
   "execution_count": 113,
   "id": "4676110f-cf56-4efb-9ba9-0930a05367fe",
   "metadata": {},
   "outputs": [
    {
     "name": "stdout",
     "output_type": "stream",
     "text": [
      "True\n"
     ]
    }
   ],
   "source": [
    "s=\"12345\"\n",
    "print(s.isnumeric())"
   ]
  },
  {
   "cell_type": "markdown",
   "id": "14ae8d73-898c-4e65-a4c1-985adbf25aee",
   "metadata": {},
   "source": [
    "### Question 22: Check if string contains only letters: \"HelloWorld\""
   ]
  },
  {
   "cell_type": "code",
   "execution_count": 116,
   "id": "5a56b6ac-60da-496f-8ea7-636faf173d8b",
   "metadata": {},
   "outputs": [
    {
     "name": "stdout",
     "output_type": "stream",
     "text": [
      "True\n"
     ]
    }
   ],
   "source": [
    "s=\"HelloWorld\"\n",
    "print(s.isalpha())"
   ]
  },
  {
   "cell_type": "markdown",
   "id": "7f75ae32-6a3a-4e63-9205-6767822fb05f",
   "metadata": {},
   "source": [
    "### Question 25: Remove leading and trailing whitespace from \"  Hello World  \""
   ]
  },
  {
   "cell_type": "code",
   "execution_count": 132,
   "id": "6836eddd-ae86-430c-b524-8f8a4127e75a",
   "metadata": {},
   "outputs": [
    {
     "data": {
      "text/plain": [
       "'Hello World'"
      ]
     },
     "execution_count": 132,
     "metadata": {},
     "output_type": "execute_result"
    }
   ],
   "source": [
    "s=\" Hello World \"\n",
    "s.strip()"
   ]
  },
  {
   "cell_type": "markdown",
   "id": "3afe55a5-0b3f-49c4-a533-441317906b43",
   "metadata": {},
   "source": [
    "### Question 26: Check if string ends with \"ing\": \"programming\""
   ]
  },
  {
   "cell_type": "code",
   "execution_count": 133,
   "id": "0f1f91ff-2b4d-4dde-b320-9343dce18545",
   "metadata": {},
   "outputs": [
    {
     "data": {
      "text/plain": [
       "True"
      ]
     },
     "execution_count": 133,
     "metadata": {},
     "output_type": "execute_result"
    }
   ],
   "source": [
    "s=\"programming\"\n",
    "s.endswith(\"ing\")"
   ]
  },
  {
   "cell_type": "markdown",
   "id": "245f9ea5-3bc7-46c8-b12a-84913e3cb043",
   "metadata": {},
   "source": [
    "### Question 27: Replace first occurrence of 'o' with '0' in \"Hello World\""
   ]
  },
  {
   "cell_type": "code",
   "execution_count": 143,
   "id": "b58633de-1baf-4f9d-ba1f-7249f1f21ea8",
   "metadata": {},
   "outputs": [
    {
     "data": {
      "text/plain": [
       "'Hell0 World'"
      ]
     },
     "execution_count": 143,
     "metadata": {},
     "output_type": "execute_result"
    }
   ],
   "source": [
    "s=\"Hello World\"\n",
    "s.replace(\"o\",\"0\",1)"
   ]
  },
  {
   "cell_type": "markdown",
   "id": "b709c422-a110-4415-9543-ce9e92d24c4c",
   "metadata": {},
   "source": [
    "### Question 30: Reverse words in \"Hello World Python\""
   ]
  },
  {
   "cell_type": "code",
   "execution_count": 148,
   "id": "b66cf265-cec9-4ce3-b0b0-c6a5d8b5c615",
   "metadata": {},
   "outputs": [
    {
     "name": "stdout",
     "output_type": "stream",
     "text": [
      "nohtyP dlroW olleH\n"
     ]
    }
   ],
   "source": [
    "s=\"Hello World Python\"\n",
    "l=list(s)\n",
    "l.reverse()\n",
    "re=''.join(l)\n",
    "print(re)"
   ]
  },
  {
   "cell_type": "code",
   "execution_count": null,
   "id": "f242ec3f-e69a-48a9-9e5b-f60774a98476",
   "metadata": {},
   "outputs": [],
   "source": []
  }
 ],
 "metadata": {
  "kernelspec": {
   "display_name": "Python 3 (ipykernel)",
   "language": "python",
   "name": "python3"
  },
  "language_info": {
   "codemirror_mode": {
    "name": "ipython",
    "version": 3
   },
   "file_extension": ".py",
   "mimetype": "text/x-python",
   "name": "python",
   "nbconvert_exporter": "python",
   "pygments_lexer": "ipython3",
   "version": "3.9.7"
  }
 },
 "nbformat": 4,
 "nbformat_minor": 5
}
