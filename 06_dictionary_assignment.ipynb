{
 "cells": [
  {
   "cell_type": "markdown",
   "id": "e1500fe2-933e-478a-bc37-e830540ef754",
   "metadata": {},
   "source": [
    "### Question 1: Create a dictionary of student names and their ages"
   ]
  },
  {
   "cell_type": "code",
   "execution_count": 3,
   "id": "6e32c595-1509-432d-a102-f42b6a2cba45",
   "metadata": {},
   "outputs": [
    {
     "name": "stdout",
     "output_type": "stream",
     "text": [
      "{'Krishna': '24', 'Leena': '23', 'Subhash': '27', 'Kushala': '26'}\n"
     ]
    }
   ],
   "source": [
    "d={'Krishna':'24','Leena':'23','Subhash':'27','Kushala':'26'}\n",
    "print(d)"
   ]
  },
  {
   "cell_type": "markdown",
   "id": "9e3dbd90-8c9e-4f39-8988-8eaf3b3e02a7",
   "metadata": {},
   "source": [
    "### Question 2: Add a new key-value pair to dictionary {'a': 1, 'b': 2, 'c': 3}"
   ]
  },
  {
   "cell_type": "code",
   "execution_count": 8,
   "id": "5e217755-6398-406f-86cc-0c82105ac104",
   "metadata": {},
   "outputs": [
    {
     "name": "stdout",
     "output_type": "stream",
     "text": [
      "{'a': 1, 'b': 2, 'c': 3, 'd': 4, 'e': 5}\n"
     ]
    }
   ],
   "source": [
    "d={'a': 1, 'b': 2, 'c': 3}\n",
    "d['d']=4\n",
    "d['e'] = 5\n",
    "print(d)"
   ]
  },
  {
   "cell_type": "markdown",
   "id": "691380fd-e71e-4fac-9df4-4709083f32d7",
   "metadata": {},
   "source": [
    "### Question 3: Get all keys from dictionary {'name': 'John', 'age': 25, 'city': 'New York'}"
   ]
  },
  {
   "cell_type": "code",
   "execution_count": 11,
   "id": "5377d719-2c8d-4246-80a4-73170f9befd8",
   "metadata": {},
   "outputs": [
    {
     "name": "stdout",
     "output_type": "stream",
     "text": [
      "dict_keys(['name', 'age', 'city'])\n"
     ]
    }
   ],
   "source": [
    "d={'name': 'John', 'age': 25, 'city': 'New York'}\n",
    "print(d.keys())"
   ]
  },
  {
   "cell_type": "markdown",
   "id": "3a9678c3-9aca-4782-aac9-b333a0f86828",
   "metadata": {},
   "source": [
    "### Question 4: Get all values from dictionary {'python': 3, 'java': 2, 'c++': 1}"
   ]
  },
  {
   "cell_type": "code",
   "execution_count": 13,
   "id": "df0f8e9a-67a6-41ea-a090-2846463357c1",
   "metadata": {},
   "outputs": [
    {
     "data": {
      "text/plain": [
       "dict_values([3, 2, 1])"
      ]
     },
     "execution_count": 13,
     "metadata": {},
     "output_type": "execute_result"
    }
   ],
   "source": [
    "d={'python': 3, 'java': 2, 'c++': 1}\n",
    "d.values()"
   ]
  },
  {
   "cell_type": "markdown",
   "id": "5e3b68db-db55-44b0-92f6-7c8cec430fed",
   "metadata": {},
   "source": [
    "### Question 5: Check if key 'age' exists in {'name': 'Alice', 'age': 30, 'city': 'London'}"
   ]
  },
  {
   "cell_type": "code",
   "execution_count": 14,
   "id": "1a892d23-5147-49c0-95ab-7abf2e86601c",
   "metadata": {},
   "outputs": [
    {
     "data": {
      "text/plain": [
       "True"
      ]
     },
     "execution_count": 14,
     "metadata": {},
     "output_type": "execute_result"
    }
   ],
   "source": [
    "d={'name': 'Alice', 'age': 30, 'city': 'London'}\n",
    "'age' in d"
   ]
  },
  {
   "cell_type": "markdown",
   "id": "1212368a-3cad-4cd8-8c43-7eb3c0e11b29",
   "metadata": {},
   "source": [
    "### Question 6: Remove key 'temp' from {'a': 1, 'b': 2, 'temp': 3, 'c': 4}"
   ]
  },
  {
   "cell_type": "code",
   "execution_count": 16,
   "id": "746b4119-fddd-4afa-92dc-faf6f4898cc6",
   "metadata": {},
   "outputs": [
    {
     "name": "stdout",
     "output_type": "stream",
     "text": [
      "{'a': 1, 'b': 2, 'c': 4}\n"
     ]
    }
   ],
   "source": [
    "d={'a': 1, 'b': 2, 'temp': 3, 'c': 4}\n",
    "d.pop('temp')\n",
    "print(d)"
   ]
  },
  {
   "cell_type": "markdown",
   "id": "a67fb8bd-cebc-478f-b928-013769c80d35",
   "metadata": {},
   "source": [
    "### Question 7: Find the sum of all values in {'math': 85, 'science': 92, 'english': 78}"
   ]
  },
  {
   "cell_type": "code",
   "execution_count": 18,
   "id": "d7aef087-7b5a-4a83-a49d-3fb8e6d6fe6d",
   "metadata": {},
   "outputs": [
    {
     "data": {
      "text/plain": [
       "255"
      ]
     },
     "execution_count": 18,
     "metadata": {},
     "output_type": "execute_result"
    }
   ],
   "source": [
    "d={'math': 85, 'science': 92, 'english': 78}\n",
    "sum(d.values())"
   ]
  },
  {
   "cell_type": "markdown",
   "id": "3bc51bf2-0935-4ddd-95f3-565e0ee72cd1",
   "metadata": {},
   "source": [
    "### Question 8: Create a dictionary with squares of numbers 1 to 5"
   ]
  },
  {
   "cell_type": "code",
   "execution_count": 19,
   "id": "52f3cfc4-b838-4ae0-8539-b0d5eea691c8",
   "metadata": {},
   "outputs": [
    {
     "name": "stdout",
     "output_type": "stream",
     "text": [
      "{1: 1, 2: 4, 3: 9, 4: 16, 5: 25}\n"
     ]
    }
   ],
   "source": [
    "d={}\n",
    "for i in range(1,6):\n",
    "    d[i] = i**2\n",
    "print(d)"
   ]
  },
  {
   "cell_type": "markdown",
   "id": "524ab2dd-8302-4355-b7db-b9d0884b8c7b",
   "metadata": {},
   "source": [
    "### Question 9: Count frequency of each character in string \"hello\""
   ]
  },
  {
   "cell_type": "code",
   "execution_count": 23,
   "id": "c30a550d-517b-48c0-a556-8d1863a0a7d3",
   "metadata": {},
   "outputs": [
    {
     "name": "stdout",
     "output_type": "stream",
     "text": [
      "{'h': 1, 'e': 1, 'l': 2, 'o': 1}\n"
     ]
    }
   ],
   "source": [
    "s=\"hello\"\n",
    "freq={}\n",
    "for i in s:\n",
    "    if i in freq:\n",
    "        freq[i] +=1\n",
    "    else:\n",
    "        freq[i] = 1\n",
    "print(freq)"
   ]
  },
  {
   "cell_type": "markdown",
   "id": "afb094cc-244b-4f80-b054-4765f962461c",
   "metadata": {},
   "source": [
    "### Question 10: Merge two dictionaries {'a': 1, 'b': 2} and {'c': 3, 'd': 4}"
   ]
  },
  {
   "cell_type": "code",
   "execution_count": 34,
   "id": "87829645-684d-45f1-b357-16859d19de80",
   "metadata": {},
   "outputs": [
    {
     "name": "stdout",
     "output_type": "stream",
     "text": [
      "{'a': 1, 'b': 2, 'c': 3, 'd': 4}\n"
     ]
    }
   ],
   "source": [
    "d1={'a': 1, 'b': 2}\n",
    "d2={'c': 3, 'd': 4}\n",
    "m= d1 | d2\n",
    "print(m)"
   ]
  },
  {
   "cell_type": "code",
   "execution_count": 31,
   "id": "c70aecee-5ef8-45d0-aaf7-ba8bc0258165",
   "metadata": {},
   "outputs": [
    {
     "name": "stdout",
     "output_type": "stream",
     "text": [
      "{'a': 1, 'b': 2, 'c': 3, 'd': 4}\n"
     ]
    }
   ],
   "source": [
    "d1={'a': 1, 'b': 2}\n",
    "d2={'c': 3, 'd': 4}\n",
    "d1.update(d2)\n",
    "print(d1)"
   ]
  },
  {
   "cell_type": "markdown",
   "id": "67bc0a32-c903-44e6-825f-9bf221782599",
   "metadata": {},
   "source": [
    "### Question 11: Create a nested dictionary: {'person': {'name': 'Alice', 'age': 25}}"
   ]
  },
  {
   "cell_type": "code",
   "execution_count": 35,
   "id": "c9ccd789-d492-47b8-8a4b-c1ed704752dc",
   "metadata": {},
   "outputs": [
    {
     "name": "stdout",
     "output_type": "stream",
     "text": [
      "{'person': {'name': 'Alice', 'age': 25}}\n"
     ]
    }
   ],
   "source": [
    "d= {\n",
    "    'person': \n",
    "    {\n",
    "        'name': 'Alice', 'age': 25\n",
    "    }\n",
    "}\n",
    "print(d)"
   ]
  },
  {
   "cell_type": "markdown",
   "id": "d55e1b08-1528-4a45-8e20-f35a26197e13",
   "metadata": {},
   "source": [
    "### Question 12: Access nested value 'name' from {'person': {'name': 'Alice', 'age': 25}}"
   ]
  },
  {
   "cell_type": "code",
   "execution_count": 9,
   "id": "c23b61eb-8c13-4d27-b146-053925e8c3d3",
   "metadata": {},
   "outputs": [
    {
     "data": {
      "text/plain": [
       "'Alice'"
      ]
     },
     "execution_count": 9,
     "metadata": {},
     "output_type": "execute_result"
    }
   ],
   "source": [
    "d={\n",
    "    'person': \n",
    "    {\n",
    "        'name': 'Alice', 'age': 25\n",
    "    }\n",
    "}\n",
    "dic['person']['name']"
   ]
  },
  {
   "cell_type": "markdown",
   "id": "9f7eaee7-aaed-4693-bd7b-daf381cd0adb",
   "metadata": {},
   "source": [
    "### Question 13: Create a dictionary with list values: {'fruits': ['apple', 'banana'], 'colors': ['red', 'blue']}"
   ]
  },
  {
   "cell_type": "code",
   "execution_count": 15,
   "id": "0e541cc6-6a46-4b0c-9a1f-198cfeac5b36",
   "metadata": {},
   "outputs": [
    {
     "name": "stdout",
     "output_type": "stream",
     "text": [
      "{'fruits': ['apple', 'banana'], 'colors': ['red', 'blue']}\n"
     ]
    }
   ],
   "source": [
    "d={'fruits': ['apple', 'banana'], 'colors': ['red', 'blue']}\n",
    "print(d)"
   ]
  },
  {
   "cell_type": "markdown",
   "id": "9b02d4fa-200b-431c-8ccf-c7918702f71b",
   "metadata": {},
   "source": [
    "### Question 14: Add 'orange' to the 'fruits' list in nested dictionary"
   ]
  },
  {
   "cell_type": "code",
   "execution_count": 21,
   "id": "4d898ab2-dc78-4712-9596-2000af957cec",
   "metadata": {},
   "outputs": [
    {
     "name": "stdout",
     "output_type": "stream",
     "text": [
      "{'fruits': ['apple', 'banana', 'Orange'], 'colors': ['red', 'blue']}\n"
     ]
    }
   ],
   "source": [
    "d={'fruits': ['apple', 'banana'], 'colors': ['red', 'blue']}\n",
    "d['fruits'].append(\"Orange\")\n",
    "print(d)"
   ]
  },
  {
   "cell_type": "markdown",
   "id": "47a0549c-e3dc-4ae8-9521-3b9c920ffe27",
   "metadata": {},
   "source": [
    "### Question 15: Create a dictionary with tuple values: {'coordinates': (10, 20), 'rgb': (255, 0, 0)}"
   ]
  },
  {
   "cell_type": "code",
   "execution_count": 22,
   "id": "e2446fe0-4706-4acd-96d2-d5f760018760",
   "metadata": {},
   "outputs": [
    {
     "name": "stdout",
     "output_type": "stream",
     "text": [
      "{'coordinates': (10, 20), 'rgb': (255, 0, 0)}\n"
     ]
    }
   ],
   "source": [
    "d={'coordinates': (10, 20), 'rgb': (255, 0, 0)}\n",
    "print(d)"
   ]
  },
  {
   "cell_type": "markdown",
   "id": "afc05825-384a-4134-ab3c-1aefd2b21c9e",
   "metadata": {},
   "source": [
    "### Question 16: Extract first coordinate from nested tuple"
   ]
  },
  {
   "cell_type": "code",
   "execution_count": 24,
   "id": "5540d5e2-c6aa-40b3-ae88-145633a47128",
   "metadata": {},
   "outputs": [
    {
     "name": "stdout",
     "output_type": "stream",
     "text": [
      "10\n"
     ]
    }
   ],
   "source": [
    "d={'coordinates': (10, 20), 'rgb': (255, 0, 0)}\n",
    "C=d['coordinates'][0]\n",
    "print(C)"
   ]
  },
  {
   "cell_type": "markdown",
   "id": "b21043bd-6edb-4ad6-b238-50cb48c0d693",
   "metadata": {},
   "source": [
    "### Question 17: Create a dictionary with set values: {'vowels': {'a', 'e', 'i'}, 'consonants': {'b', 'c', 'd'}}"
   ]
  },
  {
   "cell_type": "code",
   "execution_count": 25,
   "id": "0a4625da-a30a-4e40-a20f-a42fbdffff59",
   "metadata": {},
   "outputs": [
    {
     "name": "stdout",
     "output_type": "stream",
     "text": [
      "{'vowels': {'e', 'i', 'a'}, 'consonants': {'d', 'c', 'b'}}\n"
     ]
    }
   ],
   "source": [
    "d={'vowels': {'a', 'e', 'i'}, 'consonants': {'b', 'c', 'd'}}\n",
    "print(d)"
   ]
  },
  {
   "cell_type": "markdown",
   "id": "dcb83b5b-fef0-4aa4-bce3-66e2333bde87",
   "metadata": {},
   "source": [
    "### Question 18: Add 'o' to vowels set in nested dictionary"
   ]
  },
  {
   "cell_type": "code",
   "execution_count": 35,
   "id": "6c70ca6a-b402-4c68-a65c-81240687df6a",
   "metadata": {},
   "outputs": [
    {
     "name": "stdout",
     "output_type": "stream",
     "text": [
      "{'vowels': {'e', 'o', 'i', 'a'}, 'consonants': {'d', 'c', 'b'}}\n"
     ]
    }
   ],
   "source": [
    "d={'vowels': {'a', 'e', 'i'}, 'consonants': {'b', 'c', 'd'}}\n",
    "d['vowels'].add('o')\n",
    "print(d)"
   ]
  },
  {
   "cell_type": "markdown",
   "id": "0ed4fda5-70cc-4106-8f0f-ba3aaa498644",
   "metadata": {},
   "source": [
    "### Question 19: Create a 3-level nested dictionary: {'company': {'department': {'employee': {'name': 'John', 'id': 123}}}}"
   ]
  },
  {
   "cell_type": "code",
   "execution_count": 37,
   "id": "6eee6525-1a9e-4b0b-a14c-34124326e1c5",
   "metadata": {},
   "outputs": [
    {
     "name": "stdout",
     "output_type": "stream",
     "text": [
      "{'company': {'department': {'employee': {'name': 'John', 'id': 123}}}}\n"
     ]
    }
   ],
   "source": [
    "d={'company': {'department': {'employee': {'name': 'John', 'id': 123}}}}\n",
    "print(d)"
   ]
  },
  {
   "cell_type": "markdown",
   "id": "bda45153-fa24-41bc-9b71-01438077393e",
   "metadata": {},
   "source": [
    "### Question 20: Access employee name from 3-level nested dictionary"
   ]
  },
  {
   "cell_type": "code",
   "execution_count": 49,
   "id": "a7cac85d-b4d7-4e04-931f-1bcf42063e8c",
   "metadata": {},
   "outputs": [
    {
     "data": {
      "text/plain": [
       "'John'"
      ]
     },
     "execution_count": 49,
     "metadata": {},
     "output_type": "execute_result"
    }
   ],
   "source": [
    "d={'company': {'department': {'employee': {'name': 'John', 'id': 123}}}}\n",
    "d['company']['department']['employee']['name']"
   ]
  },
  {
   "cell_type": "markdown",
   "id": "0812168a-8275-4d2e-b851-0c43443bef96",
   "metadata": {},
   "source": [
    "### Question 21: Create a dictionary with mixed data types: {'int': 42, 'float': 3.14, 'str': 'hello', 'bool': True}"
   ]
  },
  {
   "cell_type": "code",
   "execution_count": 50,
   "id": "c7d09dfa-26b5-4a96-96f8-002cf00a2b66",
   "metadata": {},
   "outputs": [
    {
     "name": "stdout",
     "output_type": "stream",
     "text": [
      "{'int': 42, 'float': 3.14, 'str': 'hello', 'bool': True}\n"
     ]
    }
   ],
   "source": [
    "d={'int': 42, 'float': 3.14, 'str': 'hello', 'bool': True}\n",
    "print(d)"
   ]
  },
  {
   "cell_type": "markdown",
   "id": "4e07495c-8ad8-4a01-822f-8752bac8c51e",
   "metadata": {},
   "source": [
    "### Question 22: Check data type of each value in mixed dictionary"
   ]
  },
  {
   "cell_type": "code",
   "execution_count": 55,
   "id": "f495687d-4725-4d73-a952-a8b9a9d83e66",
   "metadata": {},
   "outputs": [
    {
     "name": "stdout",
     "output_type": "stream",
     "text": [
      "int: <class 'int'>\n",
      "float: <class 'float'>\n",
      "str: <class 'str'>\n",
      "bool: <class 'bool'>\n"
     ]
    }
   ],
   "source": [
    "d={'int': 42, 'float': 3.14, 'str': 'hello', 'bool': True}\n",
    "\n",
    "for key, value in d.items():\n",
    "    print(f\"{key}: {type(value)}\")\n",
    "    "
   ]
  },
  {
   "cell_type": "markdown",
   "id": "cbbc3f35-5b45-4482-8a11-a10ce5a8c412",
   "metadata": {},
   "source": [
    "### Question 23: Create a dictionary with function values: {'len': len, 'str': str, 'int': int}"
   ]
  },
  {
   "cell_type": "code",
   "execution_count": 56,
   "id": "42072e4e-9c08-4e06-9555-8686356ba56e",
   "metadata": {},
   "outputs": [
    {
     "name": "stdout",
     "output_type": "stream",
     "text": [
      "{'len': <built-in function len>, 'str': <class 'str'>, 'int': <class 'int'>}\n"
     ]
    }
   ],
   "source": [
    "d={'len': len, 'str': str, 'int': int}\n",
    "print(d)"
   ]
  },
  {
   "cell_type": "markdown",
   "id": "341366bc-7b3e-4890-bf19-0bc594add72b",
   "metadata": {},
   "source": [
    "### Question 24: Apply each function to \"123\" using dictionary"
   ]
  },
  {
   "cell_type": "code",
   "execution_count": 63,
   "id": "2ca48ae2-25e0-46a1-afd7-58e3679959ec",
   "metadata": {},
   "outputs": [
    {
     "name": "stdout",
     "output_type": "stream",
     "text": [
      "len 3\n",
      "int 123\n",
      "str 123\n"
     ]
    }
   ],
   "source": [
    "d={'len': len, 'str': str, 'int': int}\n",
    "s=\"123\"\n",
    "\n",
    "print(\"len\",d['len'](s))\n",
    "print(\"int\",d['int'](s))\n",
    "print(\"str\",d['str'](s))"
   ]
  },
  {
   "cell_type": "markdown",
   "id": "1b8f256c-9763-4aae-b135-3f618a6b403d",
   "metadata": {},
   "source": [
    "### Question 25: Create a dictionary with lambda functions: {'double': lambda x: x*2, 'square': lambda x: x**2}"
   ]
  },
  {
   "cell_type": "code",
   "execution_count": 65,
   "id": "cef98deb-8cc6-4700-95b4-5786c39e42d4",
   "metadata": {},
   "outputs": [
    {
     "name": "stdout",
     "output_type": "stream",
     "text": [
      "{'double': <function <lambda> at 0x000001C9470A0E50>, 'square': <function <lambda> at 0x000001C94719EE50>}\n"
     ]
    }
   ],
   "source": [
    "d={'double': lambda x: x*2, 'square': lambda x: x**2}\n",
    "print(d)"
   ]
  },
  {
   "cell_type": "markdown",
   "id": "b8f83d43-50ed-4b52-8df7-2900011fa60a",
   "metadata": {},
   "source": [
    "### Question 26: Apply each lambda function to 5"
   ]
  },
  {
   "cell_type": "code",
   "execution_count": 66,
   "id": "22a47f67-772b-43f0-9c3b-ae679ea43c97",
   "metadata": {},
   "outputs": [
    {
     "name": "stdout",
     "output_type": "stream",
     "text": [
      "double(5) = 10\n",
      "square(5) = 25\n"
     ]
    }
   ],
   "source": [
    "n=5\n",
    "d={'double': lambda x: x*2, 'square': lambda x: x**2}\n",
    "for i in d:\n",
    "    print(i + \"(\" + str(n) + \") = \" + str(d[i](n)))"
   ]
  },
  {
   "cell_type": "markdown",
   "id": "a685adcc-3031-4a9c-8ee8-c9ae5c269780",
   "metadata": {},
   "source": [
    "### Question 27: Create a dictionary with class values: {'list': list, 'dict': dict, 'set': set}\n"
   ]
  },
  {
   "cell_type": "code",
   "execution_count": 67,
   "id": "b18e354f-69ac-423a-bed6-e7728c72bd11",
   "metadata": {},
   "outputs": [
    {
     "name": "stdout",
     "output_type": "stream",
     "text": [
      "{'list': <class 'list'>, 'dict': <class 'dict'>, 'set': <class 'set'>}\n"
     ]
    }
   ],
   "source": [
    "d={'list': list, 'dict': dict, 'set': set}\n",
    "print(d)"
   ]
  },
  {
   "cell_type": "markdown",
   "id": "42bb19f6-72a4-45bd-9d1a-b14d549e853d",
   "metadata": {},
   "source": [
    "### Question 28: Create instances using class dictionary"
   ]
  },
  {
   "cell_type": "code",
   "execution_count": 68,
   "id": "d0c75e55-5daf-483b-8ab6-811559c368e1",
   "metadata": {},
   "outputs": [
    {
     "name": "stdout",
     "output_type": "stream",
     "text": [
      "List instance: [1, 2, 3]\n",
      "Dict instance: {'a': 1, 'b': 2}\n",
      "Set instance: {1, 2, 3}\n"
     ]
    }
   ],
   "source": [
    "d = {'list': list, 'dict': dict, 'set': set}\n",
    "\n",
    "# Creating instances\n",
    "list_instance = d['list']([1, 2, 3])\n",
    "dict_instance = d['dict'](a=1, b=2)\n",
    "set_instance = d['set']([1, 2, 2, 3])\n",
    "\n",
    "print(\"List instance:\", list_instance)\n",
    "print(\"Dict instance:\", dict_instance)\n",
    "print(\"Set instance:\", set_instance)\n"
   ]
  },
  {
   "cell_type": "markdown",
   "id": "fdfbcc3f-ee29-4806-b648-f6bb626e6787",
   "metadata": {},
   "source": [
    "### Question 29: Create a dictionary with None values: {'a': None, 'b': None, 'c': None}"
   ]
  },
  {
   "cell_type": "code",
   "execution_count": 69,
   "id": "5b524055-eea0-4499-9673-850d4f0dbb5b",
   "metadata": {},
   "outputs": [
    {
     "name": "stdout",
     "output_type": "stream",
     "text": [
      "{'a': None, 'b': None, 'c': None}\n"
     ]
    }
   ],
   "source": [
    "d={'a': None, 'b': None, 'c': None}\n",
    "print(d)"
   ]
  },
  {
   "cell_type": "markdown",
   "id": "c6114e70-3cfb-4853-842a-64d4f303d378",
   "metadata": {},
   "source": [
    "### Question 30: Replace all None values with 0"
   ]
  },
  {
   "cell_type": "code",
   "execution_count": 70,
   "id": "b9bac887-a4f0-4a80-9b11-fe2e1eaf8f41",
   "metadata": {},
   "outputs": [
    {
     "name": "stdout",
     "output_type": "stream",
     "text": [
      "{'a': 0, 'b': 0, 'c': 0}\n"
     ]
    }
   ],
   "source": [
    "d={'a': None, 'b': None, 'c': None}\n",
    "for i in d:\n",
    "    if d[i] is None:\n",
    "        d[i]=0\n",
    "print(d)"
   ]
  },
  {
   "cell_type": "markdown",
   "id": "7b5b039d-5da0-4ddc-be8d-894425319806",
   "metadata": {},
   "source": [
    "### Question 31: Create a dictionary with boolean values: {'is_active': True, 'is_admin': False}"
   ]
  },
  {
   "cell_type": "code",
   "execution_count": 71,
   "id": "ae683be3-5265-42ed-8ec5-55d7341c5a40",
   "metadata": {},
   "outputs": [
    {
     "name": "stdout",
     "output_type": "stream",
     "text": [
      "{'is_active': True, 'is_admin': False}\n"
     ]
    }
   ],
   "source": [
    "d={'is_active': True, 'is_admin': False}\n",
    "print(d)"
   ]
  },
  {
   "cell_type": "markdown",
   "id": "fa6f3107-ceac-427c-acb7-5128c7a73fad",
   "metadata": {},
   "source": [
    "### Question 32: Count True values in boolean dictionary"
   ]
  },
  {
   "cell_type": "code",
   "execution_count": 79,
   "id": "0069c2de-d2e0-4cb2-a73a-626f19114f11",
   "metadata": {},
   "outputs": [
    {
     "name": "stdout",
     "output_type": "stream",
     "text": [
      "1\n"
     ]
    }
   ],
   "source": [
    "d={'is_active': True, 'is_admin': False}\n",
    "count = 0\n",
    "for i in d.values():\n",
    "    if i is True:\n",
    "        count = count + 1\n",
    "print(count)"
   ]
  },
  {
   "cell_type": "markdown",
   "id": "becb9292-8e23-48d9-b2f4-d2cbe60822a8",
   "metadata": {},
   "source": [
    "### Question 33: Create a dictionary with complex numbers: {'z1': 3+4j, 'z2': 1+2j}"
   ]
  },
  {
   "cell_type": "code",
   "execution_count": 80,
   "id": "15dc8221-1d13-4d57-9566-03286a7484a6",
   "metadata": {},
   "outputs": [
    {
     "name": "stdout",
     "output_type": "stream",
     "text": [
      "{'z1': (3+4j), 'z2': (1+2j)}\n"
     ]
    }
   ],
   "source": [
    "d={'z1': 3+4j, 'z2': 1+2j}\n",
    "print(d)"
   ]
  },
  {
   "cell_type": "markdown",
   "id": "c26f5854-ac8d-4ad8-8221-d6a96a899f64",
   "metadata": {},
   "source": [
    "### Question 34: Find magnitude of each complex number"
   ]
  },
  {
   "cell_type": "code",
   "execution_count": 81,
   "id": "219d6524-21d1-4f66-9d3c-64bc0a313ad0",
   "metadata": {},
   "outputs": [
    {
     "name": "stdout",
     "output_type": "stream",
     "text": [
      "z1 magnitude: 5.0\n",
      "z2 magnitude: 2.23606797749979\n"
     ]
    }
   ],
   "source": [
    "import math\n",
    "\n",
    "d = {'z1': 3+4j, 'z2': 1+2j}\n",
    "\n",
    "for key, value in d.items():\n",
    "    magnitude = math.sqrt(value.real**2 + value.imag**2)\n",
    "    print(key, \"magnitude:\", magnitude)\n"
   ]
  },
  {
   "cell_type": "markdown",
   "id": "05edaf04-665d-4611-982a-05dec7e3795f",
   "metadata": {},
   "source": [
    "### Question 35: Create a 4-level nested dictionary"
   ]
  },
  {
   "cell_type": "code",
   "execution_count": 82,
   "id": "78ae11f1-4417-4937-99a6-f10fe4ee9216",
   "metadata": {},
   "outputs": [
    {
     "name": "stdout",
     "output_type": "stream",
     "text": [
      "{'level1': {'level2': {'level3': {'level4': 'deep value'}}}}\n"
     ]
    }
   ],
   "source": [
    "nested_dict = {\n",
    "    'level1': {\n",
    "        'level2': {\n",
    "            'level3': {\n",
    "                'level4': 'deep value'\n",
    "            }\n",
    "        }\n",
    "    }\n",
    "}\n",
    "\n",
    "print(nested_dict)\n"
   ]
  },
  {
   "cell_type": "markdown",
   "id": "29c30c91-b323-4600-93fa-10e479e7a24f",
   "metadata": {},
   "source": [
    "### Question 36: Access deepest value in 4-level nested dictionary"
   ]
  },
  {
   "cell_type": "code",
   "execution_count": 84,
   "id": "2c34ed41-1bce-4f7a-b283-6fc1df435273",
   "metadata": {},
   "outputs": [
    {
     "name": "stdout",
     "output_type": "stream",
     "text": [
      "deep value\n"
     ]
    }
   ],
   "source": [
    "nested_dict = {\n",
    "    'level1': {\n",
    "        'level2': {\n",
    "            'level3': {\n",
    "                'level4': 'deep value'\n",
    "            }\n",
    "        }\n",
    "    }\n",
    "}\n",
    "\n",
    "deep_value = nested_dict['level1']['level2']['level3']['level4']\n",
    "print(deep_value)\n"
   ]
  },
  {
   "cell_type": "markdown",
   "id": "9ac23e59-aaf7-489f-8a32-dd04a2af417a",
   "metadata": {},
   "source": [
    "### Question 37: Create a dictionary with range values: {'r1': range(3), 'r2': range(5)}\n"
   ]
  },
  {
   "cell_type": "code",
   "execution_count": 85,
   "id": "6de7488a-6f71-43cd-994e-6d578b2e2d21",
   "metadata": {},
   "outputs": [
    {
     "name": "stdout",
     "output_type": "stream",
     "text": [
      "{'r1': range(0, 3), 'r2': range(0, 5)}\n"
     ]
    }
   ],
   "source": [
    "d = {\n",
    "    'r1': range(3), \n",
    "    'r2': range(5)  \n",
    "}\n",
    "\n",
    "print(d)"
   ]
  },
  {
   "cell_type": "markdown",
   "id": "925ffb5a-1e9b-4662-83a4-e68220930c2a",
   "metadata": {},
   "source": [
    "### Question 38: Convert each range to list"
   ]
  },
  {
   "cell_type": "code",
   "execution_count": 86,
   "id": "f1214e92-62bb-46c8-bf95-b81e6fa64f3a",
   "metadata": {},
   "outputs": [
    {
     "name": "stdout",
     "output_type": "stream",
     "text": [
      "{'r1': [0, 1, 2], 'r2': [0, 1, 2, 3, 4]}\n"
     ]
    }
   ],
   "source": [
    "d = {'r1': range(3), 'r2': range(5)}\n",
    "\n",
    "for key in d:\n",
    "    d[key] = list(d[key])\n",
    "\n",
    "print(d)\n"
   ]
  },
  {
   "cell_type": "markdown",
   "id": "732b25cc-5b13-4300-a893-0477087d6998",
   "metadata": {},
   "source": [
    "### Question 39: Create a dictionary with generator values"
   ]
  },
  {
   "cell_type": "code",
   "execution_count": 87,
   "id": "5d165857-cf25-4081-b642-a2cdd9a51789",
   "metadata": {},
   "outputs": [
    {
     "name": "stdout",
     "output_type": "stream",
     "text": [
      "{'g1': <generator object <genexpr> at 0x000001C946F9CD60>, 'g2': <generator object <genexpr> at 0x000001C946F9C270>}\n"
     ]
    }
   ],
   "source": [
    "d = {\n",
    "    'g1': (x for x in range(3)),  # generates 0, 1, 2\n",
    "    'g2': (x for x in range(5))   # generates 0, 1, 2, 3, 4\n",
    "}\n",
    "\n",
    "print(d)\n"
   ]
  },
  {
   "cell_type": "markdown",
   "id": "8891df0d-da42-40f5-a569-47bae2534ad8",
   "metadata": {},
   "source": [
    "### Question 40: Convert each generator to list"
   ]
  },
  {
   "cell_type": "code",
   "execution_count": 89,
   "id": "8647f835-7ee9-4e38-a23f-ab4ef6f7a8aa",
   "metadata": {},
   "outputs": [
    {
     "name": "stdout",
     "output_type": "stream",
     "text": [
      "{'g1': [0, 1, 2], 'g2': [0, 1, 2, 3, 4]}\n"
     ]
    }
   ],
   "source": [
    "d = {\n",
    "    'g1': (x for x in range(3)),\n",
    "    'g2': (x for x in range(5))\n",
    "}\n",
    "\n",
    "for key in d:\n",
    "    d[key] = list(d[key])\n",
    "\n",
    "print(d)\n"
   ]
  },
  {
   "cell_type": "markdown",
   "id": "452aeda1-c418-4ff0-8ce0-b1acfafe8fb8",
   "metadata": {},
   "source": [
    "### Question 41: Create a dictionary with iterator values\n"
   ]
  },
  {
   "cell_type": "code",
   "execution_count": 90,
   "id": "8fb25a2b-b21f-4d27-81a9-89974e76face",
   "metadata": {},
   "outputs": [
    {
     "name": "stdout",
     "output_type": "stream",
     "text": [
      "{'it1': <list_iterator object at 0x000001C9463E3AF0>, 'it2': <list_iterator object at 0x000001C9463E3A00>}\n"
     ]
    }
   ],
   "source": [
    "d = {\n",
    "    'it1': iter([1, 2, 3]),\n",
    "    'it2': iter([4, 5, 6, 7])\n",
    "}\n",
    "\n",
    "print(d)\n"
   ]
  },
  {
   "cell_type": "markdown",
   "id": "327737f6-3f82-49bc-a1b5-b0e71eb55a07",
   "metadata": {},
   "source": [
    "### Question 42: Extract all elements from each iterator"
   ]
  },
  {
   "cell_type": "code",
   "execution_count": 91,
   "id": "697e440c-ed5b-4f83-838a-2007429e2c55",
   "metadata": {},
   "outputs": [
    {
     "name": "stdout",
     "output_type": "stream",
     "text": [
      "{'it1': [1, 2, 3], 'it2': [4, 5, 6, 7]}\n"
     ]
    }
   ],
   "source": [
    "d = {\n",
    "    'it1': iter([1, 2, 3]),\n",
    "    'it2': iter([4, 5, 6, 7])\n",
    "}\n",
    "\n",
    "for key in d:\n",
    "    d[key] = list(d[key])\n",
    "\n",
    "print(d)\n"
   ]
  },
  {
   "cell_type": "markdown",
   "id": "ac0282bc-5076-4b24-a59e-66dbf804800b",
   "metadata": {},
   "source": [
    "### Question 43: Create a dictionary with nested lists: {'matrix': [[1, 2], [3, 4]], 'vector': [5, 6, 7]}\n"
   ]
  },
  {
   "cell_type": "code",
   "execution_count": 93,
   "id": "24246856-0f0a-4e9a-b432-8e0d0d4c41df",
   "metadata": {},
   "outputs": [
    {
     "name": "stdout",
     "output_type": "stream",
     "text": [
      "{'matrix': [[1, 2], [3, 4]], 'vector': [5, 6, 7]}\n"
     ]
    }
   ],
   "source": [
    "d = {\n",
    "    'matrix': [[1, 2], [3, 4]],  # 2x2 nested list\n",
    "    'vector': [5, 6, 7]          # simple list\n",
    "}\n",
    "\n",
    "print(d)"
   ]
  },
  {
   "cell_type": "markdown",
   "id": "689a5b29-c832-420e-bf74-658e924730a2",
   "metadata": {},
   "source": [
    "### Question 44: Find sum of each nested list"
   ]
  },
  {
   "cell_type": "code",
   "execution_count": 94,
   "id": "47220e9d-4ad0-4bd3-806a-20791705d097",
   "metadata": {},
   "outputs": [
    {
     "name": "stdout",
     "output_type": "stream",
     "text": [
      "matrix sums of nested lists: [3, 7]\n",
      "vector sum: 18\n"
     ]
    }
   ],
   "source": [
    "d = {\n",
    "    'matrix': [[1, 2], [3, 4]],\n",
    "    'vector': [5, 6, 7]\n",
    "}\n",
    "\n",
    "for key, value in d.items():\n",
    "    # Check if the item is a list of lists (nested)\n",
    "    if all(isinstance(i, list) for i in value):\n",
    "        sums = [sum(sublist) for sublist in value]\n",
    "        print(key, \"sums of nested lists:\", sums)\n",
    "    else:\n",
    "        total = sum(value)\n",
    "        print(key, \"sum:\", total)\n"
   ]
  },
  {
   "cell_type": "markdown",
   "id": "55c2daf4-96b2-4636-81fe-125ec2f36122",
   "metadata": {},
   "source": [
    "### Question 45: Create a dictionary with nested dictionaries: {'config': {'db': {'host': 'localhost', 'port': 5432}}}"
   ]
  },
  {
   "cell_type": "code",
   "execution_count": 96,
   "id": "9d6c60c2-fec4-492a-a834-04f4142bee4c",
   "metadata": {},
   "outputs": [
    {
     "name": "stdout",
     "output_type": "stream",
     "text": [
      "{'config': {'db': {'host': 'localhost', 'port': 5432}}}\n"
     ]
    }
   ],
   "source": [
    "d = {\n",
    "    'config': {\n",
    "        'db': {\n",
    "            'host': 'localhost',\n",
    "            'port': 5432\n",
    "        }\n",
    "    }\n",
    "}\n",
    "\n",
    "print(d)"
   ]
  },
  {
   "cell_type": "markdown",
   "id": "6d9366d9-03e7-4b2a-b4ea-8892bc22f2d2",
   "metadata": {},
   "source": [
    "### Question 46: Access database port from nested configuration"
   ]
  },
  {
   "cell_type": "code",
   "execution_count": 97,
   "id": "5752c2ea-fecd-4732-9a0b-91c72c507b9f",
   "metadata": {},
   "outputs": [
    {
     "name": "stdout",
     "output_type": "stream",
     "text": [
      "5432\n"
     ]
    }
   ],
   "source": [
    "d = {\n",
    "    'config': {\n",
    "        'db': {\n",
    "            'host': 'localhost',\n",
    "            'port': 5432\n",
    "        }\n",
    "    }\n",
    "}\n",
    "\n",
    "db_port = d['config']['db']['port']\n",
    "print(db_port)\n"
   ]
  },
  {
   "cell_type": "markdown",
   "id": "9c834f8f-0dfe-45c4-8fb3-9b05a9eed69d",
   "metadata": {},
   "source": [
    "### Question 47: Create a dictionary with nested tuples: {'points': ((1, 2), (3, 4)), 'rgb': ((255, 0, 0), (0, 255, 0))}"
   ]
  },
  {
   "cell_type": "code",
   "execution_count": 98,
   "id": "002f17af-192b-4371-a18d-274767a79013",
   "metadata": {},
   "outputs": [
    {
     "name": "stdout",
     "output_type": "stream",
     "text": [
      "{'points': ((1, 2), (3, 4)), 'rgb': ((255, 0, 0), (0, 255, 0))}\n"
     ]
    }
   ],
   "source": [
    "d = {\n",
    "    'points': ((1, 2), (3, 4)),        # tuple of tuples\n",
    "    'rgb': ((255, 0, 0), (0, 255, 0))  # tuple of tuples\n",
    "}\n",
    "\n",
    "print(d)\n"
   ]
  },
  {
   "cell_type": "markdown",
   "id": "7d686e04-e0a7-4e58-a4ed-942276f324b7",
   "metadata": {},
   "source": [
    "### Question 48: Extract first point coordinates"
   ]
  },
  {
   "cell_type": "code",
   "execution_count": 99,
   "id": "ca8600d9-84ff-487e-ae99-5a4be20f06a3",
   "metadata": {},
   "outputs": [
    {
     "name": "stdout",
     "output_type": "stream",
     "text": [
      "(1, 2)\n"
     ]
    }
   ],
   "source": [
    "d = {\n",
    "    'points': ((1, 2), (3, 4)),\n",
    "    'rgb': ((255, 0, 0), (0, 255, 0))\n",
    "}\n",
    "\n",
    "first_point = d['points'][0]\n",
    "print(first_point)\n"
   ]
  },
  {
   "cell_type": "markdown",
   "id": "f19e68a6-aacf-4b80-881e-c045fabe9e8b",
   "metadata": {},
   "source": [
    "### Question 49: Create a dictionary with nested sets: {'groups': {{1, 2, 3}, {4, 5, 6}}, 'categories': {{'a', 'b'}, {'c', 'd'}}}"
   ]
  },
  {
   "cell_type": "code",
   "execution_count": 100,
   "id": "15cb52ec-d0ea-46b3-9b6d-7af407bc2696",
   "metadata": {},
   "outputs": [
    {
     "name": "stdout",
     "output_type": "stream",
     "text": [
      "{'groups': {frozenset({1, 2, 3}), frozenset({4, 5, 6})}, 'categories': {frozenset({'a', 'b'}), frozenset({'d', 'c'})}}\n"
     ]
    }
   ],
   "source": [
    "d = {\n",
    "    'groups': {frozenset({1, 2, 3}), frozenset({4, 5, 6})},\n",
    "    'categories': {frozenset({'a', 'b'}), frozenset({'c', 'd'})}\n",
    "}\n",
    "\n",
    "print(d)\n"
   ]
  },
  {
   "cell_type": "markdown",
   "id": "ca127c11-55b7-4946-b9db-b6ceaed9bbff",
   "metadata": {},
   "source": [
    "### Question 50: Find union of all nested sets"
   ]
  },
  {
   "cell_type": "code",
   "execution_count": 101,
   "id": "dff969c9-6c6a-4406-8dd4-40a41199a02e",
   "metadata": {},
   "outputs": [
    {
     "name": "stdout",
     "output_type": "stream",
     "text": [
      "{1, 2, 3, 4, 5, 6, 'd', 'b', 'c', 'a'}\n"
     ]
    }
   ],
   "source": [
    "d = {\n",
    "    'groups': {frozenset({1, 2, 3}), frozenset({4, 5, 6})},\n",
    "    'categories': {frozenset({'a', 'b'}), frozenset({'c', 'd'})}\n",
    "}\n",
    "\n",
    "# Union of all sets\n",
    "all_union = set()  # empty set to store result\n",
    "\n",
    "for key in d:\n",
    "    for s in d[key]:\n",
    "        all_union = all_union.union(s)\n",
    "\n",
    "print(all_union)\n"
   ]
  },
  {
   "cell_type": "code",
   "execution_count": null,
   "id": "7be8dd31-3984-4852-ba70-6017e49eb182",
   "metadata": {},
   "outputs": [],
   "source": []
  }
 ],
 "metadata": {
  "kernelspec": {
   "display_name": "Python 3 (ipykernel)",
   "language": "python",
   "name": "python3"
  },
  "language_info": {
   "codemirror_mode": {
    "name": "ipython",
    "version": 3
   },
   "file_extension": ".py",
   "mimetype": "text/x-python",
   "name": "python",
   "nbconvert_exporter": "python",
   "pygments_lexer": "ipython3",
   "version": "3.9.7"
  }
 },
 "nbformat": 4,
 "nbformat_minor": 5
}
