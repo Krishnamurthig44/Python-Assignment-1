{
 "cells": [
  {
   "cell_type": "markdown",
   "id": "bbffcf9a-f187-486e-92e6-4a323bb28956",
   "metadata": {},
   "source": [
    "### Question 1: Create complex number 5 + 3j"
   ]
  },
  {
   "cell_type": "code",
   "execution_count": 1,
   "id": "593c50e6-b304-4d1c-8999-5768e1e485f2",
   "metadata": {},
   "outputs": [
    {
     "name": "stdout",
     "output_type": "stream",
     "text": [
      "(5+3j)\n"
     ]
    }
   ],
   "source": [
    "c = 5 + 3j\n",
    "print(c)"
   ]
  },
  {
   "cell_type": "markdown",
   "id": "260c2f33-9ed3-4949-b439-62c17ce7a737",
   "metadata": {},
   "source": [
    "### Question 2: Find the real part of complex number 7 - 2j"
   ]
  },
  {
   "cell_type": "code",
   "execution_count": 2,
   "id": "746e8146-6c74-4a6c-9690-4c0268790cd6",
   "metadata": {},
   "outputs": [
    {
     "name": "stdout",
     "output_type": "stream",
     "text": [
      "7.0\n"
     ]
    }
   ],
   "source": [
    "c = 7 - 2j\n",
    "\n",
    "re = c.real\n",
    "print(re)\n"
   ]
  },
  {
   "cell_type": "markdown",
   "id": "6b6a39e6-1ae4-48a4-bb94-a966ce5f7866",
   "metadata": {},
   "source": [
    "### Question 3: Find the imaginary part of complex number 4 + 6j"
   ]
  },
  {
   "cell_type": "code",
   "execution_count": 4,
   "id": "ea2e8acb-4e67-408e-af94-9135359754fe",
   "metadata": {},
   "outputs": [
    {
     "name": "stdout",
     "output_type": "stream",
     "text": [
      "6.0\n"
     ]
    }
   ],
   "source": [
    "c = 4 + 6j\n",
    "\n",
    "imag = c.imag\n",
    "print(imag)\n"
   ]
  },
  {
   "cell_type": "markdown",
   "id": "9e383d7f-c5da-4d48-8b77-4e7e73e2d4b6",
   "metadata": {},
   "source": [
    "### Question 4: Add two complex numbers: (3 + 2j) and (1 + 4j)"
   ]
  },
  {
   "cell_type": "code",
   "execution_count": 5,
   "id": "d49d4b9d-7d28-4890-a6e9-6ad76445ab62",
   "metadata": {},
   "outputs": [
    {
     "name": "stdout",
     "output_type": "stream",
     "text": [
      "(4+6j)\n"
     ]
    }
   ],
   "source": [
    "z1 = 3 + 2j\n",
    "z2 = 1 + 4j\n",
    "\n",
    "result = z1 + z2\n",
    "print(result)\n"
   ]
  },
  {
   "cell_type": "markdown",
   "id": "bab6c533-3809-4d9f-ab0c-9937ed2895ad",
   "metadata": {},
   "source": [
    "### Question 5: Multiply two complex numbers: (2 + 3j) and (1 + 2j)"
   ]
  },
  {
   "cell_type": "code",
   "execution_count": 6,
   "id": "bf99265f-e8d7-4347-8a22-3d0bac041e5a",
   "metadata": {},
   "outputs": [
    {
     "name": "stdout",
     "output_type": "stream",
     "text": [
      "(-4+7j)\n"
     ]
    }
   ],
   "source": [
    "z1 = 2 + 3j\n",
    "z2 = 1 + 2j\n",
    "\n",
    "result = z1 * z2\n",
    "print(result)\n"
   ]
  },
  {
   "cell_type": "markdown",
   "id": "49f4982d-ee08-4b68-b00b-ce3c36fa3b01",
   "metadata": {},
   "source": [
    "### Question 6: Find the magnitude of complex number 6 + 8j"
   ]
  },
  {
   "cell_type": "code",
   "execution_count": 7,
   "id": "b5384509-3369-4524-a37c-58bb67978638",
   "metadata": {},
   "outputs": [
    {
     "name": "stdout",
     "output_type": "stream",
     "text": [
      "10.0\n"
     ]
    }
   ],
   "source": [
    "z = 6 + 8j\n",
    "\n",
    "magnitude = abs(z)\n",
    "print(magnitude)\n"
   ]
  },
  {
   "cell_type": "markdown",
   "id": "e8d61b53-3233-4bf6-9d89-29fa114c7f92",
   "metadata": {},
   "source": [
    "### Question 7: Find the conjugate of complex number 5 - 7j"
   ]
  },
  {
   "cell_type": "code",
   "execution_count": 8,
   "id": "21d0503c-e7b4-4421-8f37-5637be6d130e",
   "metadata": {},
   "outputs": [
    {
     "name": "stdout",
     "output_type": "stream",
     "text": [
      "(5+7j)\n"
     ]
    }
   ],
   "source": [
    "z = 5 - 7j\n",
    "\n",
    "conjugate = z.conjugate()\n",
    "print(conjugate)\n"
   ]
  },
  {
   "cell_type": "markdown",
   "id": "4cd6964f-0243-4dbb-a6af-9e91805b0181",
   "metadata": {},
   "source": [
    "### Question 8: Subtract complex numbers: (10 + 5j) - (3 + 2j)"
   ]
  },
  {
   "cell_type": "code",
   "execution_count": 9,
   "id": "6dec0216-450b-43b6-81b8-efbacb911f93",
   "metadata": {},
   "outputs": [
    {
     "name": "stdout",
     "output_type": "stream",
     "text": [
      "(7+3j)\n"
     ]
    }
   ],
   "source": [
    "z1 = 10 + 5j\n",
    "z2 = 3 + 2j\n",
    "\n",
    "result = z1 - z2\n",
    "print(result)\n"
   ]
  },
  {
   "cell_type": "markdown",
   "id": "24bbf879-9ed1-476d-999e-e1af3f5c25df",
   "metadata": {},
   "source": [
    "### Question 9: Divide complex numbers: (8 + 6j) / (2 + 1j)\n"
   ]
  },
  {
   "cell_type": "code",
   "execution_count": 10,
   "id": "87c780f7-4b26-4312-a5f8-564bb0f1a129",
   "metadata": {},
   "outputs": [
    {
     "name": "stdout",
     "output_type": "stream",
     "text": [
      "(4.4+0.8j)\n"
     ]
    }
   ],
   "source": [
    "z1 = 8 + 6j\n",
    "z2 = 2 + 1j\n",
    "\n",
    "result = z1 / z2\n",
    "print(result)\n"
   ]
  },
  {
   "cell_type": "markdown",
   "id": "2cc6ae21-acd8-463e-96d3-e3bf7cc7f7e6",
   "metadata": {},
   "source": [
    "### Question 10: Find the phase angle of complex number 1 + 1j"
   ]
  },
  {
   "cell_type": "code",
   "execution_count": 11,
   "id": "8780b2f4-b429-4225-8985-4b807bf224c5",
   "metadata": {},
   "outputs": [
    {
     "name": "stdout",
     "output_type": "stream",
     "text": [
      "0.7853981633974483\n"
     ]
    }
   ],
   "source": [
    "import cmath\n",
    "\n",
    "z = 1 + 1j\n",
    "\n",
    "phase_angle = cmath.phase(z)\n",
    "print(phase_angle)\n"
   ]
  },
  {
   "cell_type": "code",
   "execution_count": null,
   "id": "933dc466-07c7-42d5-ad6a-08ec7d35b257",
   "metadata": {},
   "outputs": [],
   "source": []
  }
 ],
 "metadata": {
  "kernelspec": {
   "display_name": "Python 3 (ipykernel)",
   "language": "python",
   "name": "python3"
  },
  "language_info": {
   "codemirror_mode": {
    "name": "ipython",
    "version": 3
   },
   "file_extension": ".py",
   "mimetype": "text/x-python",
   "name": "python",
   "nbconvert_exporter": "python",
   "pygments_lexer": "ipython3",
   "version": "3.9.7"
  }
 },
 "nbformat": 4,
 "nbformat_minor": 5
}
